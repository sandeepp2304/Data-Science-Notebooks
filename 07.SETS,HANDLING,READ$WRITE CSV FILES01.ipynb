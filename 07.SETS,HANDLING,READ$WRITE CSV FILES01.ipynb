{
 "cells": [
  {
   "cell_type": "markdown",
   "metadata": {},
   "source": [
    "###  Sets\n",
    "1. A set is an unordered collection of items. Every element is unique (no duplicates) and must be immutable (which cannot be changed).\n",
    "\n",
    "2. However, the set itself is mutable. We can add or remove items from it.\n",
    "\n",
    "3. Sets can be used to perform mathematical set operations like union, intersection, symmetric difference etc.\n",
    "\n",
    "4. Sets doesn't support indexing\n",
    "\n",
    "#####  Set Methods \n",
    "1. add() # add a single item to the set\n",
    "2. update() # adds multiple items to the set\n",
    "3. discard() # discards a element from the set, doesn't throw error is element doesn't exist\n",
    "4. remove() # removes a element fromt the set and throws KeyError if element doesn't exist\n",
    "5. pop() # remove and return a random element from the set\n",
    "6. clear() # clears the entire set\n"
   ]
  },
  {
   "cell_type": "code",
   "execution_count": 1,
   "metadata": {},
   "outputs": [
    {
     "name": "stdout",
     "output_type": "stream",
     "text": [
      "{1, 2, 3}\n",
      "{1, 'Hello', (1, 2, 3)}\n",
      "{('aa', 'bb'), 1, 'Hello', (1, 2, 3)}\n",
      "set()\n",
      "{1}\n",
      "{1, 2, 3}\n",
      "{1, 2, 3}\n",
      "{1, 3}\n",
      "{1}\n",
      "{'o', 'r', 'W', 'l', 'd', 'e', 'H'}\n",
      "o\n",
      "r\n",
      "W\n",
      "set()\n"
     ]
    }
   ],
   "source": [
    "# Create sets\n",
    "mySet = {1,2,3}\n",
    "print(mySet)\n",
    "\n",
    "# Create mixed set\n",
    "mixSet = {1,\"Hello\", (1,2,3)}\n",
    "print(mixSet)\n",
    "\n",
    "mixSet.add(('aa','bb'))\n",
    "print(mixSet)\n",
    "\n",
    "# create empty set\n",
    "s = set()\n",
    "print(s)\n",
    "\n",
    "# add  an element to set using add() method\n",
    "s.add(1)\n",
    "print(s)\n",
    "\n",
    "#add multiple elements using update() method\n",
    "l = list((1,2,3))\n",
    "s.update(l)\n",
    "print(s)\n",
    "d = {1:\"Hannu\", 2:\"Prasad\"}\n",
    "s.update(d)\n",
    "print(s)\n",
    "\n",
    "# to discard element from set use discard()\n",
    "s.discard(2) # discarded element 2\n",
    "s.discard(2) # discarding non existing element gives no error\n",
    "s.discard(\"hannu\")\n",
    "print(s)\n",
    "\n",
    "# to remove element from set use remove()\n",
    "s.remove(3)\n",
    "#s.remove(3) # removing non existing element throws  KeyError\n",
    "print(s)\n",
    "\n",
    "#we can remove and return a random item using the pop() method.\n",
    "my_set = set(\"HelloWorld\")\n",
    "print(my_set)\n",
    "print(my_set.pop())\n",
    "print(my_set.pop())\n",
    "print(my_set.pop())\n",
    "\n",
    "# clear entire all elements in a set using clear() method\n",
    "my_set.clear()\n",
    "print(my_set)\n",
    "\n",
    "del(my_set) # deletes set\n"
   ]
  },
  {
   "cell_type": "code",
   "execution_count": null,
   "metadata": {},
   "outputs": [],
   "source": [
    "\n",
    "import os\n",
    "print(os.getcwd()) # prints current working directory\n",
    "\n",
    "#os.chdir(path) # to change path of current working directory\n"
   ]
  },
  {
   "cell_type": "markdown",
   "metadata": {},
   "source": [
    "###  Set Operations\n",
    "\n",
    "1. union : | operator\n",
    "2. intersection: & operator\n",
    "3. difference: - operator\n",
    "4. symmetric differance: ^ operator"
   ]
  },
  {
   "cell_type": "code",
   "execution_count": 64,
   "metadata": {},
   "outputs": [
    {
     "name": "stdout",
     "output_type": "stream",
     "text": [
      "{1, 2, 3, 4, 5, 6, 7}\n",
      "{1, 3, 6, 7, 8, 9, 10}\n",
      "{1, 2, 3, 4, 5, 6, 7, 8, 9, 10}\n",
      "{1, 3, 6, 7}\n",
      "{2, 4, 5}\n",
      "{8, 9, 10}\n",
      "{2, 4, 5, 8, 9, 10}\n"
     ]
    }
   ],
   "source": [
    "set1 = {1,2,3,4,5,6,7}\n",
    "set2 = {6,7,8,9,10,1,3}\n",
    "print(set1)\n",
    "print(set2)\n",
    "\n",
    "print(set1 | set2) # union of two sets\n",
    "\n",
    "print(set1 & set2) # intersection of two sets\n",
    "\n",
    "print(set1 - set2) #  displays only elements of set1 that are not in set2\n",
    "print(set2 - set1) # displays only elements of set2 that are not in set1\n",
    "\n",
    "print(set1 ^ set2) # print Symmetric differance of two sets i.e elements that are not common in both sets"
   ]
  },
  {
   "cell_type": "markdown",
   "metadata": {},
   "source": [
    "###  File Operations\n",
    "1. open a file\n",
    "    syntax: fileName = open(path)\n",
    "2. read/write from/to file\n",
    "3. close file"
   ]
  },
  {
   "cell_type": "markdown",
   "metadata": {},
   "source": [
    "#### Different ways of opening a file\n",
    "1. 'r'\tOpen a file for reading. (default).\n",
    "2. 'w'\tOpen a file for writing. Creates a new file if it does not exist or truncates the file if it exists.\n",
    "3. 'x'\tOpen a file for exclusive creation. If the file already exists, the operation fails.\n",
    "4. 'a'\tOpen for appending at the end of the file without truncating it. Creates a new file if it does not exist.\n",
    "5. 't'\tOpen in text mode. (default)\n",
    "6. 'b'\tOpen in binary mode.\n",
    "7. '+'\tOpen a file for updating (reading and writing)\n"
   ]
  },
  {
   "cell_type": "code",
   "execution_count": 15,
   "metadata": {},
   "outputs": [
    {
     "name": "stdout",
     "output_type": "stream",
     "text": [
      "This is my first file\n",
      "This file\n",
      "contains three lines\n"
     ]
    }
   ],
   "source": [
    "# Open a file\n",
    "\n",
    "file = open(\"text.txt\")\n",
    "print(file.read())\n",
    "\n",
    "# read from a file\n"
   ]
  },
  {
   "cell_type": "code",
   "execution_count": 16,
   "metadata": {},
   "outputs": [],
   "source": [
    "# writing to a file\n",
    "str = \" This is the first line\"\n",
    "with open(\"text1.txt\", 'w') as myFile : \n",
    "    myFile.write(str)\n",
    "\n",
    "# closing the file\n",
    "myFile.close()"
   ]
  },
  {
   "cell_type": "markdown",
   "metadata": {},
   "source": [
    "####  file operations\n",
    "1. read() : reads charecters upto specified length\n",
    "2. write() : writes data to the file \n",
    "3. tell() : gives the current position of the cursor in file\n",
    "4. seek() : puts cursor at the desired location in file\n",
    "5. remove() : removes/ deletes the file\n"
   ]
  },
  {
   "cell_type": "code",
   "execution_count": 19,
   "metadata": {},
   "outputs": [
    {
     "name": "stdout",
     "output_type": "stream",
     "text": [
      " This is the first lin\n",
      "22\n",
      "s is the first lin\n"
     ]
    }
   ],
   "source": [
    "file = open(\"text1.txt\", 'r')  #opened for both read operation\n",
    "print(file.read(22)) # reads first 22 charecters\n",
    "\n",
    "print(file.tell()) # gives the positon of the cursor in file\n",
    "file.seek(4) # puts the cursor at the 4th position in file\n",
    "print(file.read(18)) # reads 18 chars from 4th positon of file\n",
    "\n",
    "file.close() # closes the file"
   ]
  },
  {
   "cell_type": "markdown",
   "metadata": {},
   "source": [
    "###  Directory operations (import os)\n",
    "1. os.getcwd() : Gives current working directory\n",
    "2. os.listdir() : Gives list of all directories and files in the current directory\n",
    "3. os.mkdir() : Creates new directory\n",
    "4. os.rename(old, new) : renames the old directory with new name\n",
    "5. os.rmdir(name) : removes the empty directory with given name"
   ]
  },
  {
   "cell_type": "code",
   "execution_count": null,
   "metadata": {},
   "outputs": [],
   "source": [
    "import os\n",
    "\n",
    "os.getcwd()  # gets the current working directory\n",
    "\n",
    "#os.mkdir(\"new\")\n",
    "\n",
    "#os.rename(\"new\", \"Updated\") #changes the directory name\n",
    "\n",
    "#os.rmdir(\"Updated\")\n",
    "\n",
    "os.listdir() # lists all files/ directories of the current directory\n",
    "\n"
   ]
  },
  {
   "cell_type": "code",
   "execution_count": null,
   "metadata": {},
   "outputs": [],
   "source": [
    "import shutil as shu\n",
    "\n",
    "shu.rmtree(\"new\") # removes entire directory with files and folders\n",
    "\n",
    "\n"
   ]
  },
  {
   "cell_type": "code",
   "execution_count": 1,
   "metadata": {},
   "outputs": [
    {
     "name": "stdout",
     "output_type": "stream",
     "text": [
      "Please enter your name: prasad\n",
      "Hi... prasad, Good Morning\n"
     ]
    }
   ],
   "source": [
    "urName = input(\"Please enter your name: \")\n",
    "\n",
    "print(\"Hi... %s, Good Morning\" %(urName))"
   ]
  },
  {
   "cell_type": "code",
   "execution_count": 2,
   "metadata": {},
   "outputs": [
    {
     "name": "stdout",
     "output_type": "stream",
     "text": [
      "Enter your input :[x*5 for x in range(2,10,2)]\n",
      "Your input: [x*5 for x in range(2,10,2)]\n"
     ]
    }
   ],
   "source": [
    "urInput = input(\"Enter your input :\")\n",
    "print(\"Your input: %s\" %(urInput))"
   ]
  },
  {
   "cell_type": "code",
   "execution_count": 7,
   "metadata": {},
   "outputs": [
    {
     "name": "stdout",
     "output_type": "stream",
     "text": [
      "Name of the file: new.txt \n",
      "Closed or not :  False\n",
      "Opening mode : wb \n"
     ]
    }
   ],
   "source": [
    "# Open a file\n",
    "fo = open(\"new.txt\", \"wb\")\n",
    "print(\"Name of the file: %s \" %(fo.name))\n",
    "print(\"Closed or not :  %s\" %( fo.closed))\n",
    "print (\"Opening mode : %s \"%(fo.mode))\n",
    "#print (\"Softspace flag : %s\" %( fo.softspace))"
   ]
  },
  {
   "cell_type": "markdown",
   "metadata": {},
   "source": [
    "### Handling csv files in Python\n",
    "1. Import CSV file\n",
    "Syntax: file object = open(file_name [, access_mode][, buffering])\n",
    "\n",
    "\n",
    "2. Export CSV file"
   ]
  },
  {
   "cell_type": "markdown",
   "metadata": {},
   "source": [
    "####  Reader modules:\n",
    "\n",
    "1. CSV Reader function:\n",
    "2. csv.reader module takes the folowing parameters:\n",
    "3. csvFile : This is usually an object which suppots the iteration protocol and usually returns a string each time\n",
    "4. dialet = \"excel\": an optional parameter used to define a set of parameters speciic to a particular CSV\n",
    "5. fmtparams: an optional parameter  that can be used to override existing formatting parameters.\n",
    "\n",
    "\n",
    "    "
   ]
  },
  {
   "cell_type": "code",
   "execution_count": 24,
   "metadata": {},
   "outputs": [
    {
     "name": "stdout",
     "output_type": "stream",
     "text": [
      "['hannu', ' 32', ' Hyderabad']\n",
      "hannu\n",
      "hannu  32  Hyderabad\n",
      "['prasad', ' 34', ' Bangalore']\n",
      "prasad\n",
      "prasad  34  Bangalore\n",
      "['surya', ' 33', ' Pune']\n",
      "surya\n",
      "surya  33  Pune\n"
     ]
    }
   ],
   "source": [
    "# Importing csv file\n",
    "import csv\n",
    "\n",
    "with open(\"test.csv\") as csvFile:\n",
    "    readCSV = csv.reader(csvFile, delimiter = ',')\n",
    "    for line in readCSV:\n",
    "        print(line)\n",
    "        print(line[0])         \n",
    "        print(line[0],line[1],line[2])\n",
    "        \n",
    "        "
   ]
  },
  {
   "cell_type": "code",
   "execution_count": 22,
   "metadata": {},
   "outputs": [
    {
     "ename": "NameError",
     "evalue": "name 'age' is not defined",
     "output_type": "error",
     "traceback": [
      "\u001b[1;31m---------------------------------------------------------------------------\u001b[0m",
      "\u001b[1;31mNameError\u001b[0m                                 Traceback (most recent call last)",
      "\u001b[1;32m<ipython-input-22-8ce4a5c11b56>\u001b[0m in \u001b[0;36m<module>\u001b[1;34m()\u001b[0m\n\u001b[0;32m      8\u001b[0m     \u001b[1;32mfor\u001b[0m \u001b[0mline\u001b[0m \u001b[1;32min\u001b[0m \u001b[0mreadCSV\u001b[0m\u001b[1;33m:\u001b[0m\u001b[1;33m\u001b[0m\u001b[0m\n\u001b[0;32m      9\u001b[0m         \u001b[0mname\u001b[0m\u001b[1;33m.\u001b[0m\u001b[0mappend\u001b[0m\u001b[1;33m(\u001b[0m\u001b[0mline\u001b[0m\u001b[1;33m[\u001b[0m\u001b[1;36m0\u001b[0m\u001b[1;33m]\u001b[0m\u001b[1;33m)\u001b[0m \u001b[1;31m#gets first column data and appends it to names list\u001b[0m\u001b[1;33m\u001b[0m\u001b[0m\n\u001b[1;32m---> 10\u001b[1;33m         \u001b[0mage\u001b[0m\u001b[1;33m.\u001b[0m\u001b[0mappend\u001b[0m\u001b[1;33m(\u001b[0m\u001b[0mline\u001b[0m\u001b[1;33m[\u001b[0m\u001b[1;36m1\u001b[0m\u001b[1;33m]\u001b[0m\u001b[1;33m)\u001b[0m \u001b[1;31m#gets second column data and appends it to age list\u001b[0m\u001b[1;33m\u001b[0m\u001b[0m\n\u001b[0m\u001b[0;32m     11\u001b[0m         \u001b[0maddress\u001b[0m\u001b[1;33m.\u001b[0m\u001b[0mappend\u001b[0m\u001b[1;33m(\u001b[0m\u001b[0mline\u001b[0m\u001b[1;33m[\u001b[0m\u001b[1;36m2\u001b[0m\u001b[1;33m]\u001b[0m\u001b[1;33m)\u001b[0m \u001b[1;31m#gets third column data and appends it to address list\u001b[0m\u001b[1;33m\u001b[0m\u001b[0m\n\u001b[0;32m     12\u001b[0m \u001b[1;33m\u001b[0m\u001b[0m\n",
      "\u001b[1;31mNameError\u001b[0m: name 'age' is not defined"
     ]
    }
   ],
   "source": [
    "import csv\n",
    "\n",
    "with open(\"text.csv\") as csvFile:\n",
    "    readCSV = csv.reader(csvFile, delimiter = ',')\n",
    "    name = []\n",
    "    first_name = []\n",
    "    last_name= []\n",
    "    for line in readCSV:\n",
    "        name.append(line[0]) #gets first column data and appends it to names list\n",
    "        first_name.append(line[1]) #gets second column data and appends it to age list\n",
    "        address.append(line[2]) #gets third column data and appends it to address list\n",
    "            \n",
    "print(name)\n",
    "print(first_name)\n",
    "print(last_name)\n",
    "        "
   ]
  },
  {
   "cell_type": "markdown",
   "metadata": {},
   "source": [
    "### Writer module:\n",
    "    \n",
    "1. CSV Writer function:\n",
    "2. This module is similar to the csv.reader module and is used to write data to a CSV. It takes three parameters:\n",
    "3. csvfile: This can be any object with a write() method.\n",
    "4. dialect='excel': An optional parameter used to define a set of parameters specific to a particular CSV.\n",
    "5. fmtparam: An optional parameter that can be used to override existing formatting parameters."
   ]
  },
  {
   "cell_type": "code",
   "execution_count": 43,
   "metadata": {},
   "outputs": [],
   "source": [
    "import csv\n",
    "\n",
    "l = ['Siva', ' 32', ' Chennai']\n",
    "myFile = open('test.csv', 'w')  \n",
    "with myFile:  \n",
    "   writer = csv.writer(myFile)\n",
    "   writer.writerows(l)"
   ]
  },
  {
   "cell_type": "code",
   "execution_count": 44,
   "metadata": {},
   "outputs": [],
   "source": [
    "import csv\n",
    "\n",
    "myData = [[1, 2, 3], ['Good Morning', 'Good Evening', 'Good Afternoon']]  \n",
    "myFile = open('csvexample.csv', 'w')  \n",
    "with myFile:  \n",
    "   writer = csv.writer(myFile)\n",
    "   writer.writerows(myData)"
   ]
  },
  {
   "cell_type": "markdown",
   "metadata": {},
   "source": [
    "### DictReader and DictWriter Classes\n",
    "----------------------------------\n",
    "The DictReader and DictWriter are classes available in Python for reading and writing to CSV. Although they are similar to the reader and writer functions, these classes use dictionary objects to read and write to csv files.\n",
    "\n",
    "DictReader class\n",
    "\n",
    "It creates an object which maps the information read into a dictionary whose keys are given by the fieldnames parameter. This parameter is optional, but when not specified in the file, the first row data becomes the keys of the dictionary.\n",
    "\n",
    "\n"
   ]
  },
  {
   "cell_type": "code",
   "execution_count": null,
   "metadata": {},
   "outputs": [],
   "source": []
  },
  {
   "cell_type": "code",
   "execution_count": 46,
   "metadata": {},
   "outputs": [
    {
     "name": "stdout",
     "output_type": "stream",
     "text": [
      "30\n",
      "New York\n"
     ]
    }
   ],
   "source": [
    "import json\n",
    "\n",
    "# some JSON:\n",
    "x =  '{ \"name\":\"John\", \"age\":30, \"city\":\"New York\"}'\n",
    "\n",
    "# parse x:\n",
    "y = json.loads(x)\n",
    "\n",
    "# the result is a Python dictionary:\n",
    "print(y[\"age\"])\n",
    "print(y[\"city\"])"
   ]
  },
  {
   "cell_type": "code",
   "execution_count": 47,
   "metadata": {},
   "outputs": [
    {
     "name": "stdout",
     "output_type": "stream",
     "text": [
      "{\"name\": \"John\", \"age\": 30, \"city\": \"New York\"}\n"
     ]
    }
   ],
   "source": [
    "#Convert from Python to JSON\n",
    "\n",
    "import json\n",
    "\n",
    "# a Python object (dict):\n",
    "x = {\n",
    "  \"name\": \"John\",\n",
    "  \"age\": 30,\n",
    "  \"city\": \"New York\"\n",
    "}\n",
    "\n",
    "# convert into JSON:\n",
    "y = json.dumps(x)\n",
    "\n",
    "# the result is a JSON string:\n",
    "print(y)\n"
   ]
  },
  {
   "cell_type": "markdown",
   "metadata": {},
   "source": [
    "#### When you convert from Python to JSON, Python objects are converted into the JSON (JavaScript) equivalent:\n",
    "\n",
    "1. Python\tJSON\n",
    "2. dict \tObject\n",
    "3. list\t    Array\n",
    "4. tuple\tArray\n",
    "5. str\t    String\n",
    "6. int\t    Number\n",
    "7. float\tNumber\n",
    "8. True\t    true\n",
    "9. False\tfalse\n",
    "10. None    Null"
   ]
  },
  {
   "cell_type": "code",
   "execution_count": 48,
   "metadata": {},
   "outputs": [
    {
     "name": "stdout",
     "output_type": "stream",
     "text": [
      "{\"name\": \"John\", \"age\": 30}\n",
      "[\"apple\", \"bananas\"]\n",
      "[\"apple\", \"bananas\"]\n",
      "\"hello\"\n",
      "42\n",
      "31.76\n",
      "true\n",
      "false\n",
      "null\n"
     ]
    }
   ],
   "source": [
    "#Convert Python objects into JSON strings, and print the values:\n",
    "\n",
    "\n",
    "import json\n",
    "\n",
    "print(json.dumps({\"name\": \"John\", \"age\": 30}))\n",
    "print(json.dumps([\"apple\", \"bananas\"]))\n",
    "print(json.dumps((\"apple\", \"bananas\")))\n",
    "print(json.dumps(\"hello\"))\n",
    "print(json.dumps(42))\n",
    "print(json.dumps(31.76))\n",
    "print(json.dumps(True))\n",
    "print(json.dumps(False))\n",
    "print(json.dumps(None))"
   ]
  },
  {
   "cell_type": "code",
   "execution_count": 56,
   "metadata": {},
   "outputs": [
    {
     "name": "stdout",
     "output_type": "stream",
     "text": [
      "{\"name\": \"John\", \"age\": 30, \"married\": true, \"divorced\": false, \"children\": [\"Ann\", \"Billy\"], \"pets\": null, \"cars\": [{\"model\": \"BMW 230\", \"mpg\": 27.5}, {\"model\": \"Ford Edge\", \"mpg\": 24.1}]}\n"
     ]
    }
   ],
   "source": [
    "#Convert a Python object containing all the legal data types:\n",
    "\n",
    "import json\n",
    "\n",
    "x = {\n",
    "  \"name\": \"John\",\n",
    "  \"age\": 30,\n",
    "  \"married\": True,\n",
    "  \"divorced\": False,\n",
    "  \"children\": (\"Ann\",\"Billy\"),\n",
    "  \"pets\": None,\n",
    "  \"cars\": [\n",
    "    {\"model\": \"BMW 230\", \"mpg\": 27.5},\n",
    "    {\"model\": \"Ford Edge\", \"mpg\": 24.1}\n",
    "  ]\n",
    "}\n",
    "\n",
    "print(json.dumps(x))\n"
   ]
  },
  {
   "cell_type": "code",
   "execution_count": 53,
   "metadata": {},
   "outputs": [
    {
     "data": {
      "text/plain": [
       "'{\\n    \"name\": \"John\",\\n    \"age\": 30,\\n    \"married\": true,\\n    \"divorced\": false,\\n    \"children\": [\\n        \"Ann\",\\n        \"Billy\"\\n    ],\\n    \"pets\": null,\\n    \"cars\": [\\n        {\\n            \"model\": \"BMW 230\",\\n            \"mpg\": 27.5\\n        },\\n        {\\n            \"model\": \"Ford Edge\",\\n            \"mpg\": 24.1\\n        }\\n    ]\\n}'"
      ]
     },
     "execution_count": 53,
     "metadata": {},
     "output_type": "execute_result"
    }
   ],
   "source": [
    "#Use the indent parameter to define the numbers of indents:\n",
    "\n",
    "json.dumps(x, indent=4)\n"
   ]
  },
  {
   "cell_type": "code",
   "execution_count": 54,
   "metadata": {},
   "outputs": [
    {
     "data": {
      "text/plain": [
       "'{\\n    \"name\" = \"John\". \\n    \"age\" = 30. \\n    \"married\" = true. \\n    \"divorced\" = false. \\n    \"children\" = [\\n        \"Ann\". \\n        \"Billy\"\\n    ]. \\n    \"pets\" = null. \\n    \"cars\" = [\\n        {\\n            \"model\" = \"BMW 230\". \\n            \"mpg\" = 27.5\\n        }. \\n        {\\n            \"model\" = \"Ford Edge\". \\n            \"mpg\" = 24.1\\n        }\\n    ]\\n}'"
      ]
     },
     "execution_count": 54,
     "metadata": {},
     "output_type": "execute_result"
    }
   ],
   "source": [
    "#Use the separators parameter change the default separator:\n",
    "\n",
    "json.dumps(x, indent=4, separators=(\". \", \" = \"))\n"
   ]
  },
  {
   "cell_type": "code",
   "execution_count": 55,
   "metadata": {},
   "outputs": [
    {
     "data": {
      "text/plain": [
       "'{\\n    \"age\": 30,\\n    \"cars\": [\\n        {\\n            \"model\": \"BMW 230\",\\n            \"mpg\": 27.5\\n        },\\n        {\\n            \"model\": \"Ford Edge\",\\n            \"mpg\": 24.1\\n        }\\n    ],\\n    \"children\": [\\n        \"Ann\",\\n        \"Billy\"\\n    ],\\n    \"divorced\": false,\\n    \"married\": true,\\n    \"name\": \"John\",\\n    \"pets\": null\\n}'"
      ]
     },
     "execution_count": 55,
     "metadata": {},
     "output_type": "execute_result"
    }
   ],
   "source": [
    "#Use the sort_keys parameter to specify if the result should be sorted or not:\n",
    "\n",
    "json.dumps(x, indent=4, sort_keys=True)"
   ]
  },
  {
   "cell_type": "code",
   "execution_count": 63,
   "metadata": {},
   "outputs": [
    {
     "name": "stdout",
     "output_type": "stream",
     "text": [
      "{'header': 'SVG Viewer', 'items': [{'id': 'Open'}, {'id': 'OpenNew', 'label': 'Open New'}, None, {'id': 'ZoomIn', 'label': 'Zoom In'}, {'id': 'ZoomOut', 'label': 'Zoom Out'}, {'id': 'OriginalView', 'label': 'Original View'}, None, {'id': 'Quality'}, {'id': 'Pause'}, {'id': 'Mute'}, None, {'id': 'Find', 'label': 'Find...'}, {'id': 'FindAgain', 'label': 'Find Again'}, {'id': 'Copy'}, {'id': 'CopyAgain', 'label': 'Copy Again'}, {'id': 'CopySVG', 'label': 'Copy SVG'}, {'id': 'ViewSVG', 'label': 'View SVG'}, {'id': 'ViewSource', 'label': 'View Source'}, {'id': 'SaveAs', 'label': 'Save As'}, None, {'id': 'Help'}, {'id': 'About', 'label': 'About Adobe CVG Viewer...'}]}\n"
     ]
    }
   ],
   "source": [
    "# importing json file \n",
    "\n",
    "import json\n",
    "\n",
    "with open(\"new.json\",'r') as jsonFile:\n",
    "    jsonData = json.load(jsonFile)\n",
    "\n",
    "for line in jsonData:\n",
    "    print(jsonData[line])"
   ]
  },
  {
   "cell_type": "markdown",
   "metadata": {},
   "source": [
    "###  Python PIP\n",
    "1. PIP is a package manager for python packages, or modules \n",
    "2. A package contains all the files you need for a module\n",
    "3. Modules are Python code libraries you can include in your project\n",
    "4. To check if PIP is installed GOTO -> Terminal -> pip --version\n",
    "\n"
   ]
  }
 ],
 "metadata": {
  "kernelspec": {
   "display_name": "Python 3",
   "language": "python",
   "name": "python3"
  },
  "language_info": {
   "codemirror_mode": {
    "name": "ipython",
    "version": 3
   },
   "file_extension": ".py",
   "mimetype": "text/x-python",
   "name": "python",
   "nbconvert_exporter": "python",
   "pygments_lexer": "ipython3",
   "version": "3.6.5"
  }
 },
 "nbformat": 4,
 "nbformat_minor": 2
}
