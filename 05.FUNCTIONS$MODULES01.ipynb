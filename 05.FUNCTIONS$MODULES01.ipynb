{
 "cells": [
  {
   "cell_type": "markdown",
   "metadata": {},
   "source": [
    "# FUNCTIONS"
   ]
  },
  {
   "cell_type": "code",
   "execution_count": 8,
   "metadata": {},
   "outputs": [],
   "source": [
    "def hello():\n",
    "    print(\"Hello World\")"
   ]
  },
  {
   "cell_type": "code",
   "execution_count": 10,
   "metadata": {},
   "outputs": [
    {
     "name": "stdout",
     "output_type": "stream",
     "text": [
      "7\n"
     ]
    }
   ],
   "source": [
    "def plus(a,b):\n",
    "    \"\"\"these is add function\"\"\"\n",
    "    sum = a + b\n",
    "    return (sum)\n",
    "sum= plus(3,4)\n",
    "print(sum)\n"
   ]
  },
  {
   "cell_type": "code",
   "execution_count": 24,
   "metadata": {},
   "outputs": [
    {
     "name": "stdout",
     "output_type": "stream",
     "text": [
      "good boy\n"
     ]
    }
   ],
   "source": [
    "# Function definition is here\n",
    "def printme( str ):\n",
    "   \"This prints a passed string into this function\"\n",
    "   print (str)\n",
    "   return\n",
    "\n",
    "# Now you can call printme function\n",
    "printme(\"good boy\")"
   ]
  },
  {
   "cell_type": "code",
   "execution_count": 11,
   "metadata": {},
   "outputs": [
    {
     "name": "stdout",
     "output_type": "stream",
     "text": [
      "This is first call to the user defined function!\n",
      "Again second call to the same function\n"
     ]
    }
   ],
   "source": [
    "# Function definition is here\n",
    "def printme( str ):\n",
    "   \"This prints a passed string into this function\"\n",
    "   print (str)\n",
    "   return\n",
    "# Now you can call printme function\n",
    "printme(\"This is first call to the user defined function!\")\n",
    "printme(\"Again second call to the same function\")"
   ]
  },
  {
   "cell_type": "code",
   "execution_count": 58,
   "metadata": {},
   "outputs": [
    {
     "name": "stdout",
     "output_type": "stream",
     "text": [
      "Values inside the function before change:  [10, 20, 30]\n",
      "Values inside the function after change:  [10, 20, 50]\n",
      "Values outside the function:  [10, 20, 50]\n"
     ]
    }
   ],
   "source": [
    "# Function definition is here\n",
    "def changeme( mylist ):\n",
    "   \"This changes a passed list into this function\"\n",
    "   print (\"Values inside the function before change: \", mylist)\n",
    "   \n",
    "   mylist[2]=50\n",
    "   print (\"Values inside the function after change: \", mylist)\n",
    "   return\n",
    "\n",
    "# Now you can call changeme function\n",
    "mylist = [10,20,30]\n",
    "changeme( mylist )\n",
    "print (\"Values outside the function: \", mylist)"
   ]
  },
  {
   "cell_type": "code",
   "execution_count": 59,
   "metadata": {},
   "outputs": [
    {
     "name": "stdout",
     "output_type": "stream",
     "text": [
      "Values inside the function:  [1, 2, 3, 4]\n",
      "Values outside the function:  [10, 20, 30]\n"
     ]
    }
   ],
   "source": [
    "# Function definition is here\n",
    "def changeme( mylist ):\n",
    "   \"This changes a passed list into this function\"\n",
    "   mylist = [1,2,3,4] # This would assi new reference in mylist\n",
    "   print (\"Values inside the function: \", mylist)\n",
    "   return\n",
    "\n",
    "# Now you can call changeme function\n",
    "mylist = [10,20,30]\n",
    "changeme( mylist )\n",
    "print (\"Values outside the function: \", mylist)"
   ]
  },
  {
   "cell_type": "code",
   "execution_count": null,
   "metadata": {},
   "outputs": [],
   "source": []
  },
  {
   "cell_type": "code",
   "execution_count": 29,
   "metadata": {},
   "outputs": [
    {
     "name": "stdout",
     "output_type": "stream",
     "text": [
      "45\n"
     ]
    }
   ],
   "source": [
    "#sum of all the elements in a list\n",
    "def get_sum(list):\n",
    "    \"\"\"\n",
    "    this function returns the sum of all elements in the list\n",
    "    \"\"\"\n",
    "    _sum=0\n",
    "    for num in list:\n",
    "        _sum+=num\n",
    "    return _sum\n",
    "s=get_sum([1,2,3,4,5,6,7,8,9,0])\n",
    "print(s)"
   ]
  },
  {
   "cell_type": "code",
   "execution_count": 30,
   "metadata": {},
   "outputs": [],
   "source": [
    "#Function Arguments in Python\n",
    "# 1) Default arguments\n",
    "# 2) Required arguments\n",
    "# 3) Keyword arguments\n",
    "# 4) Variable number of arguments"
   ]
  },
  {
   "cell_type": "code",
   "execution_count": 52,
   "metadata": {},
   "outputs": [
    {
     "name": "stdout",
     "output_type": "stream",
     "text": [
      "21\n",
      "23\n",
      "50\n"
     ]
    }
   ],
   "source": [
    "# default arguments\n",
    "def sum(a,b):\n",
    "    return(a+b)\n",
    "print(sum(a=1,b=20))\n",
    "print(sum(a=20,b=3))\n",
    "print(sum(20,30))"
   ]
  },
  {
   "cell_type": "code",
   "execution_count": 54,
   "metadata": {},
   "outputs": [
    {
     "name": "stdout",
     "output_type": "stream",
     "text": [
      "0.5\n",
      "0.6666666666666666\n",
      "0.6666666666666666\n",
      "0.6666666666666666\n"
     ]
    }
   ],
   "source": [
    "#required arguments\n",
    "def div(a,b):\n",
    "    return(a/b)\n",
    "print(div(2,4))\n",
    "print(div(2,3))\n",
    "print(div(a=2,b=3))\n",
    "print(div(b=3,a=2))"
   ]
  },
  {
   "cell_type": "code",
   "execution_count": 3,
   "metadata": {},
   "outputs": [
    {
     "name": "stdout",
     "output_type": "stream",
     "text": [
      "600\n",
      "4800\n"
     ]
    }
   ],
   "source": [
    "#keyword arguments\n",
    "def product(a,b):\n",
    "    return(a*b)\n",
    "print(product(a=20,b=30))\n",
    "print(product(b=60,a=80))"
   ]
  },
  {
   "cell_type": "code",
   "execution_count": 5,
   "metadata": {},
   "outputs": [
    {
     "name": "stdout",
     "output_type": "stream",
     "text": [
      "6\n",
      "39\n"
     ]
    }
   ],
   "source": [
    "#variable number argumments\n",
    "def plus(*args):\n",
    "    return sum(args)\n",
    "print(plus(1,2,3))\n",
    "print(plus(4,5,6,7,8,9))"
   ]
  },
  {
   "cell_type": "code",
   "execution_count": 7,
   "metadata": {},
   "outputs": [
    {
     "data": {
      "text/plain": [
       "150"
      ]
     },
     "execution_count": 7,
     "metadata": {},
     "output_type": "execute_result"
    }
   ],
   "source": [
    "def plus(*args):\n",
    "    total = 0\n",
    "    for i in args:\n",
    "        total += i\n",
    "    return total\n",
    "plus(10,20,30,40,50)"
   ]
  },
  {
   "cell_type": "code",
   "execution_count": 12,
   "metadata": {},
   "outputs": [
    {
     "name": "stdout",
     "output_type": "stream",
     "text": [
      "global :  1\n",
      "Inside f() :  1\n",
      "global :  1\n",
      "Inside g() :  2\n",
      "global :  1\n",
      "Inside h() :  3\n",
      "global :  3\n"
     ]
    }
   ],
   "source": [
    "#global & local variable\n",
    "a = 1\n",
    " \n",
    "# Uses global because there is no local 'a'\n",
    "def f():\n",
    "    print('Inside f() : ', a)\n",
    " \n",
    "# Variable 'a' is redefined as a local\n",
    "def g():    \n",
    "    a = 2\n",
    "    print('Inside g() : ',a)\n",
    " \n",
    "# Uses global keyword to modify global 'a'\n",
    "def h():    \n",
    "    global a\n",
    "    a = 3\n",
    "    print('Inside h() : ',a)\n",
    " \n",
    "# Global scope\n",
    "print('global : ',a)\n",
    "f()\n",
    "print('global : ',a)\n",
    "g()\n",
    "print('global : ',a)\n",
    "h()\n",
    "print('global : ',a)\n"
   ]
  },
  {
   "cell_type": "code",
   "execution_count": 13,
   "metadata": {},
   "outputs": [
    {
     "data": {
      "text/plain": [
       "10"
      ]
     },
     "execution_count": 13,
     "metadata": {},
     "output_type": "execute_result"
    }
   ],
   "source": [
    "#lambda functions\n",
    "double = lambda x: x*2\n",
    "double(5)"
   ]
  },
  {
   "cell_type": "code",
   "execution_count": 15,
   "metadata": {},
   "outputs": [
    {
     "data": {
      "text/plain": [
       "9"
      ]
     },
     "execution_count": 15,
     "metadata": {},
     "output_type": "execute_result"
    }
   ],
   "source": [
    "\n",
    "sum = lambda x, y: x + y;\n",
    "sum(4,5)"
   ]
  },
  {
   "cell_type": "code",
   "execution_count": 21,
   "metadata": {},
   "outputs": [
    {
     "name": "stdout",
     "output_type": "stream",
     "text": [
      "[6, 7, 8, 9, 10]\n",
      "[2, 4, 6, 8, 10, 12, 14, 16, 18, 20]\n",
      "55\n"
     ]
    }
   ],
   "source": [
    "from functools import reduce\n",
    "my_list = [1,2,3,4,5,6,7,8,9,10]\n",
    "# Use lambda function with `filter()`\n",
    "filtered_list = list(filter(lambda x:(x*2 > 10),my_list))\n",
    "\n",
    "# Use lambda function with `map()`\n",
    "mapped_list = list(map(lambda x: x*2, my_list))\n",
    "\n",
    "# Use lambda function with `reduce()`\n",
    "reduced_list = reduce(lambda x, y: x+y, my_list)\n",
    "\n",
    "print(filtered_list)\n",
    "print(mapped_list)\n",
    "print(reduced_list)"
   ]
  },
  {
   "cell_type": "code",
   "execution_count": 18,
   "metadata": {},
   "outputs": [
    {
     "name": "stdout",
     "output_type": "stream",
     "text": [
      "[2, 4]\n"
     ]
    }
   ],
   "source": [
    "#Example use with filter()\n",
    "lst = [1, 2, 3, 4, 5]\n",
    "even_lst = list(filter(lambda x: (x%2 == 0), lst))\n",
    "print(even_lst)"
   ]
  },
  {
   "cell_type": "code",
   "execution_count": 19,
   "metadata": {},
   "outputs": [
    {
     "name": "stdout",
     "output_type": "stream",
     "text": [
      "[1, 4, 9, 16, 25]\n"
     ]
    }
   ],
   "source": [
    "#Example use with map()\n",
    "lst = [1, 2, 3, 4, 5]\n",
    "new_lst = list(map(lambda x: x ** 2, lst))\n",
    "print(new_lst)"
   ]
  },
  {
   "cell_type": "code",
   "execution_count": 20,
   "metadata": {},
   "outputs": [
    {
     "name": "stdout",
     "output_type": "stream",
     "text": [
      "120\n"
     ]
    }
   ],
   "source": [
    "#Example use with reduce()\n",
    "from functools import reduce\n",
    "\n",
    "lst = [1, 2, 3, 4, 5]\n",
    "product_lst = reduce(lambda x, y: x*y, lst)\n",
    "print(product_lst)\n"
   ]
  },
  {
   "cell_type": "markdown",
   "metadata": {},
   "source": [
    "# MODULES"
   ]
  },
  {
   "cell_type": "code",
   "execution_count": 11,
   "metadata": {},
   "outputs": [
    {
     "name": "stdout",
     "output_type": "stream",
     "text": [
      "Fibonacci sequence\n",
      "0\n",
      "1\n",
      "1\n",
      "2\n",
      "3\n",
      "5\n",
      "8\n",
      "13\n",
      "21\n",
      "34\n"
     ]
    }
   ],
   "source": [
    "# Fibonacci numbers module\n",
    "def fibonacci(num):\n",
    "    \"\"\"\n",
    "    Recursive function to print fibonacci sequence\n",
    "    \"\"\"\n",
    "    return num if num <= 1 else fibonacci(num-1) + fibonacci(num-2)\n",
    "\n",
    "nterms = 10\n",
    "print(\"Fibonacci sequence\")\n",
    "for num in range(nterms):\n",
    "    print(fibonacci(num))\n",
    "\n"
   ]
  },
  {
   "cell_type": "code",
   "execution_count": 12,
   "metadata": {},
   "outputs": [
    {
     "name": "stdout",
     "output_type": "stream",
     "text": [
      "Factorial of 5 is 120 \n"
     ]
    }
   ],
   "source": [
    "#python program to print factorial of a number using recurion\n",
    "def factorial(num):\n",
    "    return 1 if num == 1 else (num * factorial(num-1))\n",
    "num = 5\n",
    "print (\"Factorial of {0} is {1} \".format(num, factorial(num)))\n"
   ]
  },
  {
   "cell_type": "code",
   "execution_count": 13,
   "metadata": {},
   "outputs": [
    {
     "name": "stdout",
     "output_type": "stream",
     "text": [
      "['__doc__', '__loader__', '__name__', '__package__', '__spec__', 'acos', 'acosh', 'asin', 'asinh', 'atan', 'atan2', 'atanh', 'ceil', 'copysign', 'cos', 'cosh', 'degrees', 'e', 'erf', 'erfc', 'exp', 'expm1', 'fabs', 'factorial', 'floor', 'fmod', 'frexp', 'fsum', 'gamma', 'gcd', 'hypot', 'inf', 'isclose', 'isfinite', 'isinf', 'isnan', 'ldexp', 'lgamma', 'log', 'log10', 'log1p', 'log2', 'modf', 'nan', 'pi', 'pow', 'radians', 'sin', 'sinh', 'sqrt', 'tan', 'tanh', 'tau', 'trunc']\n"
     ]
    }
   ],
   "source": [
    "#MODULES\n",
    "# Import built-in module math\n",
    "import math\n",
    "\n",
    "content = dir(math)\n",
    "print (content)"
   ]
  },
  {
   "cell_type": "code",
   "execution_count": 16,
   "metadata": {},
   "outputs": [
    {
     "ename": "ModuleNotFoundError",
     "evalue": "No module named 'Pots'",
     "output_type": "error",
     "traceback": [
      "\u001b[1;31m---------------------------------------------------------------------------\u001b[0m",
      "\u001b[1;31mModuleNotFoundError\u001b[0m                       Traceback (most recent call last)",
      "\u001b[1;32m<ipython-input-16-8f7863d323c5>\u001b[0m in \u001b[0;36m<module>\u001b[1;34m()\u001b[0m\n\u001b[0;32m      1\u001b[0m \u001b[1;31m#PACKAGES\u001b[0m\u001b[1;33m\u001b[0m\u001b[1;33m\u001b[0m\u001b[0m\n\u001b[1;32m----> 2\u001b[1;33m \u001b[1;32mfrom\u001b[0m \u001b[0mPots\u001b[0m \u001b[1;32mimport\u001b[0m \u001b[0mPots\u001b[0m\u001b[1;33m\u001b[0m\u001b[0m\n\u001b[0m\u001b[0;32m      3\u001b[0m \u001b[1;32mfrom\u001b[0m \u001b[0mIsdn\u001b[0m \u001b[1;32mimport\u001b[0m \u001b[0mIsdn\u001b[0m\u001b[1;33m\u001b[0m\u001b[0m\n\u001b[0;32m      4\u001b[0m \u001b[1;32mfrom\u001b[0m \u001b[0mG3\u001b[0m \u001b[1;32mimport\u001b[0m \u001b[0mG3\u001b[0m\u001b[1;33m\u001b[0m\u001b[0m\n",
      "\u001b[1;31mModuleNotFoundError\u001b[0m: No module named 'Pots'"
     ]
    }
   ],
   "source": [
    "#PACKAGES\n",
    "from Pots import Pots\n",
    "from Isdn import Isdn\n",
    "from G3 import G3"
   ]
  },
  {
   "cell_type": "code",
   "execution_count": 17,
   "metadata": {},
   "outputs": [
    {
     "ename": "ModuleNotFoundError",
     "evalue": "No module named 'Phone'",
     "output_type": "error",
     "traceback": [
      "\u001b[1;31m---------------------------------------------------------------------------\u001b[0m",
      "\u001b[1;31mModuleNotFoundError\u001b[0m                       Traceback (most recent call last)",
      "\u001b[1;32m<ipython-input-17-4dc6a6175c16>\u001b[0m in \u001b[0;36m<module>\u001b[1;34m()\u001b[0m\n\u001b[1;32m----> 1\u001b[1;33m \u001b[1;32mimport\u001b[0m \u001b[0mPhone\u001b[0m\u001b[1;33m\u001b[0m\u001b[0m\n\u001b[0m\u001b[0;32m      2\u001b[0m \u001b[0mPhone\u001b[0m\u001b[1;33m.\u001b[0m\u001b[0mPots\u001b[0m\u001b[1;33m(\u001b[0m\u001b[1;33m)\u001b[0m\u001b[1;33m\u001b[0m\u001b[0m\n\u001b[0;32m      3\u001b[0m \u001b[0mPhone\u001b[0m\u001b[1;33m.\u001b[0m\u001b[0mIsdn\u001b[0m\u001b[1;33m(\u001b[0m\u001b[1;33m)\u001b[0m\u001b[1;33m\u001b[0m\u001b[0m\n\u001b[0;32m      4\u001b[0m \u001b[0mPhone\u001b[0m\u001b[1;33m.\u001b[0m\u001b[0mG3\u001b[0m\u001b[1;33m(\u001b[0m\u001b[1;33m)\u001b[0m\u001b[1;33m\u001b[0m\u001b[0m\n",
      "\u001b[1;31mModuleNotFoundError\u001b[0m: No module named 'Phone'"
     ]
    }
   ],
   "source": [
    "import Phone\n",
    "Phone.Pots()\n",
    "Phone.Isdn()\n",
    "Phone.G3()"
   ]
  },
  {
   "cell_type": "code",
   "execution_count": 6,
   "metadata": {},
   "outputs": [
    {
     "name": "stdout",
     "output_type": "stream",
     "text": [
      "50\n"
     ]
    }
   ],
   "source": [
    "def sum(a,b):\n",
    "    plus=a+b\n",
    "    return(plus)\n",
    "sum=plus(20,30)\n",
    "print(sum)"
   ]
  },
  {
   "cell_type": "code",
   "execution_count": 7,
   "metadata": {},
   "outputs": [
    {
     "name": "stdout",
     "output_type": "stream",
     "text": [
      "600\n"
     ]
    }
   ],
   "source": [
    "def plus(a,b):\n",
    "    mul=a*b\n",
    "    return mul\n",
    "c=plus(20,30)\n",
    "print(c)"
   ]
  },
  {
   "cell_type": "code",
   "execution_count": null,
   "metadata": {},
   "outputs": [],
   "source": []
  }
 ],
 "metadata": {
  "kernelspec": {
   "display_name": "Python 3",
   "language": "python",
   "name": "python3"
  },
  "language_info": {
   "codemirror_mode": {
    "name": "ipython",
    "version": 3
   },
   "file_extension": ".py",
   "mimetype": "text/x-python",
   "name": "python",
   "nbconvert_exporter": "python",
   "pygments_lexer": "ipython3",
   "version": "3.6.5"
  }
 },
 "nbformat": 4,
 "nbformat_minor": 2
}
