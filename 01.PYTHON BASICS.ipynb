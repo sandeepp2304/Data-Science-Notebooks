{
 "cells": [
  {
   "cell_type": "markdown",
   "metadata": {},
   "source": [
    "### Interactive Mode Programming"
   ]
  },
  {
   "cell_type": "code",
   "execution_count": 1,
   "metadata": {},
   "outputs": [
    {
     "name": "stdout",
     "output_type": "stream",
     "text": [
      "Hello Python\n"
     ]
    }
   ],
   "source": [
    "print (\"Hello Python\")"
   ]
  },
  {
   "cell_type": "markdown",
   "metadata": {},
   "source": [
    "### Lines and Indentation"
   ]
  },
  {
   "cell_type": "code",
   "execution_count": 4,
   "metadata": {},
   "outputs": [
    {
     "name": "stdout",
     "output_type": "stream",
     "text": [
      "True\n"
     ]
    }
   ],
   "source": [
    "if True:\n",
    "    print (\"True\")\n",
    "else:\n",
    "    print (\"False\")\n"
   ]
  },
  {
   "cell_type": "markdown",
   "metadata": {},
   "source": [
    "### Multiline Statments"
   ]
  },
  {
   "cell_type": "code",
   "execution_count": 5,
   "metadata": {},
   "outputs": [
    {
     "name": "stdout",
     "output_type": "stream",
     "text": [
      "['Monday', 'Tuesday', 'Wednesday', 'Thursday', 'Friday', 'Saturday', 'Sunday']\n"
     ]
    }
   ],
   "source": [
    "fullName = \"FirstName \" + \\\n",
    "        \"MiddleName \" + \\\n",
    "        \"LastName\"\n",
    "\n",
    "#Statements contained within the  [], {}, () brakects do not need to use the line continuation character\n",
    "\n",
    "days = [\"Monday\",\"Tuesday\",\"Wednesday\", \"Thursday\", \"Friday\", \"Saturday\", \"Sunday\"]\n",
    "print(days)\n"
   ]
  },
  {
   "cell_type": "markdown",
   "metadata": {},
   "source": [
    "### Quotation in Python"
   ]
  },
  {
   "cell_type": "code",
   "execution_count": 9,
   "metadata": {},
   "outputs": [],
   "source": [
    "word = 'word'\n",
    "sentance = \"This is a sentance\""
   ]
  },
  {
   "cell_type": "markdown",
   "metadata": {},
   "source": [
    "### Using Blank lines & New Lines\n",
    "#The line containing only whitespace, possibly with a comment, is known as blank line and Python totally ignores it\n",
    "Use \\n for newline\n"
   ]
  },
  {
   "cell_type": "markdown",
   "metadata": {},
   "source": [
    "### Multiple statements on single line\n",
    "#Use ;  to seperate statements"
   ]
  },
  {
   "cell_type": "code",
   "execution_count": 10,
   "metadata": {},
   "outputs": [
    {
     "name": "stdout",
     "output_type": "stream",
     "text": [
      "foo"
     ]
    }
   ],
   "source": [
    "import sys; x = 'foo'; sys.stdout.write(x)"
   ]
  },
  {
   "cell_type": "code",
   "execution_count": 11,
   "metadata": {},
   "outputs": [
    {
     "name": "stdout",
     "output_type": "stream",
     "text": [
      "100\n",
      "<class 'int'>\n",
      "1000.0\n",
      "<class 'float'>\n",
      "John\n",
      "<class 'str'>\n"
     ]
    }
   ],
   "source": [
    "counter = 100 #integer\n",
    "miles = 1000.0 # Float\n",
    "name = \"John\" #String\n",
    "\n",
    "print(counter); print(type(counter))\n",
    "print (miles); print(type(miles))\n",
    "print(name); print(type(name))\n"
   ]
  },
  {
   "cell_type": "markdown",
   "metadata": {},
   "source": [
    "### Multiple Assignment"
   ]
  },
  {
   "cell_type": "code",
   "execution_count": 12,
   "metadata": {
    "scrolled": true
   },
   "outputs": [
    {
     "name": "stdout",
     "output_type": "stream",
     "text": [
      "1 1 1\n",
      "1 2 John\n"
     ]
    }
   ],
   "source": [
    "a=b=c=1\n",
    "print(a,b,c)\n",
    "\n",
    "a,b,c = 1,2,\"John\"\n",
    "print(a,b,c)"
   ]
  },
  {
   "cell_type": "markdown",
   "metadata": {},
   "source": [
    "### Standard Datatypes\n",
    "1. Numbers\n",
    "2. String\n",
    "3. List\n",
    "4. Tuple\n",
    "5. Dictionary"
   ]
  },
  {
   "cell_type": "markdown",
   "metadata": {},
   "source": [
    "###  LISTS\n",
    "#Methods\n",
    "#append()\tAdds an element at the end of the list\n",
    "#clear()\tRemoves all the elements from the list\n",
    "#copy()\tReturns a copy of the list\n",
    "#count()\tReturns the number of elements with the specified value\n",
    "#extend()\tAdd the elements of a list (or any iterable), to the end of the current list\n",
    "#index()\tReturns the index of the first element with the specified value\n",
    "#insert()\tAdds an element at the specified position\n",
    "#pop()\tRemoves the element at the specified position\n",
    "#remove()\tRemoves all the items with the specified value\n",
    "#reverse()\tReverses the order of the list\n",
    "#sort()\tSorts the list\n"
   ]
  },
  {
   "cell_type": "code",
   "execution_count": 13,
   "metadata": {},
   "outputs": [
    {
     "name": "stdout",
     "output_type": "stream",
     "text": [
      "[]\n",
      "[1, 2, 3, 4, 5]\n",
      "[1, 'Hello', 3.4]\n",
      "['mouse', [8, 4, 6], ['a']]\n"
     ]
    }
   ],
   "source": [
    "# Creating a list\n",
    "#empty list\n",
    "my_list = []\n",
    "print(my_list)\n",
    "\n",
    "#list of integers\n",
    "my_list = [1,2,3,4,5]\n",
    "print(my_list)\n",
    "\n",
    "# list with mixed datatypes\n",
    "my_list = [1, \"Hello\", 3.4]\n",
    "print(my_list)\n",
    "      \n",
    "#nested_list\n",
    "my_list = [\"mouse\", [8, 4, 6], ['a']]\n",
    "print(my_list)\n",
    "\n",
    "\n"
   ]
  },
  {
   "cell_type": "code",
   "execution_count": 17,
   "metadata": {},
   "outputs": [
    {
     "name": "stdout",
     "output_type": "stream",
     "text": [
      "apple\n",
      "banana\n",
      "mango\n",
      "Enter your favourite fruit: apple\n",
      "apple  is available !!\n"
     ]
    }
   ],
   "source": [
    "#print list items using for loop\n",
    "thisList = ['apple', 'banana', 'mango']\n",
    "for i in thisList:\n",
    "    print(i)\n",
    "\n",
    "#check for item in list\n",
    "myFruit = input(\"Enter your favourite fruit: \")\n",
    "if myFruit in thisList:\n",
    "    print(\"{}  is available !!\" .format(myFruit))\n",
    "else:\n",
    "   print(\"%s is not available.. please come later.\" %(myFruit))\n",
    "\n",
    "    "
   ]
  },
  {
   "cell_type": "markdown",
   "metadata": {},
   "source": [
    "#### Remove method\n",
    "#remove() method to remove given item \n",
    "#if we want to remove an element based on index then use pop() or del() methods\n"
   ]
  },
  {
   "cell_type": "code",
   "execution_count": 18,
   "metadata": {},
   "outputs": [
    {
     "name": "stdout",
     "output_type": "stream",
     "text": [
      "['p', 'r', 'o', 'b', 'l', 'e', 'm']\n",
      "['r', 'o', 'b', 'l', 'e', 'm']\n"
     ]
    },
    {
     "ename": "ValueError",
     "evalue": "list.remove(x): x not in list",
     "output_type": "error",
     "traceback": [
      "\u001b[1;31m---------------------------------------------------------------------------\u001b[0m",
      "\u001b[1;31mValueError\u001b[0m                                Traceback (most recent call last)",
      "\u001b[1;32m<ipython-input-18-633cdea63435>\u001b[0m in \u001b[0;36m<module>\u001b[1;34m()\u001b[0m\n\u001b[0;32m      3\u001b[0m \u001b[0mmyList\u001b[0m\u001b[1;33m.\u001b[0m\u001b[0mremove\u001b[0m\u001b[1;33m(\u001b[0m\u001b[1;34m'p'\u001b[0m\u001b[1;33m)\u001b[0m\u001b[1;33m\u001b[0m\u001b[0m\n\u001b[0;32m      4\u001b[0m \u001b[0mprint\u001b[0m\u001b[1;33m(\u001b[0m\u001b[0mmyList\u001b[0m\u001b[1;33m)\u001b[0m\u001b[1;33m\u001b[0m\u001b[0m\n\u001b[1;32m----> 5\u001b[1;33m \u001b[0mmyList\u001b[0m\u001b[1;33m.\u001b[0m\u001b[0mremove\u001b[0m\u001b[1;33m(\u001b[0m\u001b[1;34m'k'\u001b[0m\u001b[1;33m)\u001b[0m\u001b[1;33m\u001b[0m\u001b[0m\n\u001b[0m",
      "\u001b[1;31mValueError\u001b[0m: list.remove(x): x not in list"
     ]
    }
   ],
   "source": [
    "myList = ['p','r','o','b','l','e','m']\n",
    "print(myList)\n",
    "myList.remove('p')\n",
    "print(myList)\n",
    "myList.remove('k')\n"
   ]
  },
  {
   "cell_type": "markdown",
   "metadata": {},
   "source": [
    "#### Pop method\n",
    "#pop() method to remove an item at the given index\n",
    "#pop() returns the removed element\n",
    "#NEGATIVE INDEX REPRESENTS INDEXES IN REVERSE ORDER\n"
   ]
  },
  {
   "cell_type": "code",
   "execution_count": 24,
   "metadata": {},
   "outputs": [
    {
     "name": "stdout",
     "output_type": "stream",
     "text": [
      "['p', 'r', 'b', 'l', 'e', 'm']\n",
      "r\n",
      "m\n",
      "['p', 'b', 'l', 'e']\n"
     ]
    }
   ],
   "source": [
    "myList = ['p','r','o','b','l','e','m']\n",
    "myList.pop(2) # remove element @2nd index\n",
    "print(myList)\n",
    "return_value = myList.pop(1)\n",
    "print(return_value)\n",
    "print(myList.pop()) # last element poped\n",
    "print(myList)"
   ]
  },
  {
   "cell_type": "markdown",
   "metadata": {},
   "source": [
    "####  Clear method\n",
    "#clear() method empties a list"
   ]
  },
  {
   "cell_type": "code",
   "execution_count": 25,
   "metadata": {},
   "outputs": [
    {
     "name": "stdout",
     "output_type": "stream",
     "text": [
      "[]\n"
     ]
    }
   ],
   "source": [
    "myList.clear()\n",
    "print(myList)"
   ]
  },
  {
   "cell_type": "markdown",
   "metadata": {},
   "source": [
    "#### index method\n",
    "#prints the index of the given element"
   ]
  },
  {
   "cell_type": "code",
   "execution_count": 27,
   "metadata": {},
   "outputs": [
    {
     "name": "stdout",
     "output_type": "stream",
     "text": [
      "2\n"
     ]
    }
   ],
   "source": [
    "myList2 = [3,14,5,6,12,28,9]\n",
    "print(myList2.index(5))"
   ]
  },
  {
   "cell_type": "markdown",
   "metadata": {},
   "source": [
    "#### sort method\n",
    "#sort the list in ascending order \n",
    "#### reverse method\n",
    "#reverses the list"
   ]
  },
  {
   "cell_type": "code",
   "execution_count": 28,
   "metadata": {},
   "outputs": [
    {
     "name": "stdout",
     "output_type": "stream",
     "text": [
      "[3, 5, 6, 9, 12, 14, 28]\n",
      "[28, 14, 12, 9, 6, 5, 3]\n"
     ]
    }
   ],
   "source": [
    "myList2.sort()\n",
    "print(myList2)\n",
    "myList2.reverse()\n",
    "print(myList2)"
   ]
  },
  {
   "cell_type": "markdown",
   "metadata": {},
   "source": [
    "#### Append method\n",
    "#The Append() method adds an item to the end of the list\n",
    "#It adds the single item to the existing list\n",
    "#Item can be numbers, strings, list or dictionary... etc.,"
   ]
  },
  {
   "cell_type": "code",
   "execution_count": 29,
   "metadata": {},
   "outputs": [
    {
     "name": "stdout",
     "output_type": "stream",
     "text": [
      "['cat', 'dog', 'rabbit']\n",
      "['cat', 'dog', 'rabbit', 'pig']\n",
      "['Tiger', 'Fox']\n",
      "['cat', 'dog', 'rabbit', 'pig', ['Tiger', 'Fox']]\n"
     ]
    }
   ],
   "source": [
    "animal = ['cat', 'dog', 'rabbit']\n",
    "print(animal)\n",
    "animal.append('pig')\n",
    "print(animal)\n",
    "#appending a list \n",
    "wildAnimals = ['Tiger','Fox']\n",
    "print(wildAnimals)\n",
    "animal.append(wildAnimals)\n",
    "print(animal)\n"
   ]
  },
  {
   "cell_type": "markdown",
   "metadata": {},
   "source": [
    "#### Extend method\n",
    "#If we need to add the items of list to another list we use extend() method"
   ]
  },
  {
   "cell_type": "markdown",
   "metadata": {},
   "source": [
    "newAnimals = ['Elephant','Donkey']\n",
    "animal.extend(newAnimals)\n",
    "print(animal)\n",
    "\n",
    "language = ['Telugu','Hindi','Tamil']\n",
    "foreingLang = ['English','French','German']\n",
    "language.extend(foreingLang)\n",
    "print(language)\n",
    "\n",
    "a = [1,2]\n",
    "b = [3,4]\n",
    "\n",
    "a+=b # add the list b to a\n",
    "print(a)"
   ]
  },
  {
   "cell_type": "markdown",
   "metadata": {},
   "source": [
    "#### Insert method\n",
    "#syn: list.insert(index, element).\n",
    "#it takes two parameters--- index and element.\n",
    "#insert method inserts the given element at the index position."
   ]
  },
  {
   "cell_type": "code",
   "execution_count": 30,
   "metadata": {},
   "outputs": [
    {
     "name": "stdout",
     "output_type": "stream",
     "text": [
      "['a', 'e', 'i', 'u']\n",
      "['a', 'e', 'i', 'o', 'u']\n"
     ]
    }
   ],
   "source": [
    "vowel = ['a','e','i','u']\n",
    "print(vowel)\n",
    "vowel.insert(3,'o')\n",
    "print(vowel)"
   ]
  },
  {
   "cell_type": "markdown",
   "metadata": {},
   "source": [
    "#### count method\n",
    "#gives the count of the element"
   ]
  },
  {
   "cell_type": "code",
   "execution_count": 34,
   "metadata": {},
   "outputs": [
    {
     "name": "stdout",
     "output_type": "stream",
     "text": [
      "1\n",
      "\n",
      "\n"
     ]
    },
    {
     "data": {
      "text/plain": [
       "0"
      ]
     },
     "execution_count": 34,
     "metadata": {},
     "output_type": "execute_result"
    }
   ],
   "source": [
    "print(vowel.count('e'))\n",
    "print(\"\\n\")\n",
    "vowel.count(2)"
   ]
  },
  {
   "cell_type": "markdown",
   "metadata": {},
   "source": [
    "#### copy method\n",
    "#copies the list... shallow copy.... REFER MORE IN GOOGLE"
   ]
  },
  {
   "cell_type": "code",
   "execution_count": 35,
   "metadata": {},
   "outputs": [
    {
     "name": "stdout",
     "output_type": "stream",
     "text": [
      "['a', 'e', 'i', 'o', 'u']\n"
     ]
    }
   ],
   "source": [
    "newList = vowel.copy()\n",
    "print(newList)"
   ]
  },
  {
   "cell_type": "markdown",
   "metadata": {},
   "source": [
    "#### List comprehension\n",
    "#its an elegant and concise way to create new list from an exising list\n",
    "#it consists of an expression followed by 'for' statement\n",
    "#can use if statement for conditional approach"
   ]
  },
  {
   "cell_type": "code",
   "execution_count": 36,
   "metadata": {},
   "outputs": [
    {
     "name": "stdout",
     "output_type": "stream",
     "text": [
      "[1, 2, 4, 8, 16, 32, 64, 128, 256, 512]\n",
      "[64, 128, 256, 512]\n",
      "[1, 3, 5, 7, 9]\n",
      "5\n"
     ]
    }
   ],
   "source": [
    "pow2 = [2 ** x for x in range(10)]\n",
    "print(pow2)\n",
    "pow2 = [2 ** x for x in range(10) if x > 5]\n",
    "print(pow2)\n",
    "\n",
    "odd = [x for x in range(10) if x % 2 == 1]\n",
    "print(odd)\n",
    "print(odd[-3])\n"
   ]
  },
  {
   "cell_type": "markdown",
   "metadata": {},
   "source": [
    "#### another way for list comprehension"
   ]
  },
  {
   "cell_type": "code",
   "execution_count": 38,
   "metadata": {},
   "outputs": [
    {
     "name": "stdout",
     "output_type": "stream",
     "text": [
      "[1, 2, 4, 8, 16, 32, 64, 128, 256, 512]\n"
     ]
    }
   ],
   "source": [
    "pow2 = []\n",
    "for i in range(10):\n",
    "    pow2.append(2**i)\n",
    "print(pow2)\n",
    "\n"
   ]
  },
  {
   "cell_type": "code",
   "execution_count": 39,
   "metadata": {},
   "outputs": [],
   "source": [
    "my = [1,2,3]"
   ]
  },
  {
   "cell_type": "code",
   "execution_count": 40,
   "metadata": {},
   "outputs": [],
   "source": [
    "my1 = (1,2,3,4)"
   ]
  },
  {
   "cell_type": "markdown",
   "metadata": {},
   "source": [
    "### Built in functions\n",
    "1.all()\n",
    "2.any()\n",
    "3.Enumerate()\n",
    "4.len()\n",
    "5.max()\n",
    "6.min()\n",
    "7.list()\n",
    "8.Sorted()"
   ]
  },
  {
   "cell_type": "code",
   "execution_count": 43,
   "metadata": {},
   "outputs": [],
   "source": [
    "# all() returns\n",
    "#  TRUE : if all elements in an iterable are TRUE\n",
    "# FALSE : if atleast one element in an iterable is FALSE"
   ]
  },
  {
   "cell_type": "code",
   "execution_count": 45,
   "metadata": {},
   "outputs": [
    {
     "name": "stdout",
     "output_type": "stream",
     "text": [
      "True\n",
      "False\n",
      "False\n",
      "False\n",
      "True\n"
     ]
    }
   ],
   "source": [
    "l1 = [1,3,4,5]\n",
    "print(all(l1))\n",
    "\n",
    "l2 = [0,False]\n",
    "print(all(l2))\n",
    "\n",
    "l3 = [1,3,5,0]\n",
    "print(all(l3))\n",
    "\n",
    "l4 = [0, False, 5]\n",
    "print(all(l4))\n",
    "l5 = []\n",
    "print(all(l5))\n"
   ]
  },
  {
   "cell_type": "code",
   "execution_count": 46,
   "metadata": {},
   "outputs": [
    {
     "name": "stdout",
     "output_type": "stream",
     "text": [
      "True\n",
      "False\n",
      "True\n"
     ]
    }
   ],
   "source": [
    "# any()\n",
    "# TRUE : if atleast one element in an ierable is TRUE\n",
    "# FALSE : if all elements in an iterable are FALSE\n",
    "\n",
    "l1 = [3,4,5,6]\n",
    "print(any(l1))\n",
    "\n",
    "l2 = [0,False]\n",
    "print(any(l2))\n",
    "\n",
    "l3 = [0,2,4]\n",
    "print(any(l3))\n",
    "\n"
   ]
  },
  {
   "cell_type": "code",
   "execution_count": 50,
   "metadata": {},
   "outputs": [
    {
     "name": "stdout",
     "output_type": "stream",
     "text": [
      "<class 'enumerate'>\n",
      "[(0, 'bread'), (1, 'milk'), (2, 'butter')]\n",
      "[(10, 'bread'), (11, 'milk'), (12, 'butter')]\n",
      "\n",
      "\n",
      "(0, 'bread')\n",
      "(1, 'milk')\n",
      "(2, 'butter')\n",
      "\n",
      "\n",
      "0 bread\n",
      "1 milk\n",
      "2 butter\n",
      "\n",
      "\n"
     ]
    }
   ],
   "source": [
    "# Enumerate()\n",
    "# Enumerate() method adds counter to an iterable and returns it \n",
    "# Syntax: enumerate(iterable, start=0)\n",
    "\n",
    "grocery = ['bread','milk','butter']\n",
    "enumeratedGrocery = enumerate(grocery) # start enumeration with 0 (default)\n",
    "print(type(enumeratedGrocery))\n",
    "print(list(enumeratedGrocery))\n",
    "\n",
    "#changing the default\n",
    "counterEnumeratedGrocery = enumerate(grocery, 10) #start enumerating number is 10\n",
    "print(list(counterEnumeratedGrocery))\n",
    "print(\"\\n\")\n",
    "for item in enumerate(grocery):\n",
    "    print(item)\n",
    "print('\\n')\n",
    "\n",
    "for count, item in enumerate(grocery):\n",
    "    print(count, item)\n",
    "print('\\n')"
   ]
  },
  {
   "cell_type": "code",
   "execution_count": 51,
   "metadata": {},
   "outputs": [
    {
     "name": "stdout",
     "output_type": "stream",
     "text": [
      "5\n",
      "4\n"
     ]
    }
   ],
   "source": [
    "# len()\n",
    "# Gives the length of the iterable\n",
    "l = [1,2,3,4,5,]\n",
    "print(len(l))\n",
    "\n",
    "l2 = ['Apple','Mango','Banana', 'WaterMelon']\n",
    "print(len(l2))"
   ]
  },
  {
   "cell_type": "code",
   "execution_count": 52,
   "metadata": {},
   "outputs": [
    {
     "name": "stdout",
     "output_type": "stream",
     "text": [
      "9\n",
      "bacdefghijklmnopqrstuvwxyz\n"
     ]
    }
   ],
   "source": [
    "# max()\n",
    "# gives the maximum value of the iterable / if items in iterable are string it gives last longest string\n",
    "\n",
    "l = [4,6,8,3,9]\n",
    "print(max(l))\n",
    "\n",
    "l2 = ['Apple','Mango','Banana', 'WaterMelon', 'abcdefghijklmnopqrstuvwxyz','bacdefghijklmnopqrstuvwxyz']\n",
    "print(max(l2))"
   ]
  },
  {
   "cell_type": "code",
   "execution_count": 53,
   "metadata": {},
   "outputs": [
    {
     "name": "stdout",
     "output_type": "stream",
     "text": [
      "3\n",
      "Apple\n"
     ]
    }
   ],
   "source": [
    "# min()\n",
    "# gives the minimum value of the iterable / if items in iterable are string it gives first shortest string\n",
    "\n",
    "l = [4,6,8,3,9]\n",
    "print(min(l))\n",
    "\n",
    "l2 = ['Apple','Mango','ab','Banana', 'WaterMelon', 'abcdefghijklmnopqrstuvwxyz']\n",
    "print(min(l2))\n"
   ]
  },
  {
   "cell_type": "code",
   "execution_count": 54,
   "metadata": {},
   "outputs": [
    {
     "name": "stdout",
     "output_type": "stream",
     "text": [
      "[0, 1, 2, 3, 4, 5, 6, 7, 8, 9]\n",
      "[10, 11, 12, 13, 14, 15, 16, 17, 18, 19]\n",
      "['1', '2', '3']\n",
      "['a', 'b', 'c']\n",
      "['a', 'e', 'i', 'o', 'u']\n",
      "['1', '2', '3', '4', '5', '6']\n"
     ]
    }
   ],
   "source": [
    "# list()\n",
    "# list() is the constructor to create list in python\n",
    "# syntax: list((iterable)) or list([iterable])\n",
    "\n",
    "l = list(range(10))\n",
    "print(l)\n",
    "\n",
    "l1 = list(range(10,20))\n",
    "print(l1)\n",
    "\n",
    "l1 = list(('1','2','3'))\n",
    "print(l1)\n",
    "\n",
    "l2 = list(['a','b','c'])\n",
    "print(l2)\n",
    "\n",
    "vowelString = 'aeiou'\n",
    "print(list(vowelString))\n",
    "\n",
    "numberString = '123456'\n",
    "print(list(numberString))\n"
   ]
  },
  {
   "cell_type": "code",
   "execution_count": 1,
   "metadata": {},
   "outputs": [
    {
     "name": "stdout",
     "output_type": "stream",
     "text": [
      "['a', 'e', 'i', 'o', 'u']\n",
      "None\n",
      "['u', 'o', 'i', 'e', 'a']\n"
     ]
    }
   ],
   "source": [
    "# sorted()\n",
    "# gives sorted list from the iterable\n",
    "\n",
    "#syntax: sorted(iterable[,key][,reverse])\n",
    "\n",
    "pyList = ['e','a','u','i','o']\n",
    "print(sorted(pyList))\n",
    "\n",
    "print(sorted(pyList, reverse = True))\n"
   ]
  },
  {
   "cell_type": "code",
   "execution_count": 56,
   "metadata": {},
   "outputs": [
    {
     "name": "stdout",
     "output_type": "stream",
     "text": [
      "14\n",
      "24\n"
     ]
    }
   ],
   "source": [
    "# sum()\n",
    "# returns sum of the items in the iterable\n",
    "# syntax : sum(iterable, start)\n",
    "\n",
    "numbers = [2,3,4,5]\n",
    "numberSum = sum(numbers)\n",
    "print(numberSum)\n",
    "\n",
    "numbersSum1 = sum(numbers,10)\n",
    "print(numbersSum1)"
   ]
  },
  {
   "cell_type": "markdown",
   "metadata": {},
   "source": [
    "### Tuple\n",
    "1. Tuple is an orderd immutable collection of objects\n",
    "2. Tuple cannot be changed under any circumstances\n",
    "3. Tuples are immutable hence the iterations in tuples is faster than lists\n",
    "4. Tuples that contain immutable elements can be used as key for a dictionary. With list, this is not possible.\n",
    "5. If you have data that doesn't change, implementing it as tuple will guarantee that it remains write-protected."
   ]
  },
  {
   "cell_type": "code",
   "execution_count": 57,
   "metadata": {},
   "outputs": [
    {
     "name": "stdout",
     "output_type": "stream",
     "text": [
      "(1, 2, 3)\n",
      "(1, 'hello', 3.4)\n",
      "('mouse', [8, 4, 6], (1, 2, 3))\n",
      "(3, 4.6, 'dog')\n"
     ]
    }
   ],
   "source": [
    "# creating a tuple\n",
    "myTuple = (1,2,3)\n",
    "print(myTuple)\n",
    "\n",
    "myTuple = (1,'hello', 3.4)\n",
    "print(myTuple)\n",
    "\n",
    "myTuple = (\"mouse\", [8, 4, 6], (1, 2, 3))\n",
    "print(myTuple)\n",
    "\n",
    "my_tuple = 3, 4.6, \"dog\"\n",
    "print(my_tuple)\n",
    "      "
   ]
  },
  {
   "cell_type": "code",
   "execution_count": 58,
   "metadata": {},
   "outputs": [
    {
     "name": "stdout",
     "output_type": "stream",
     "text": [
      "p\n",
      "t\n",
      "('p', 'e', 'r')\n",
      "('m', 'i')\n",
      "t\n",
      "p\n",
      "('r', 'o', 'g')\n"
     ]
    }
   ],
   "source": [
    "# Accesing data in tuple\n",
    "\n",
    "#1. indexing\n",
    "\n",
    "my_tuple = ('p','e','r','m','i','t')\n",
    "print(my_tuple[0])\n",
    "print(my_tuple[5])\n",
    "print(my_tuple[:3]) # prints 0, 1, 2 th elements of the tuple\n",
    "print(my_tuple[3:5])# prints 3,4 th elements of the tuple\n",
    "#print(my_tuple[6]) # IndexError: list index out of range\n",
    "\n",
    "#2. negative indexing\n",
    "my_tuple = ('p','e','r','m','i','t')\n",
    "print(my_tuple[-1])\n",
    "print(my_tuple[-6])\n",
    "\n",
    "#3. slicing\n",
    "#We can access a range of items in a tuple by using the slicing operator - colon \":\".\n",
    "\n",
    "my_tuple = ('p','r','o','g','r','a','m','i','z')\n",
    "# Output: ('r', 'o', 'g')\n",
    "print(my_tuple[1:4])\n",
    "\n"
   ]
  },
  {
   "cell_type": "code",
   "execution_count": 59,
   "metadata": {},
   "outputs": [
    {
     "name": "stdout",
     "output_type": "stream",
     "text": [
      "(4, 2, 3, [9, 5])\n",
      "(1, 2, 3, 4, 5, 6)\n"
     ]
    }
   ],
   "source": [
    "# Changing Tuples\n",
    "#The elements of  tuple cannot be changed once it has been assigned. But, \n",
    "#if the element is itself a mutable datatype like list, its nested items can be changed.\n",
    "\n",
    "my_tuple = (4, 2, 3, [6, 5])\n",
    "\n",
    "# TypeError: 'tuple' object does not support item assignment\n",
    "#my_tuple[1] = 9\n",
    "\n",
    "my_tuple[3][0] = 9\n",
    "\n",
    "print(my_tuple)\n",
    "\n",
    "\n",
    "# + to concatenate two tuples\n",
    "tuple1 = (1,2,3)\n",
    "tuple2 = (4,5,6)\n",
    "myTuple  = tuple1 + tuple2\n",
    "print(myTuple)"
   ]
  },
  {
   "cell_type": "code",
   "execution_count": 63,
   "metadata": {},
   "outputs": [],
   "source": [
    "# Deleting a tuple\n",
    "# we cannot delete elements of a tuple\n",
    "# but we can delete entire tuple\n",
    "\n",
    "my_tuple = ('p','r','o','g','r','a','m','i','z')\n",
    "# TypeError: 'tuple' object doesn't support item deletion\n",
    "#del my_tuple[3]\n",
    "\n",
    "del my_tuple"
   ]
  },
  {
   "cell_type": "code",
   "execution_count": 64,
   "metadata": {},
   "outputs": [
    {
     "name": "stdout",
     "output_type": "stream",
     "text": [
      "2\n",
      "3\n"
     ]
    }
   ],
   "source": [
    "# Tuple Methods\n",
    "\n",
    "#1. count(x) : returns the count of  element x in Tuple\n",
    "my_tuple = ('a','p','p','l','e',)\n",
    "print(my_tuple.count('p'))\n",
    "\n",
    "#2. index(x) : returns the index of the first appearance of element x in Tuple\n",
    "print(my_tuple.index('l'))\n",
    "\n"
   ]
  },
  {
   "cell_type": "code",
   "execution_count": 65,
   "metadata": {},
   "outputs": [
    {
     "name": "stdout",
     "output_type": "stream",
     "text": [
      "True\n",
      "False\n"
     ]
    }
   ],
   "source": [
    "# Tuple Membership test\n",
    "# 1. in operator\n",
    "tuple = ('p','r','o','g','r','a','m','i','z')\n",
    "print('a' in tuple)\n",
    "# 2. not in operator\n",
    "print('z' not in tuple)"
   ]
  },
  {
   "cell_type": "code",
   "execution_count": 66,
   "metadata": {},
   "outputs": [
    {
     "name": "stdout",
     "output_type": "stream",
     "text": [
      "a\n",
      "b\n",
      "c\n",
      "1\n",
      "2\n",
      "3\n"
     ]
    }
   ],
   "source": [
    "# Iterating in a tuple\n",
    "#Using a for loop we can iterate though each item in a tuple.\n",
    "tuple = ('a','b','c',1,2,3)\n",
    "for i in tuple:\n",
    "    print(i)"
   ]
  },
  {
   "cell_type": "code",
   "execution_count": 67,
   "metadata": {},
   "outputs": [],
   "source": [
    "# Built in functions for Tuple\n",
    "# all(), any(), enumerate(), len(), max(), min(), sorted(), tuple()\n"
   ]
  },
  {
   "cell_type": "markdown",
   "metadata": {},
   "source": [
    "### Dictionary { }\n",
    "\n",
    "1. Dictionary: an unordered and mutable set of key/value pairs\n",
    "2. Python's dictionary allows you to store a collection of key/value pairs.\n",
    "3. Each unique key has a value associated with it in the dictionary, and dictionaries can have any number ofpairs. \n",
    "4. The values associated with a key can be any object."
   ]
  },
  {
   "cell_type": "code",
   "execution_count": 75,
   "metadata": {},
   "outputs": [
    {
     "name": "stdout",
     "output_type": "stream",
     "text": [
      "{1: 'apple', 2: 'Ball'}\n",
      "{'name': 'John', 1: [2, 3, 4]}\n",
      "{1: 'apple', 2: 'ball'}\n",
      "{1: 'apple', 2: 'ball', 3: 'bat'}\n",
      "\n",
      "\n",
      "{(1, 'apple'), (2, 'ball'), (3, 'bat')}\n"
     ]
    }
   ],
   "source": [
    "# Create a dictionary\n",
    "\n",
    "# empty dictionary\n",
    "dictionary = {}\n",
    " \n",
    "#  dictionary with integer keys\n",
    "dictionary = {1: 'apple',2: 'Ball'}\n",
    "print(dictionary)\n",
    "\n",
    "# dictionary with mixed keys\n",
    "dictionary = {'name': \"John\", 1: [2,3,4]}\n",
    "print(dictionary)\n",
    "\n",
    "# using dict()\n",
    "my_dict = dict({1:'apple', 2:'ball'})\n",
    "print(my_dict)\n",
    "\n",
    "# from sequence having each item as a pair\n",
    "my_dict = dict([(1,'apple'), (2,'ball'), (3,'bat')])\n",
    "print(my_dict)\n",
    "print(\"\\n\")\n",
    "my_dict = {(1,'apple'), (2,'ball'), (3,'bat')}\n",
    "print(my_dict)"
   ]
  },
  {
   "cell_type": "code",
   "execution_count": 76,
   "metadata": {},
   "outputs": [
    {
     "name": "stdout",
     "output_type": "stream",
     "text": [
      "Jack\n",
      "26\n",
      "Jack\n",
      "None\n"
     ]
    }
   ],
   "source": [
    "# Accesing elements of dictionary\n",
    "my_dict = {'name':'Jack', 'age': 26}\n",
    "print(my_dict['name'])\n",
    "\n",
    "print(my_dict['age'])\n",
    "\n",
    "# Trying to access keys which doesn't exist throws error\n",
    "#my_dict['address']\n",
    "\n",
    "# we can use get() method to access the elements of dictionary\n",
    "# get() is that it returns None instead of KeyError, if the key is not found.\n",
    "print(my_dict.get('name'))\n",
    "\n",
    "print(my_dict.get('address'))\n"
   ]
  },
  {
   "cell_type": "code",
   "execution_count": 77,
   "metadata": {},
   "outputs": [
    {
     "name": "stdout",
     "output_type": "stream",
     "text": [
      "{'name': 'Prasad', 'age': 26}\n",
      "{'name': 'Prasad', 'age': 28}\n",
      "{'name': 'Prasad', 'age': 28, 'Address': 'Hyderabad, India'}\n"
     ]
    }
   ],
   "source": [
    "# Add / change elements of the dictionary\n",
    "\n",
    "#We can add new items or change the value of existing items using assignment operator.\n",
    "#If the key is already present, value gets updated, else a new key: value pair is added to the dictionary.\n",
    "\n",
    "myDict = {'name':'Prasad', 'age': 26}\n",
    "print(myDict)\n",
    "\n",
    "myDict['age'] = 28 # updated age to 28\n",
    "print(myDict)\n",
    "\n",
    "myDict['Address'] = 'Hyderabad, India' # Adds address to dictionary \n",
    "print(myDict)"
   ]
  },
  {
   "cell_type": "code",
   "execution_count": 78,
   "metadata": {},
   "outputs": [
    {
     "name": "stdout",
     "output_type": "stream",
     "text": [
      "9\n",
      "16\n",
      "{1: 1, 3: 9, 2: 4, 5: 25}\n",
      "(5, 25)\n",
      "{1: 1, 3: 9, 2: 4}\n",
      "{1: 1, 3: 9}\n",
      "{}\n"
     ]
    },
    {
     "ename": "NameError",
     "evalue": "name 'squares' is not defined",
     "output_type": "error",
     "traceback": [
      "\u001b[1;31m---------------------------------------------------------------------------\u001b[0m",
      "\u001b[1;31mNameError\u001b[0m                                 Traceback (most recent call last)",
      "\u001b[1;32m<ipython-input-78-f3f16c447270>\u001b[0m in \u001b[0;36m<module>\u001b[1;34m()\u001b[0m\n\u001b[0;32m     23\u001b[0m \u001b[1;31m# deletes entire dictionary\u001b[0m\u001b[1;33m\u001b[0m\u001b[1;33m\u001b[0m\u001b[0m\n\u001b[0;32m     24\u001b[0m \u001b[1;32mdel\u001b[0m \u001b[0msquares\u001b[0m\u001b[1;33m\u001b[0m\u001b[0m\n\u001b[1;32m---> 25\u001b[1;33m \u001b[0mprint\u001b[0m\u001b[1;33m(\u001b[0m\u001b[0msquares\u001b[0m\u001b[1;33m)\u001b[0m \u001b[1;31m# throws error as the dictionary doesn't exist\u001b[0m\u001b[1;33m\u001b[0m\u001b[0m\n\u001b[0m",
      "\u001b[1;31mNameError\u001b[0m: name 'squares' is not defined"
     ]
    }
   ],
   "source": [
    "# Delete / remove items from dictionary\n",
    "\n",
    "# popitem() can be used to remove and return an arbitrary item (key, value) from the dictionary.\n",
    "\n",
    "squares = {1:1, 3:9, 2:4, 3:9, 5:25,4:16}\n",
    "print(squares[3])\n",
    "\n",
    "print(squares.pop(4))  \n",
    "\n",
    "print(squares)\n",
    "\n",
    "print(squares.popitem()) # removes last item of the dictionary\n",
    "print(squares)\n",
    "\n",
    "# delete a particular item\n",
    "del squares[2] \n",
    "print(squares)\n",
    "\n",
    "# clear() removes all elements in the dictionary, but doesn't delete dictionary\n",
    "squares.clear()\n",
    "print(squares)\n",
    "\n",
    "# deletes entire dictionary\n",
    "del squares\n",
    "print(squares) # throws error as the dictionary doesn't exist\n",
    "\n"
   ]
  },
  {
   "cell_type": "markdown",
   "metadata": {},
   "source": [
    "#### Dictionary Methods\n",
    "1. clear()\n",
    "2. copy()\n",
    "3. fromkey()\n",
    "4. get()\n",
    "5. item()\n",
    "6. pop()\n",
    "7. popitem()\n",
    "8. setdefault()\n",
    "9. update()\n",
    "10. keys()\n",
    "11. values()\n"
   ]
  },
  {
   "cell_type": "code",
   "execution_count": 79,
   "metadata": {},
   "outputs": [
    {
     "name": "stdout",
     "output_type": "stream",
     "text": [
      "{'name': 'Prasad', 'age': 28, 'Address': 'Hyderabad, India'}\n",
      "{1: 'one', 2: 'two'} {1: 'one', 2: 'two'}\n",
      "{'Hanu': 'Hyderabad', 'prasad': 'Hyderabad'}\n",
      "{'a': 'vowels', 'e': 'vowels', 'i': 'vowels', 'o': 'vowels', 'u': 'vowels'}\n",
      "{'a': [1], 'e': [1], 'i': [1], 'o': [1], 'u': [1]}\n",
      "{'a': [1, 2], 'e': [1, 2], 'i': [1, 2], 'o': [1, 2], 'u': [1, 2]}\n"
     ]
    }
   ],
   "source": [
    "#The clear() method removes all items from the dictionary.\n",
    "# syntax: dictionary.clear()\n",
    "myDict = {'name': 'Prasad', 'age': 28, 'Address': 'Hyderabad, India'}\n",
    "print(myDict)\n",
    "\n",
    "#myDict.clear()\n",
    "#print(myDict)\n",
    "\n",
    "#The copy() method returns a shallow copy of the dictionary.\n",
    "# syntax: newDictionary = oldDictionary.copy()\n",
    "original = {1:'one', 2:'two'}\n",
    "\n",
    "new = original.copy()\n",
    "print(original, new)\n",
    "\n",
    "#The fromkeys() method creates a new dictionary from the given sequence of elements with a value provided by the user.\n",
    "#syntax :- dictionary.fromkeys(sequence[, value])\n",
    "\n",
    "name = ['Hanu', 'prasad']\n",
    "address = 'Hyderabad'\n",
    "newDict = myDict.fromkeys(name, address) # create new dictionary from keys 'name' and 'address'\n",
    "print(newDict)\n",
    "\n",
    "keys = {'a', 'e', 'i', 'o', 'u' }\n",
    "value = \"vowels\"\n",
    "vowels = dict.fromkeys(keys, value)\n",
    "print(vowels)\n",
    "\n",
    "keys = {'a', 'e', 'i', 'o', 'u' }      \n",
    "value = [1]\n",
    "vowels = dict.fromkeys(keys, value)\n",
    "      \n",
    "print(vowels)\n",
    " \n",
    "# updating the value\n",
    "value.append(2)\n",
    "print(vowels)\n"
   ]
  },
  {
   "cell_type": "code",
   "execution_count": 81,
   "metadata": {},
   "outputs": [
    {
     "name": "stdout",
     "output_type": "stream",
     "text": [
      "Palindrome\n"
     ]
    }
   ],
   "source": [
    "\n",
    "def palindrome(strn):\n",
    "    if strn == strn[::-1]:\n",
    "        print(\"Palindrome\")\n",
    "    else:\n",
    "        print(\"Not a Palindrome\")\n",
    "\n",
    "palindrome(\"abccba\")"
   ]
  },
  {
   "cell_type": "code",
   "execution_count": 83,
   "metadata": {},
   "outputs": [
    {
     "name": "stdout",
     "output_type": "stream",
     "text": [
      "<attribute 'day' of 'datetime.date' objects>\n",
      "1 day, 19:00:00\n"
     ]
    }
   ],
   "source": [
    "import datetime as dt\n",
    "\n",
    "print(dt.date.day)\n",
    "\n",
    "print(dt.timedelta(days = 1, seconds = 68400 ))\n"
   ]
  },
  {
   "cell_type": "code",
   "execution_count": 85,
   "metadata": {},
   "outputs": [
    {
     "name": "stdout",
     "output_type": "stream",
     "text": [
      " Number of ticks since 1970: 1546923346.3396351\n"
     ]
    },
    {
     "ename": "AttributeError",
     "evalue": "'builtin_function_or_method' object has no attribute 'localtime'",
     "output_type": "error",
     "traceback": [
      "\u001b[1;31m---------------------------------------------------------------------------\u001b[0m",
      "\u001b[1;31mAttributeError\u001b[0m                            Traceback (most recent call last)",
      "\u001b[1;32m<ipython-input-85-1c293ae13528>\u001b[0m in \u001b[0;36m<module>\u001b[1;34m()\u001b[0m\n\u001b[0;32m      4\u001b[0m \u001b[0mprint\u001b[0m\u001b[1;33m(\u001b[0m\u001b[1;34m\" Number of ticks since 1970:\"\u001b[0m\u001b[1;33m,\u001b[0m \u001b[0mticks\u001b[0m\u001b[1;33m)\u001b[0m\u001b[1;33m\u001b[0m\u001b[0m\n\u001b[0;32m      5\u001b[0m \u001b[1;32mfrom\u001b[0m \u001b[0mtime\u001b[0m \u001b[1;32mimport\u001b[0m\u001b[1;33m*\u001b[0m\u001b[1;33m\u001b[0m\u001b[0m\n\u001b[1;32m----> 6\u001b[1;33m \u001b[0mlocalTime\u001b[0m \u001b[1;33m=\u001b[0m \u001b[0mtime\u001b[0m\u001b[1;33m.\u001b[0m\u001b[0mlocaltime\u001b[0m\u001b[1;33m(\u001b[0m\u001b[0mtm\u001b[0m\u001b[1;33m.\u001b[0m\u001b[0mtime\u001b[0m\u001b[1;33m(\u001b[0m\u001b[1;33m)\u001b[0m\u001b[1;33m)\u001b[0m\u001b[1;33m\u001b[0m\u001b[0m\n\u001b[0m\u001b[0;32m      7\u001b[0m \u001b[0mprint\u001b[0m\u001b[1;33m(\u001b[0m\u001b[0mlocalTime\u001b[0m\u001b[1;33m)\u001b[0m\u001b[1;33m\u001b[0m\u001b[0m\n\u001b[0;32m      8\u001b[0m \u001b[0mprint\u001b[0m\u001b[1;33m(\u001b[0m\u001b[0mlocalTime\u001b[0m\u001b[1;33m.\u001b[0m\u001b[0mtm_year\u001b[0m\u001b[1;33m)\u001b[0m\u001b[1;33m\u001b[0m\u001b[0m\n",
      "\u001b[1;31mAttributeError\u001b[0m: 'builtin_function_or_method' object has no attribute 'localtime'"
     ]
    }
   ],
   "source": [
    "import time as tm\n",
    "\n",
    "ticks = tm.time()\n",
    "print(\" Number of ticks since 1970:\", ticks)\n",
    "from time import* \n",
    "localTime = time.localtime(tm.time())\n",
    "print(localTime)\n",
    "print(localTime.tm_year)\n",
    "print(localTime.tm_mday)\n"
   ]
  },
  {
   "cell_type": "code",
   "execution_count": 3,
   "metadata": {},
   "outputs": [
    {
     "name": "stdout",
     "output_type": "stream",
     "text": [
      "   February 2019\n",
      "Mo Tu We Th Fr Sa Su\n",
      "             1  2  3\n",
      " 4  5  6  7  8  9 10\n",
      "11 12 13 14 15 16 17\n",
      "18 19 20 21 22 23 24\n",
      "25 26 27 28\n",
      "\n",
      "0\n",
      "1\n"
     ]
    }
   ],
   "source": [
    "import calendar as cal\n",
    "\n",
    "calYear = cal.January\n",
    "calMonth = cal.month(2019,2)\n",
    "calDay = cal.MONDAY\n",
    "print(calMonth)\n",
    "print(calDay )\n",
    "print(calYear)"
   ]
  },
  {
   "cell_type": "code",
   "execution_count": 14,
   "metadata": {},
   "outputs": [
    {
     "name": "stdout",
     "output_type": "stream",
     "text": [
      "['__doc__', '__file__', '__loader__', '__name__', '__package__', '__spec__', 'acos', 'acosh', 'asin', 'asinh', 'atan', 'atan2', 'atanh', 'ceil', 'copysign', 'cos', 'cosh', 'degrees', 'e', 'erf', 'erfc', 'exp', 'expm1', 'fabs', 'factorial', 'floor', 'fmod', 'frexp', 'fsum', 'gamma', 'gcd', 'hypot', 'inf', 'isclose', 'isfinite', 'isinf', 'isnan', 'ldexp', 'lgamma', 'log', 'log10', 'log1p', 'log2', 'modf', 'nan', 'pi', 'pow', 'radians', 'remainder', 'sin', 'sinh', 'sqrt', 'tan', 'tanh', 'tau', 'trunc']\n",
      "\n",
      "1.0\n",
      "['ALLOW_THREADS', 'AxisError', 'BUFSIZE', 'CLIP', 'ComplexWarning', 'DataSource', 'ERR_CALL', 'ERR_DEFAULT', 'ERR_IGNORE', 'ERR_LOG', 'ERR_PRINT', 'ERR_RAISE', 'ERR_WARN', 'FLOATING_POINT_SUPPORT', 'FPE_DIVIDEBYZERO', 'FPE_INVALID', 'FPE_OVERFLOW', 'FPE_UNDERFLOW', 'False_', 'Inf', 'Infinity', 'MAXDIMS', 'MAY_SHARE_BOUNDS', 'MAY_SHARE_EXACT', 'MachAr', 'ModuleDeprecationWarning', 'NAN', 'NINF', 'NZERO', 'NaN', 'PINF', 'PZERO', 'PackageLoader', 'RAISE', 'RankWarning', 'SHIFT_DIVIDEBYZERO', 'SHIFT_INVALID', 'SHIFT_OVERFLOW', 'SHIFT_UNDERFLOW', 'ScalarType', 'Tester', 'TooHardError', 'True_', 'UFUNC_BUFSIZE_DEFAULT', 'UFUNC_PYVALS_NAME', 'VisibleDeprecationWarning', 'WRAP', '_NoValue', '__NUMPY_SETUP__', '__all__', '__builtins__', '__cached__', '__config__', '__doc__', '__file__', '__git_revision__', '__loader__', '__mkl_version__', '__name__', '__package__', '__path__', '__spec__', '__version__', '_distributor_init', '_globals', '_import_tools', '_mat', '_mklinit', 'abs', 'absolute', 'absolute_import', 'add', 'add_docstring', 'add_newdoc', 'add_newdoc_ufunc', 'add_newdocs', 'alen', 'all', 'allclose', 'alltrue', 'amax', 'amin', 'angle', 'any', 'append', 'apply_along_axis', 'apply_over_axes', 'arange', 'arccos', 'arccosh', 'arcsin', 'arcsinh', 'arctan', 'arctan2', 'arctanh', 'argmax', 'argmin', 'argpartition', 'argsort', 'argwhere', 'around', 'array', 'array2string', 'array_equal', 'array_equiv', 'array_repr', 'array_split', 'array_str', 'asanyarray', 'asarray', 'asarray_chkfinite', 'ascontiguousarray', 'asfarray', 'asfortranarray', 'asmatrix', 'asscalar', 'atleast_1d', 'atleast_2d', 'atleast_3d', 'average', 'bartlett', 'base_repr', 'binary_repr', 'bincount', 'bitwise_and', 'bitwise_not', 'bitwise_or', 'bitwise_xor', 'blackman', 'block', 'bmat', 'bool', 'bool8', 'bool_', 'broadcast', 'broadcast_arrays', 'broadcast_to', 'busday_count', 'busday_offset', 'busdaycalendar', 'byte', 'byte_bounds', 'bytes0', 'bytes_', 'c_', 'can_cast', 'cast', 'cbrt', 'cdouble', 'ceil', 'cfloat', 'char', 'character', 'chararray', 'choose', 'clip', 'clongdouble', 'clongfloat', 'column_stack', 'common_type', 'compare_chararrays', 'compat', 'complex', 'complex128', 'complex256', 'complex64', 'complex_', 'complexfloating', 'compress', 'concatenate', 'conj', 'conjugate', 'convolve', 'copy', 'copysign', 'copyto', 'core', 'corrcoef', 'correlate', 'cos', 'cosh', 'count_nonzero', 'cov', 'cross', 'csingle', 'ctypeslib', 'cumprod', 'cumproduct', 'cumsum', 'datetime64', 'datetime_as_string', 'datetime_data', 'deg2rad', 'degrees', 'delete', 'deprecate', 'deprecate_with_doc', 'diag', 'diag_indices', 'diag_indices_from', 'diagflat', 'diagonal', 'diff', 'digitize', 'disp', 'divide', 'division', 'divmod', 'dot', 'double', 'dsplit', 'dstack', 'dtype', 'e', 'ediff1d', 'einsum', 'einsum_path', 'emath', 'empty', 'empty_like', 'equal', 'erf', 'errstate', 'euler_gamma', 'exp', 'exp2', 'expand_dims', 'expm1', 'extract', 'eye', 'fabs', 'fastCopyAndTranspose', 'fft', 'fill_diagonal', 'find_common_type', 'finfo', 'fix', 'flatiter', 'flatnonzero', 'flexible', 'flip', 'fliplr', 'flipud', 'float', 'float128', 'float16', 'float32', 'float64', 'float_', 'float_power', 'floating', 'floor', 'floor_divide', 'fmax', 'fmin', 'fmod', 'format_float_positional', 'format_float_scientific', 'format_parser', 'frexp', 'frombuffer', 'fromfile', 'fromfunction', 'fromiter', 'frompyfunc', 'fromregex', 'fromstring', 'full', 'full_like', 'fv', 'gcd', 'generic', 'genfromtxt', 'geomspace', 'get_array_wrap', 'get_include', 'get_printoptions', 'getbufsize', 'geterr', 'geterrcall', 'geterrobj', 'gradient', 'greater', 'greater_equal', 'half', 'hamming', 'hanning', 'heaviside', 'histogram', 'histogram2d', 'histogram_bin_edges', 'histogramdd', 'hsplit', 'hstack', 'hypot', 'i0', 'identity', 'iinfo', 'imag', 'in1d', 'index_exp', 'indices', 'inexact', 'inf', 'info', 'infty', 'inner', 'insert', 'int', 'int0', 'int16', 'int32', 'int64', 'int8', 'int_', 'int_asbuffer', 'intc', 'integer', 'interp', 'intersect1d', 'intp', 'invert', 'ipmt', 'irr', 'is_busday', 'isclose', 'iscomplex', 'iscomplexobj', 'isfinite', 'isfortran', 'isin', 'isinf', 'isnan', 'isnat', 'isneginf', 'isposinf', 'isreal', 'isrealobj', 'isscalar', 'issctype', 'issubclass_', 'issubdtype', 'issubsctype', 'iterable', 'ix_', 'kaiser', 'kron', 'lcm', 'ldexp', 'left_shift', 'less', 'less_equal', 'lexsort', 'lib', 'linalg', 'linspace', 'little_endian', 'load', 'loads', 'loadtxt', 'log', 'log10', 'log1p', 'log2', 'logaddexp', 'logaddexp2', 'logical_and', 'logical_not', 'logical_or', 'logical_xor', 'logspace', 'long', 'longcomplex', 'longdouble', 'longfloat', 'longlong', 'lookfor', 'ma', 'mafromtxt', 'mask_indices', 'mat', 'math', 'matmul', 'matrix', 'matrixlib', 'max', 'maximum', 'maximum_sctype', 'may_share_memory', 'mean', 'median', 'memmap', 'meshgrid', 'mgrid', 'min', 'min_scalar_type', 'minimum', 'mintypecode', 'mirr', 'mod', 'modf', 'moveaxis', 'msort', 'multiply', 'nan', 'nan_to_num', 'nanargmax', 'nanargmin', 'nancumprod', 'nancumsum', 'nanmax', 'nanmean', 'nanmedian', 'nanmin', 'nanpercentile', 'nanprod', 'nanquantile', 'nanstd', 'nansum', 'nanvar', 'nbytes', 'ndarray', 'ndenumerate', 'ndfromtxt', 'ndim', 'ndindex', 'nditer', 'negative', 'nested_iters', 'newaxis', 'nextafter', 'nonzero', 'not_equal', 'nper', 'npv', 'numarray', 'number', 'obj2sctype', 'object', 'object0', 'object_', 'ogrid', 'oldnumeric', 'ones', 'ones_like', 'outer', 'packbits', 'pad', 'partition', 'percentile', 'pi', 'piecewise', 'pkgload', 'place', 'pmt', 'poly', 'poly1d', 'polyadd', 'polyder', 'polydiv', 'polyfit', 'polyint', 'polymul', 'polynomial', 'polysub', 'polyval', 'positive', 'power', 'ppmt', 'print_function', 'printoptions', 'prod', 'product', 'promote_types', 'ptp', 'put', 'put_along_axis', 'putmask', 'pv', 'quantile', 'r_', 'rad2deg', 'radians', 'random', 'rank', 'rate', 'ravel', 'ravel_multi_index', 'real', 'real_if_close', 'rec', 'recarray', 'recfromcsv', 'recfromtxt', 'reciprocal', 'record', 'remainder', 'repeat', 'require', 'reshape', 'resize', 'result_type', 'right_shift', 'rint', 'roll', 'rollaxis', 'roots', 'rot90', 'round', 'round_', 'row_stack', 's_', 'safe_eval', 'save', 'savetxt', 'savez', 'savez_compressed', 'sctype2char', 'sctypeDict', 'sctypeNA', 'sctypes', 'searchsorted', 'select', 'set_numeric_ops', 'set_printoptions', 'set_string_function', 'setbufsize', 'setdiff1d', 'seterr', 'seterrcall', 'seterrobj', 'setxor1d', 'shape', 'shares_memory', 'short', 'show_config', 'sign', 'signbit', 'signedinteger', 'sin', 'sinc', 'single', 'singlecomplex', 'sinh', 'size', 'sometrue', 'sort', 'sort_complex', 'source', 'spacing', 'split', 'sqrt', 'square', 'squeeze', 'stack', 'std', 'str', 'str0', 'str_', 'string_', 'subtract', 'sum', 'swapaxes', 'sys', 'take', 'take_along_axis', 'tan', 'tanh', 'tensordot', 'test', 'testing', 'tile', 'timedelta64', 'trace', 'tracemalloc_domain', 'transpose', 'trapz', 'tri', 'tril', 'tril_indices', 'tril_indices_from', 'trim_zeros', 'triu', 'triu_indices', 'triu_indices_from', 'true_divide', 'trunc', 'typeDict', 'typeNA', 'typecodes', 'typename', 'ubyte', 'ufunc', 'uint', 'uint0', 'uint16', 'uint32', 'uint64', 'uint8', 'uintc', 'uintp', 'ulonglong', 'unicode', 'unicode_', 'union1d', 'unique', 'unpackbits', 'unravel_index', 'unsignedinteger', 'unwrap', 'ushort', 'vander', 'var', 'vdot', 'vectorize', 'version', 'void', 'void0', 'vsplit', 'vstack', 'warnings', 'where', 'who', 'zeros', 'zeros_like']\n",
      "\n",
      "['Categorical', 'CategoricalIndex', 'DataFrame', 'DateOffset', 'DatetimeIndex', 'ExcelFile', 'ExcelWriter', 'Expr', 'Float64Index', 'Grouper', 'HDFStore', 'Index', 'IndexSlice', 'Int64Index', 'Interval', 'IntervalIndex', 'MultiIndex', 'NaT', 'Panel', 'Period', 'PeriodIndex', 'RangeIndex', 'Series', 'SparseArray', 'SparseDataFrame', 'SparseSeries', 'Term', 'TimeGrouper', 'Timedelta', 'TimedeltaIndex', 'Timestamp', 'UInt64Index', 'WidePanel', '_DeprecatedModule', '__builtins__', '__cached__', '__doc__', '__docformat__', '__file__', '__loader__', '__name__', '__package__', '__path__', '__spec__', '__version__', '_hashtable', '_lib', '_libs', '_np_version_under1p10', '_np_version_under1p11', '_np_version_under1p12', '_np_version_under1p13', '_np_version_under1p14', '_np_version_under1p15', '_tslib', '_version', 'api', 'bdate_range', 'compat', 'concat', 'core', 'crosstab', 'cut', 'date_range', 'datetime', 'datetools', 'describe_option', 'errors', 'eval', 'factorize', 'get_dummies', 'get_option', 'get_store', 'groupby', 'infer_freq', 'interval_range', 'io', 'isna', 'isnull', 'json', 'lib', 'lreshape', 'match', 'melt', 'merge', 'merge_asof', 'merge_ordered', 'notna', 'notnull', 'np', 'offsets', 'option_context', 'options', 'pandas', 'parser', 'period_range', 'pivot', 'pivot_table', 'plot_params', 'plotting', 'pnow', 'qcut', 'read_clipboard', 'read_csv', 'read_excel', 'read_feather', 'read_fwf', 'read_gbq', 'read_hdf', 'read_html', 'read_json', 'read_msgpack', 'read_parquet', 'read_pickle', 'read_sas', 'read_sql', 'read_sql_query', 'read_sql_table', 'read_stata', 'read_table', 'reset_option', 'scatter_matrix', 'set_eng_float_format', 'set_option', 'show_versions', 'test', 'testing', 'timedelta_range', 'to_datetime', 'to_msgpack', 'to_numeric', 'to_pickle', 'to_timedelta', 'tools', 'tseries', 'tslib', 'unique', 'util', 'value_counts', 'wide_to_long']\n",
      "\n"
     ]
    }
   ],
   "source": [
    "#Check content of libraris....\n",
    "\n",
    "import math\n",
    "import numpy\n",
    "import pandas\n",
    "\n",
    "content = dir(math)\n",
    "print( \"{}\\n\" .format(content))\n",
    "\n",
    "print(math.log2(2))\n",
    "\n",
    "content = dir(numpy)\n",
    "print( \"{}\\n\" .format(content))\n",
    "\n",
    "content = dir(pandas)\n",
    "print( \"{}\\n\" .format(content))\n"
   ]
  },
  {
   "cell_type": "code",
   "execution_count": 20,
   "metadata": {},
   "outputs": [
    {
     "name": "stdout",
     "output_type": "stream",
     "text": [
      "['csv,', 'excel,', 'spss']\n",
      "True\n",
      "True\n"
     ]
    }
   ],
   "source": [
    "print(\"csv, excel, spss\".split())\n",
    "\n",
    "print(\"abc\".isalpha())\n",
    "\n",
    "print(\"123\".isdigit())"
   ]
  },
  {
   "cell_type": "code",
   "execution_count": 26,
   "metadata": {},
   "outputs": [
    {
     "name": "stdout",
     "output_type": "stream",
     "text": [
      "<class 'NoneType'>\n",
      "Hanu\n",
      "HanuHanu\n",
      "HanuHanuHanu\n",
      "HanuHanuHanuHanu\n",
      "HanuHanuHanuHanuHanu\n",
      "HanuHanuHanuHanuHanuHanu\n",
      "HanuHanuHanuHanuHanuHanuHanu\n",
      "HanuHanuHanuHanuHanuHanuHanuHanu\n",
      "HanuHanuHanuHanuHanuHanuHanuHanuHanu\n"
     ]
    }
   ],
   "source": [
    "sample = None  # using sample as a place holder\n",
    "\n",
    "print(type(sample))\n",
    "\n",
    "for i in range(1,10):\n",
    "    sample = \"Hanu\"\n",
    "    print(i * sample)"
   ]
  },
  {
   "cell_type": "code",
   "execution_count": 28,
   "metadata": {},
   "outputs": [
    {
     "data": {
      "text/plain": [
       "'smaller'"
      ]
     },
     "execution_count": 28,
     "metadata": {},
     "output_type": "execute_result"
    }
   ],
   "source": [
    "a = 1\n",
    "b = 2\n",
    "\"bigger\" if a > b else \"smaller\""
   ]
  },
  {
   "cell_type": "code",
   "execution_count": 44,
   "metadata": {},
   "outputs": [
    {
     "name": "stdout",
     "output_type": "stream",
     "text": [
      "2  5\n",
      "<class 'str'>\n",
      "<class 'int'>\n"
     ]
    }
   ],
   "source": [
    "a = '2'\n",
    "b = 5\n",
    "print(\"%s  %d\" %(a,b) )\n",
    "print(type(a))\n",
    "print(type(b))"
   ]
  },
  {
   "cell_type": "code",
   "execution_count": 59,
   "metadata": {},
   "outputs": [
    {
     "name": "stdout",
     "output_type": "stream",
     "text": [
      "['Hannu', 'Phani', 'Aniket']\n",
      "['Devops', 'Python']\n"
     ]
    }
   ],
   "source": [
    "students_list = [\"Hannu\", \"Phani\",\"Aniket\"]\n",
    "course_list = list([\"Devops\",\"Python\"])\n",
    "print(students_list)\n",
    "print(course_list)"
   ]
  },
  {
   "cell_type": "markdown",
   "metadata": {},
   "source": [
    "tuple2 = (\"not changable\", \"cannot change\")\n",
    "tuple1 = tuple((\"NA\", \"NB\"))"
   ]
  },
  {
   "cell_type": "code",
   "execution_count": 64,
   "metadata": {},
   "outputs": [
    {
     "data": {
      "text/plain": [
       "1"
      ]
     },
     "execution_count": 64,
     "metadata": {},
     "output_type": "execute_result"
    }
   ],
   "source": [
    "myTuple = (1,2,3,4,5,3,4,53,25,2,5,25,25,2)\n",
    "myTuple.count(2)\n",
    "myTuple.index(2)"
   ]
  },
  {
   "cell_type": "code",
   "execution_count": 70,
   "metadata": {},
   "outputs": [
    {
     "name": "stdout",
     "output_type": "stream",
     "text": [
      "{1, 2, 3, 4, 5, 6, 8}\n",
      "{0, 3, 4, 5, 7, 8, 9}\n"
     ]
    }
   ],
   "source": [
    "setA = {1,3,4,2,6,8,5,3,5,6}\n",
    "setB = {9,3,5,8,4,7,0,3,4,7}\n",
    "print(setA)\n",
    "print(setB)"
   ]
  },
  {
   "cell_type": "code",
   "execution_count": 72,
   "metadata": {},
   "outputs": [
    {
     "name": "stdout",
     "output_type": "stream",
     "text": [
      "<class 'list'>\n"
     ]
    }
   ],
   "source": [
    "list1 = [1,2,3,4,5]\n",
    "print(type(list1))\n",
    "\n"
   ]
  },
  {
   "cell_type": "code",
   "execution_count": 5,
   "metadata": {},
   "outputs": [
    {
     "name": "stdout",
     "output_type": "stream",
     "text": [
      "C:\\Users\\HP\\PYTHON BASICS&DATA STRUCTURES\n"
     ]
    }
   ],
   "source": [
    "import os\n",
    "print(os.getcwd())"
   ]
  },
  {
   "cell_type": "code",
   "execution_count": null,
   "metadata": {},
   "outputs": [],
   "source": []
  },
  {
   "cell_type": "code",
   "execution_count": null,
   "metadata": {},
   "outputs": [],
   "source": []
  }
 ],
 "metadata": {
  "kernelspec": {
   "display_name": "Python 3",
   "language": "python",
   "name": "python3"
  },
  "language_info": {
   "codemirror_mode": {
    "name": "ipython",
    "version": 3
   },
   "file_extension": ".py",
   "mimetype": "text/x-python",
   "name": "python",
   "nbconvert_exporter": "python",
   "pygments_lexer": "ipython3",
   "version": "3.6.5"
  }
 },
 "nbformat": 4,
 "nbformat_minor": 2
}
