{
 "cells": [
  {
   "cell_type": "markdown",
   "metadata": {},
   "source": [
    "# strings"
   ]
  },
  {
   "cell_type": "code",
   "execution_count": 2,
   "metadata": {},
   "outputs": [
    {
     "name": "stdout",
     "output_type": "stream",
     "text": [
      "True\n",
      "00000000this is string example....wow!!!\n",
      "sandeep\n",
      "7\n",
      "This Is String Example....Wow!!!\n",
      "THIS IS STRING EXAMPLE....WOW!!!\n",
      "this is string example....wow!!!\n",
      "True\n",
      "['Line1-a b c d e f\\n', 'Line2- a b c\\n', '\\n', 'Line4- a b c d']\n",
      "['Line1-abcdef', 'Line2-abc', 'Line4-abcd']\n",
      "     this is string example....wow!!!\n",
      "88888888this is string example....wow!!!\n",
      "this is string example....wow!!!8888888\n",
      "000000000000000000this is string example....wow!!!\n",
      "this is string example....wow!!!000000000000000000\n",
      "5\n",
      "2\n",
      "-1\n",
      "thwas was string example....wow!!! thwas was really string\n",
      "thwas was string example....wow!!! thwas is really string\n",
      "Max character: y\n",
      "Min character:  \n"
     ]
    }
   ],
   "source": [
    "str1 = u\"23443434\";\n",
    "print (str1.isdecimal());\n",
    "\n",
    "str2 = \"this is string example....wow!!!\";\n",
    "print( str2.zfill(40))\n",
    "\n",
    "str3=\"sandeep\"\n",
    "str3.upper()\n",
    "\n",
    "str4=\"SANDEEP\"\n",
    "str4.lower()\n",
    "print (str4.lower())\n",
    "print(len(str4))\n",
    "\n",
    "str5 = \"this is string example....wow!!!\";\n",
    "print(str5.title())\n",
    "\n",
    "str6= \"this is string example....wow!!!\";\n",
    "print (str6.swapcase())\n",
    "\n",
    "str7 = \"0000000this is string example....wow!!!0000000\";\n",
    "print (str7.strip( '0' ))\n",
    "\n",
    "str8 = \"this is string example....wow!!!\";\n",
    "print (str8.startswith( 'this' ))\n",
    "\n",
    "str9 = \"Line1-a b c d e f\\nLine2- a b c\\n\\nLine4- a b c d\";\n",
    "print (str9.splitlines( 3 ))\n",
    "\n",
    "str0 = \"Line1-abcdef \\nLine2-abc \\nLine4-abcd\";\n",
    "print (str0.split( ))\n",
    "\n",
    "str11= \"     this is string example....wow!!!     \";\n",
    "print (str11.rstrip())\n",
    "str12 = \"88888888this is string example....wow!!!8888888\";\n",
    "print (str12.rstrip('8'))\n",
    "print (str12.lstrip(\"8\"))\n",
    "\n",
    "str13 = \"this is string example....wow!!!\";\n",
    "print( str13.rjust(50, '0'))\n",
    "print (str13.ljust(50, '0'))\n",
    "\n",
    "str14 = \"this is string example....wow!!!\";\n",
    "str15 = \"is\";\n",
    "print (str14.rindex(str15))\n",
    "print (str14.find(str15, 0, 10))\n",
    "print (str14.find(str15, 10, 0))\n",
    "\n",
    "str16 = \"this is string example....wow!!! this is really string\"\n",
    "print (str16.replace(\"is\", \"was\"))\n",
    "print (str16.replace(\"is\", \"was\", 3))\n",
    "\n",
    "str17 = \"this is really a string example....wow!!!\";\n",
    "print (\"Max character: \" + max(str17))\n",
    "str18 = \"this is really a string example....wow!!!\";\n",
    "print (\"Min character: \" +min(str18))\n"
   ]
  },
  {
   "cell_type": "code",
   "execution_count": 3,
   "metadata": {},
   "outputs": [
    {
     "name": "stdout",
     "output_type": "stream",
     "text": [
      "a-b-c\n",
      "True\n",
      "False\n",
      "True\n",
      "False\n",
      "False\n",
      "False\n",
      "False\n",
      "True\n",
      "a-b-c\n",
      "True\n"
     ]
    }
   ],
   "source": [
    "s = \"-\";\n",
    "seq = (\"a\", \"b\", \"c\"); # This is sequence of strings.\n",
    "print (s.join( seq ))\n",
    "\n",
    "str19 = \"this\";  # No space & digit in this string\n",
    "print (str19.isalpha())\n",
    "\n",
    "str20 = \"this\";  # No space & digit in this string\n",
    "print (str20.isdigit())\n",
    "\n",
    "str21 = \"this\";  # No space & digit in this string\n",
    "print (str21.islower())\n",
    "\n",
    "str22 = \"this\";  # No space & digit in this string\n",
    "print (str22.isnumeric())\n",
    "\n",
    "str23 = \"this\";  # No space & digit in this string\n",
    "print (str23.isspace())\n",
    "\n",
    "str24 = \"this\";  # No space & digit in this string\n",
    "print (str24.istitle())\n",
    "\n",
    "str25 = \"this\";  # No space & digit in this string\n",
    "print (str25.isupper())\n",
    "\n",
    "str26 = \"this\";  # No space & digit in this string\n",
    "print (str26.islower())\n",
    "\n",
    "s = \"-\";\n",
    "seq = (\"a\", \"b\", \"c\"); # This is sequence of strings.\n",
    "print (s.join( seq ))\n",
    "\n",
    "str19 = \"this\";  # No space & digit in this string\n",
    "print (str19.isalpha())"
   ]
  },
  {
   "cell_type": "markdown",
   "metadata": {},
   "source": [
    "# lists"
   ]
  },
  {
   "cell_type": "code",
   "execution_count": 13,
   "metadata": {},
   "outputs": [
    {
     "name": "stdout",
     "output_type": "stream",
     "text": [
      "list1[0]:  physics\n",
      "list2[1:5]:  [2, 3, 4, 5]\n"
     ]
    },
    {
     "data": {
      "text/plain": [
       "['physics',\n",
       " 'chemistry',\n",
       " 1997,\n",
       " 2000,\n",
       " 'physics',\n",
       " 'chemistry',\n",
       " 1997,\n",
       " 2000,\n",
       " 'physics',\n",
       " 'chemistry',\n",
       " 1997,\n",
       " 2000,\n",
       " 'physics',\n",
       " 'chemistry',\n",
       " 1997,\n",
       " 2000]"
      ]
     },
     "execution_count": 13,
     "metadata": {},
     "output_type": "execute_result"
    }
   ],
   "source": [
    "list1 = ['physics', 'chemistry', 1997, 2000];\n",
    "list2 = [1, 2, 3, 4, 5, 6, 7 ];\n",
    "print (\"list1[0]: \", list1[0])\n",
    "print( \"list2[1:5]: \", list2[1:5])\n",
    "len(list1)\n",
    "list1+list2\n",
    "list1*4\n"
   ]
  },
  {
   "cell_type": "code",
   "execution_count": 8,
   "metadata": {},
   "outputs": [
    {
     "name": "stdout",
     "output_type": "stream",
     "text": [
      "['physics', 'chemistry', 1997, 2000]\n",
      "After deleting value at index 2 :  ['physics', 'chemistry', 2000]\n"
     ]
    },
    {
     "data": {
      "text/plain": [
       "3"
      ]
     },
     "execution_count": 8,
     "metadata": {},
     "output_type": "execute_result"
    }
   ],
   "source": [
    "list1 = ['physics', 'chemistry', 1997, 2000];\n",
    "print(list1)\n",
    "del list1[2];\n",
    "print(\"After deleting value at index 2 : \",list1)\n",
    "\n"
   ]
  },
  {
   "cell_type": "code",
   "execution_count": 29,
   "metadata": {},
   "outputs": [
    {
     "name": "stdout",
     "output_type": "stream",
     "text": [
      "5\n",
      "1\n",
      "['a', 1, 4, 5, 'e']\n"
     ]
    }
   ],
   "source": [
    "l=[1,2,3,4,5]\n",
    "l[2]\n",
    "l[-2]\n",
    "l[1:]\n",
    "print(max(l))\n",
    "print(min(l))\n",
    "q=(\"a\",1,4,5,\"e\")\n",
    "a=list(q)\n",
    "print(a)"
   ]
  },
  {
   "cell_type": "code",
   "execution_count": 45,
   "metadata": {},
   "outputs": [
    {
     "name": "stdout",
     "output_type": "stream",
     "text": [
      "[123, 'xyz', 'zara', 'abc', 123, 'zara', 2009]\n",
      "Count for 123 :  2\n",
      "Count for zara :  2\n",
      "Extended List :  [123, 'xyz', 'zara', 'abc', 123, 'zara', 2009, 2009, 'manni']\n",
      "Index for xyz :  1\n",
      "Final List :  [123, 'xyz', 'zara', 2009, 'abc', 123, 'zara', 2009, 2009, 'manni']\n",
      "A List :  manni\n",
      "B List :  zara\n",
      "List :  [123, 2009, 'abc', 123, 'zara', 2009, 2009]\n",
      "List :  [2009, 2009, 'zara', 123, 'abc', 2009, 123]\n",
      "List :  [1, 3, 4, 5, 5, 6, 7]\n"
     ]
    }
   ],
   "source": [
    "aList = [123, 'xyz', 'zara', 'abc',123,'zara']\n",
    "bList = [2009, 'manni']\n",
    "aList.append( 2009 )\n",
    "print(aList)\n",
    "\n",
    "print( \"Count for 123 : \", aList.count(123))\n",
    "print (\"Count for zara : \", aList.count('zara'))\n",
    "\n",
    "aList.extend(bList)\n",
    "print( \"Extended List : \", aList )\n",
    "\n",
    "print (\"Index for xyz : \", aList.index( 'xyz' ) )\n",
    "\n",
    "aList.insert( 3, 2009)\n",
    "print (\"Final List : \", aList)\n",
    "\n",
    "print (\"A List : \", aList.pop())#deletes randomly a number and displays deleted value\n",
    "print (\"B List : \", aList.pop(2))#deletes 3 number from list\n",
    "\n",
    "aList.remove('xyz')\n",
    "print (\"List : \", aList)\n",
    "\n",
    "aList.reverse()\n",
    "print (\"List : \", aList)\n",
    "\n",
    "List=[3,5,7,1,4,5,6]\n",
    "List.sort()\n",
    "print (\"List : \", List)"
   ]
  },
  {
   "cell_type": "markdown",
   "metadata": {},
   "source": [
    "# tuples"
   ]
  },
  {
   "cell_type": "code",
   "execution_count": 1,
   "metadata": {},
   "outputs": [
    {
     "name": "stdout",
     "output_type": "stream",
     "text": [
      "()\n",
      "\n",
      "\n",
      "(1, 2, 3)\n",
      "\n",
      "\n",
      "(1, 'Hello', 3.4)\n",
      "\n",
      "\n",
      "('mouse', [8, 4, 6], (1, 2, 3))\n",
      "\n",
      "\n",
      "(3, 4.6, 'dog')\n"
     ]
    }
   ],
   "source": [
    " my_tuple = ()\n",
    "print(my_tuple)\n",
    "print(\"\\n\")\n",
    "my_tuple = (1, 2, 3)\n",
    "print(my_tuple)\n",
    "print(\"\\n\")     \n",
    "my_tuple = (1, \"Hello\", 3.4)\n",
    "print(my_tuple)\n",
    "print(\"\\n\")     \n",
    "my_tuple = (\"mouse\", [8, 4, 6], (1, 2, 3))\n",
    "print(my_tuple)\n",
    "print(\"\\n\")     \n",
    "my_tuple = 3, 4.6, \"dog\"\n",
    "print(my_tuple)"
   ]
  },
  {
   "cell_type": "code",
   "execution_count": 2,
   "metadata": {},
   "outputs": [
    {
     "name": "stdout",
     "output_type": "stream",
     "text": [
      "<class 'tuple'>\n"
     ]
    }
   ],
   "source": [
    "my_tuple = (\"hello\",)\n",
    "print(type(my_tuple))\n"
   ]
  },
  {
   "cell_type": "code",
   "execution_count": 5,
   "metadata": {},
   "outputs": [
    {
     "name": "stdout",
     "output_type": "stream",
     "text": [
      "p\n",
      "t\n",
      "m\n",
      "\n",
      "\n"
     ]
    },
    {
     "ename": "IndexError",
     "evalue": "list index out of range",
     "output_type": "error",
     "traceback": [
      "\u001b[1;31m---------------------------------------------------------------------------\u001b[0m",
      "\u001b[1;31mIndexError\u001b[0m                                Traceback (most recent call last)",
      "\u001b[1;32m<ipython-input-5-8766d75efdbf>\u001b[0m in \u001b[0;36m<module>\u001b[1;34m()\u001b[0m\n\u001b[0;32m      5\u001b[0m \u001b[0mprint\u001b[0m\u001b[1;33m(\u001b[0m\u001b[1;34m\"\\n\"\u001b[0m\u001b[1;33m)\u001b[0m\u001b[1;33m\u001b[0m\u001b[0m\n\u001b[0;32m      6\u001b[0m \u001b[0mn_tuple\u001b[0m \u001b[1;33m=\u001b[0m \u001b[1;33m(\u001b[0m\u001b[1;34m\"mouse\"\u001b[0m\u001b[1;33m,\u001b[0m \u001b[1;33m[\u001b[0m\u001b[1;36m8\u001b[0m\u001b[1;33m,\u001b[0m \u001b[1;36m4\u001b[0m\u001b[1;33m,\u001b[0m \u001b[1;36m6\u001b[0m\u001b[1;33m]\u001b[0m\u001b[1;33m,\u001b[0m \u001b[1;33m(\u001b[0m\u001b[1;36m1\u001b[0m\u001b[1;33m,\u001b[0m \u001b[1;36m2\u001b[0m\u001b[1;33m,\u001b[0m \u001b[1;36m3\u001b[0m\u001b[1;33m)\u001b[0m\u001b[1;33m)\u001b[0m\u001b[1;33m\u001b[0m\u001b[0m\n\u001b[1;32m----> 7\u001b[1;33m \u001b[0mprint\u001b[0m\u001b[1;33m(\u001b[0m\u001b[0mn_tuple\u001b[0m\u001b[1;33m[\u001b[0m\u001b[1;36m1\u001b[0m\u001b[1;33m]\u001b[0m\u001b[1;33m[\u001b[0m\u001b[1;36m3\u001b[0m\u001b[1;33m]\u001b[0m\u001b[1;33m)\u001b[0m\u001b[1;33m\u001b[0m\u001b[0m\n\u001b[0m\u001b[0;32m      8\u001b[0m \u001b[0mprint\u001b[0m\u001b[1;33m(\u001b[0m\u001b[0mn_tuple\u001b[0m\u001b[1;33m[\u001b[0m\u001b[1;36m1\u001b[0m\u001b[1;33m]\u001b[0m\u001b[1;33m[\u001b[0m\u001b[1;36m1\u001b[0m\u001b[1;33m]\u001b[0m\u001b[1;33m)\u001b[0m\u001b[1;33m\u001b[0m\u001b[0m\n",
      "\u001b[1;31mIndexError\u001b[0m: list index out of range"
     ]
    }
   ],
   "source": [
    "my_tuple = ('p','e','r','m','i','t')\n",
    "print(my_tuple[0])\n",
    "print(my_tuple[5])\n",
    "print(my_tuple[3]) # IndexError: list index out of range\n",
    "print(\"\\n\")\n",
    "n_tuple = (\"mouse\", [8, 4, 6], (1, 2, 3))\n",
    "print(n_tuple[1][3])\n",
    "print(n_tuple[1][1])"
   ]
  },
  {
   "cell_type": "code",
   "execution_count": 8,
   "metadata": {},
   "outputs": [
    {
     "name": "stdout",
     "output_type": "stream",
     "text": [
      "t\n",
      "p\n",
      "('r', 'o', 'g')\n",
      "('p', 'r')\n",
      "('i', 'z')\n"
     ]
    }
   ],
   "source": [
    "my_tuple = ('p','e','r','m','i','t')\n",
    "print(my_tuple[-1])\n",
    "print(my_tuple[-6])\n",
    "\n",
    "#Slicing\n",
    "my_tuple = ('p','r','o','g','r','a','m','i','z')\n",
    "print(my_tuple[1:4])\n",
    "print(my_tuple[:-7])\n",
    "print(my_tuple[7:])\n"
   ]
  },
  {
   "cell_type": "code",
   "execution_count": 9,
   "metadata": {},
   "outputs": [
    {
     "name": "stdout",
     "output_type": "stream",
     "text": [
      "(1, 2, 3, 4, 5, 6)\n",
      "('Repeat', 'Repeat', 'Repeat')\n"
     ]
    }
   ],
   "source": [
    " # Concatenation\n",
    "print((1, 2, 3) + (4, 5, 6))\n",
    "# Repeat\n",
    "print((\"Repeat\",) * 3)\n"
   ]
  },
  {
   "cell_type": "code",
   "execution_count": 10,
   "metadata": {},
   "outputs": [
    {
     "name": "stdout",
     "output_type": "stream",
     "text": [
      "2\n",
      "3\n"
     ]
    }
   ],
   "source": [
    "my_tuple = ('a','p','p','l','e',)\n",
    "# Count\n",
    "print(my_tuple.count('p'))\n",
    "# Index\n",
    "print(my_tuple.index('l'))\n"
   ]
  },
  {
   "cell_type": "code",
   "execution_count": 11,
   "metadata": {},
   "outputs": [
    {
     "name": "stdout",
     "output_type": "stream",
     "text": [
      "True\n",
      "\n",
      "\n",
      "False\n",
      "True\n"
     ]
    }
   ],
   "source": [
    "my_tuple = ('a','p','p','l','e',)\n",
    "# In operation\n",
    "print('a' in my_tuple)\n",
    "print(\"\\n\")\n",
    "print('b' in my_tuple)\n",
    "# Not in operation\n",
    "print('g' not in my_tuple)"
   ]
  },
  {
   "cell_type": "code",
   "execution_count": 12,
   "metadata": {},
   "outputs": [
    {
     "name": "stdout",
     "output_type": "stream",
     "text": [
      "Hello kalyan\n",
      "Hello Kumar\n"
     ]
    }
   ],
   "source": [
    "for name in ('kalyan','Kumar'):\n",
    "     print(\"Hello\",name) \n"
   ]
  },
  {
   "cell_type": "code",
   "execution_count": null,
   "metadata": {},
   "outputs": [],
   "source": [
    "# Built-in functions like all(), any(), enumerate(), len(), max(), min(), sorted(), tuple() etc. \n",
    "# are commonly used with tuple to perform different tasks.\n",
    "\n",
    "# assaigning a value to a variable is not possible\n",
    "\n",
    "# deleting a variable is not possiblr\n",
    "\n"
   ]
  },
  {
   "cell_type": "markdown",
   "metadata": {},
   "source": [
    "# dictionaries"
   ]
  },
  {
   "cell_type": "code",
   "execution_count": 14,
   "metadata": {},
   "outputs": [
    {
     "name": "stdout",
     "output_type": "stream",
     "text": [
      "{}\n",
      "{1: 'apple', 2: 'ball'}\n",
      "{'name': 'John', 1: [2, 4, 3]}\n",
      "{1: 'apple', 2: 'ball'}\n",
      "{1: 'apple', 2: 'ball'}\n"
     ]
    }
   ],
   "source": [
    "# empty dictionary\n",
    "my_dict = {}\n",
    "print(my_dict)\n",
    "# dictionary with integer keys\n",
    "my_dict = {1: 'apple', 2: 'ball'}\n",
    "print(my_dict)\n",
    "\n",
    "# dictionary with mixed keys\n",
    "my_dict = {'name': 'John', 1: [2, 4, 3]}\n",
    "print(my_dict)\n",
    "\n",
    "# using dict()\n",
    "my_dict = dict({1:'apple', 2:'ball'})\n",
    "print(my_dict)\n",
    "\n",
    "# from sequence having each item as a pair\n",
    "my_dict = dict([(1,'apple'), (2,'ball')])\n",
    "print(my_dict)\n"
   ]
  },
  {
   "cell_type": "code",
   "execution_count": 18,
   "metadata": {},
   "outputs": [
    {
     "name": "stdout",
     "output_type": "stream",
     "text": [
      "Jack\n",
      "26\n"
     ]
    }
   ],
   "source": [
    "my_dict = {'name':'Jack', 'age': 26}\n",
    "print(my_dict['name'])\n",
    "print(my_dict.get('age'))\n",
    "\n",
    "#my_dict.get('address')\n",
    "# my_dict['address']"
   ]
  },
  {
   "cell_type": "code",
   "execution_count": 19,
   "metadata": {},
   "outputs": [
    {
     "name": "stdout",
     "output_type": "stream",
     "text": [
      "{'name': 'Jack', 'age': 27}\n",
      "{'name': 'Jack', 'age': 27, 'address': 'Downtown'}\n"
     ]
    }
   ],
   "source": [
    "# update value\n",
    "my_dict = {'name':'Jack', 'age': 26}\n",
    "my_dict['age'] = 27\n",
    "print(my_dict)\n",
    "# add item\n",
    "my_dict['address'] = 'Downtown'  \n",
    "print(my_dict)"
   ]
  },
  {
   "cell_type": "code",
   "execution_count": 21,
   "metadata": {},
   "outputs": [
    {
     "name": "stdout",
     "output_type": "stream",
     "text": [
      "16\n",
      "{1: 1, 2: 4, 3: 9, 5: 25}\n",
      "(5, 25)\n",
      "{1: 1, 2: 4, 3: 9}\n",
      "{1: 1, 2: 4, 3: 9}\n",
      "{}\n"
     ]
    }
   ],
   "source": [
    "# create a dictionary\n",
    "squares = {1:1, 2:4, 3:9, 4:16, 5:25}\n",
    "# remove a particular item\n",
    "print(squares.pop(4))  \n",
    "print(squares)\n",
    "# remove an arbitrary item\n",
    "# Output: (1, 1)\n",
    "print(squares.popitem())\n",
    "print(squares)\n",
    "\n",
    "# delete a particular item\n",
    "del squares[5] \n",
    "    \n",
    "print(squares)\n",
    "\n",
    "# remove all items\n",
    "squares.clear()\n",
    "    \n",
    "print(squares)\n",
    "\n",
    "# delete the dictionary itself\n",
    "del squares"
   ]
  },
  {
   "cell_type": "code",
   "execution_count": 22,
   "metadata": {},
   "outputs": [
    {
     "name": "stdout",
     "output_type": "stream",
     "text": [
      "d = {}\n"
     ]
    }
   ],
   "source": [
    "#clear function\n",
    "d = {1: \"one\", 2: \"two\"}\n",
    "d.clear()\n",
    "print('d =', d)\n"
   ]
  },
  {
   "cell_type": "code",
   "execution_count": 23,
   "metadata": {},
   "outputs": [
    {
     "name": "stdout",
     "output_type": "stream",
     "text": [
      "Removing items using clear()\n",
      "d = {}\n",
      "d1 = {}\n",
      "Removing items by assigning {}\n",
      "d = {}\n",
      "d1 = {1: 'one', 2: 'two'}\n"
     ]
    }
   ],
   "source": [
    "d = {1: \"one\", 2: \"two\"}\n",
    "d1 = d\n",
    "d.clear()\n",
    "print('Removing items using clear()')\n",
    "print('d =', d)\n",
    "print('d1 =', d1)\n",
    "d = {1: \"one\", 2: \"two\"}\n",
    "d1 = d\n",
    "d = {}\n",
    "print('Removing items by assigning {}')\n",
    "print('d =', d)\n",
    "print('d1 =', d1)\n"
   ]
  },
  {
   "cell_type": "code",
   "execution_count": 24,
   "metadata": {},
   "outputs": [
    {
     "name": "stdout",
     "output_type": "stream",
     "text": [
      "Orignal:  {1: 'one', 2: 'two'}\n",
      "New:  {1: 'one', 2: 'two'}\n"
     ]
    }
   ],
   "source": [
    "#copy\n",
    "original = {1:'one', 2:'two'}\n",
    "new = original.copy()\n",
    "print('Orignal: ', original)\n",
    "print('New: ', new)"
   ]
  },
  {
   "cell_type": "code",
   "execution_count": 25,
   "metadata": {},
   "outputs": [
    {
     "name": "stdout",
     "output_type": "stream",
     "text": [
      "new:  {}\n",
      "original:  {}\n"
     ]
    }
   ],
   "source": [
    "original = {1:'one', 2:'two'}\n",
    "new = original\n",
    "# removing all elements from the list\n",
    "new.clear()\n",
    "print('new: ', new)\n",
    "print('original: ', original)"
   ]
  },
  {
   "cell_type": "code",
   "execution_count": 26,
   "metadata": {},
   "outputs": [
    {
     "name": "stdout",
     "output_type": "stream",
     "text": [
      "new:  {}\n",
      "original:  {1: 'one', 2: 'two'}\n"
     ]
    }
   ],
   "source": [
    "original = {1:'one', 2:'two'}\n",
    "new = original.copy()\n",
    "# removing all elements from the list\n",
    "new.clear()\n",
    "print('new: ', new)\n",
    "print('original: ', original)\n"
   ]
  },
  {
   "cell_type": "markdown",
   "metadata": {},
   "source": [
    "# sets"
   ]
  },
  {
   "cell_type": "markdown",
   "metadata": {},
   "source": [
    "A set is an unordered collection of items. Every element is unique (no duplicates) and must be immutable (which cannot be changed).\n",
    "\n",
    "However, the set itself is mutable. We can add or remove items from it.\n"
   ]
  },
  {
   "cell_type": "code",
   "execution_count": 1,
   "metadata": {},
   "outputs": [
    {
     "name": "stdout",
     "output_type": "stream",
     "text": [
      "{1, 2, 3}\n",
      "{'Hello', 1.0, (1, 2, 3)}\n"
     ]
    }
   ],
   "source": [
    "my_set = {1, 2, 3}\n",
    "print(my_set)\n",
    "\n",
    "# set of mixed datatypes\n",
    "my_set = {1.0, \"Hello\", (1, 2, 3)}\n",
    "print(my_set)"
   ]
  },
  {
   "cell_type": "code",
   "execution_count": 2,
   "metadata": {},
   "outputs": [
    {
     "name": "stdout",
     "output_type": "stream",
     "text": [
      "<class 'dict'>\n",
      "<class 'set'>\n"
     ]
    }
   ],
   "source": [
    "#empty set\n",
    "a={}\n",
    "print(type(a))\n",
    "b=set()\n",
    "print(type(b))"
   ]
  },
  {
   "cell_type": "code",
   "execution_count": 10,
   "metadata": {},
   "outputs": [
    {
     "name": "stdout",
     "output_type": "stream",
     "text": [
      "{1, 2, 3, 4, 5, 6}\n",
      "{1, 2, 3, 4, 5, 6, 7, 8, 9}\n",
      "{1, 2, 3, 4, 5, 6, 7, 8, 9, 10, 11, 12, 13, 14}\n"
     ]
    }
   ],
   "source": [
    "myset={1,2,3,4,5}\n",
    "#print(myset[1]) it wont supports indexing\n",
    "myset.add(6)\n",
    "print(myset)#add function\n",
    "myset.update([7,8,9])#update function\n",
    "print(myset)\n",
    "myset.update([10,11], {12,13,14})#we can update the list and set values\n",
    "print(myset)\n"
   ]
  },
  {
   "cell_type": "code",
   "execution_count": 14,
   "metadata": {},
   "outputs": [
    {
     "name": "stdout",
     "output_type": "stream",
     "text": [
      "{2, 3, 4, 5, 6, 7}\n",
      "{3, 4, 5, 6, 7}\n",
      "{3, 4, 5, 6, 7}\n"
     ]
    },
    {
     "ename": "KeyError",
     "evalue": "8",
     "output_type": "error",
     "traceback": [
      "\u001b[1;31m---------------------------------------------------------------------------\u001b[0m",
      "\u001b[1;31mKeyError\u001b[0m                                  Traceback (most recent call last)",
      "\u001b[1;32m<ipython-input-14-78181641a38d>\u001b[0m in \u001b[0;36m<module>\u001b[1;34m()\u001b[0m\n\u001b[0;32m      6\u001b[0m \u001b[0mmylist\u001b[0m\u001b[1;33m.\u001b[0m\u001b[0mdiscard\u001b[0m\u001b[1;33m(\u001b[0m\u001b[1;36m8\u001b[0m\u001b[1;33m)\u001b[0m\u001b[1;33m\u001b[0m\u001b[0m\n\u001b[0;32m      7\u001b[0m \u001b[0mprint\u001b[0m\u001b[1;33m(\u001b[0m\u001b[0mmylist\u001b[0m\u001b[1;33m)\u001b[0m\u001b[1;33m\u001b[0m\u001b[0m\n\u001b[1;32m----> 8\u001b[1;33m \u001b[0mmylist\u001b[0m\u001b[1;33m.\u001b[0m\u001b[0mremove\u001b[0m\u001b[1;33m(\u001b[0m\u001b[1;36m8\u001b[0m\u001b[1;33m)\u001b[0m\u001b[1;33m\u001b[0m\u001b[0m\n\u001b[0m\u001b[0;32m      9\u001b[0m \u001b[0mprint\u001b[0m\u001b[1;33m(\u001b[0m\u001b[0mmylist\u001b[0m\u001b[1;33m)\u001b[0m\u001b[1;33m\u001b[0m\u001b[0m\n",
      "\u001b[1;31mKeyError\u001b[0m: 8"
     ]
    }
   ],
   "source": [
    "#removes&discard functions\n",
    "mylist={1,2,3,4,5,6,7}\n",
    "mylist.discard(1)\n",
    "print(mylist)\n",
    "mylist.remove(2)\n",
    "print(mylist)\n",
    "mylist.discard(8)#it wont shows error if element was not there\n",
    "print(mylist)\n",
    "mylist.remove(8)#it shows error if element was not there\n",
    "print(mylist)\n"
   ]
  },
  {
   "cell_type": "code",
   "execution_count": 18,
   "metadata": {},
   "outputs": [
    {
     "name": "stdout",
     "output_type": "stream",
     "text": [
      "{2, 3, 4, 5, 6, 7, 8, 9, 10}\n",
      "{3, 4, 5, 6, 7, 8, 9, 10}\n",
      "{4, 5, 6, 7, 8, 9, 10}\n",
      "{5, 6, 7, 8, 9, 10}\n",
      "set()\n"
     ]
    }
   ],
   "source": [
    "#pop functions\n",
    "mylist={1,2,3,4,5,6,7,8,9,10}\n",
    "mylist.discard(1)\n",
    "print(mylist)\n",
    "mylist.remove(2)\n",
    "print(mylist)\n",
    "mylist.pop()#removes the first element\n",
    "print(mylist)\n",
    "mylist.pop()\n",
    "print(mylist)\n",
    "mylist.clear()\n",
    "print(mylist)"
   ]
  },
  {
   "cell_type": "code",
   "execution_count": 23,
   "metadata": {},
   "outputs": [
    {
     "name": "stdout",
     "output_type": "stream",
     "text": [
      "{1, 2, 3, 4, 5, 6, 7, 8}\n",
      "{1, 2, 3, 4, 5, 6, 7, 8}\n",
      "{4, 5}\n",
      "{4, 5}\n",
      "{1, 2, 3}\n",
      "{1, 2, 3}\n",
      "{1, 2, 3, 6, 7, 8}\n"
     ]
    }
   ],
   "source": [
    "#set oprations\n",
    "A ={1, 2, 3, 4, 5}\n",
    "B= {4, 5, 6, 7, 8}\n",
    "#union operations\n",
    "print(A | B)\n",
    "print(A.union(B)) \n",
    "#intersection operation\n",
    "print(A & B)\n",
    "print(A.intersection(B))\n",
    "#difference operation\n",
    "print(A - B)\n",
    "print(A.difference(B))\n",
    "#symmetric operation\n",
    "print(A ^ B)\n"
   ]
  },
  {
   "cell_type": "code",
   "execution_count": null,
   "metadata": {},
   "outputs": [],
   "source": []
  },
  {
   "cell_type": "code",
   "execution_count": null,
   "metadata": {},
   "outputs": [],
   "source": []
  },
  {
   "cell_type": "code",
   "execution_count": null,
   "metadata": {},
   "outputs": [],
   "source": []
  },
  {
   "cell_type": "code",
   "execution_count": null,
   "metadata": {},
   "outputs": [],
   "source": []
  },
  {
   "cell_type": "code",
   "execution_count": null,
   "metadata": {},
   "outputs": [],
   "source": []
  },
  {
   "cell_type": "code",
   "execution_count": null,
   "metadata": {},
   "outputs": [],
   "source": []
  },
  {
   "cell_type": "code",
   "execution_count": null,
   "metadata": {},
   "outputs": [],
   "source": []
  },
  {
   "cell_type": "code",
   "execution_count": null,
   "metadata": {},
   "outputs": [],
   "source": []
  }
 ],
 "metadata": {
  "kernelspec": {
   "display_name": "Python 3",
   "language": "python",
   "name": "python3"
  },
  "language_info": {
   "codemirror_mode": {
    "name": "ipython",
    "version": 3
   },
   "file_extension": ".py",
   "mimetype": "text/x-python",
   "name": "python",
   "nbconvert_exporter": "python",
   "pygments_lexer": "ipython3",
   "version": "3.6.5"
  }
 },
 "nbformat": 4,
 "nbformat_minor": 2
}
