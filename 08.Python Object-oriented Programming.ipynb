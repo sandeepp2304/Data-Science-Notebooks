{
 "cells": [
  {
   "cell_type": "code",
   "execution_count": 3,
   "metadata": {},
   "outputs": [
    {
     "name": "stdout",
     "output_type": "stream",
     "text": [
      "<__main__.Employee object at 0x000000C3D34EEF98>\n",
      "<__main__.Employee object at 0x000000C3D34EEFD0>\n",
      "kalyan.k@gvipl.com\n",
      "100000\n"
     ]
    }
   ],
   "source": [
    "class Employee:\n",
    "      pass\n",
    "\n",
    "emp1 = Employee()\n",
    "emp2 = Employee()\n",
    "\n",
    "print(emp1)\n",
    "print(emp2)\n",
    "\n",
    "emp1.firstname = 'kalyan'\n",
    "emp1.lastname = 'k'\n",
    "emp1.email = 'kalyan.k@gvipl.com'\n",
    "emp1.pay = 200000\n",
    "\n",
    "emp2.firstname = 'krishna'\n",
    "emp2.lastname = 'k'\n",
    "emp2.email = 'krishna.k@gvipl.com'\n",
    "emp2.pay = 100000\n",
    "\n",
    "print(emp1.email)\n",
    "print(emp2.pay)"
   ]
  },
  {
   "cell_type": "code",
   "execution_count": null,
   "metadata": {},
   "outputs": [],
   "source": []
  }
 ],
 "metadata": {
  "kernelspec": {
   "display_name": "Python 3",
   "language": "python",
   "name": "python3"
  },
  "language_info": {
   "codemirror_mode": {
    "name": "ipython",
    "version": 3
   },
   "file_extension": ".py",
   "mimetype": "text/x-python",
   "name": "python",
   "nbconvert_exporter": "python",
   "pygments_lexer": "ipython3",
   "version": "3.6.5"
  }
 },
 "nbformat": 4,
 "nbformat_minor": 2
}
