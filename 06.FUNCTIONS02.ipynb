{
 "cells": [
  {
   "cell_type": "markdown",
   "metadata": {},
   "source": [
    "### Python Functions\n",
    "1. A function is a bloc of organized, reusable code that is used to perform a single, related actin\n",
    "2. Function bloc begin with the keyword 'def' followed by name and paranthesis ()\n",
    "\n",
    "    def functionName( parameters):\n",
    "        \"function doc string\"\n",
    "         functin _suite\n",
    "         return [expression]\n",
    "         "
   ]
  },
  {
   "cell_type": "code",
   "execution_count": 8,
   "metadata": {},
   "outputs": [
    {
     "name": "stdout",
     "output_type": "stream",
     "text": [
      " Enter your name:hau\n",
      "Enter your age:30\n",
      " Hi hau. You are 30 years old\n"
     ]
    }
   ],
   "source": [
    "def printStr(name, age):\n",
    "    print( \" Hi %s. You are %d years old\" %(name, age))\n",
    "\n",
    "name = input(\" Enter your name:\")\n",
    "age = eval(input(\"Enter your age:\"))\n",
    "\n",
    "printStr(name, age)"
   ]
  },
  {
   "cell_type": "code",
   "execution_count": 12,
   "metadata": {},
   "outputs": [
    {
     "name": "stdout",
     "output_type": "stream",
     "text": [
      "['hello', 10, 20, [1, 2, 3, 4]]\n",
      "['hello', 10, 20, [1, 2, 3, 4]]\n"
     ]
    }
   ],
   "source": [
    "def changeMe(myList):\n",
    "    myList.append([1,2,3,4])\n",
    "    print(myList)\n",
    "    \n",
    "myList = ['hello', 10, 20]\n",
    "\n",
    "changeMe(myList)\n",
    "print(myList)"
   ]
  },
  {
   "cell_type": "markdown",
   "metadata": {},
   "source": [
    "###  Function Arguments\n",
    "\n",
    "1. Required arguments    \n",
    "2. Keyword arguments\n",
    "3. Default arguments\n",
    "4. Variable length arguments\n",
    "\n"
   ]
  },
  {
   "cell_type": "code",
   "execution_count": 48,
   "metadata": {},
   "outputs": [
    {
     "name": "stdout",
     "output_type": "stream",
     "text": [
      " Hi Hannu. You are 30 years old\n",
      " Hi .. My name is Hannu and my age is 30 years\n",
      "The sum of the numbers is: 60\n",
      "The sum of the numbers is: 920\n"
     ]
    }
   ],
   "source": [
    "#########Required Arguments\n",
    "\n",
    "#1. Required arguments are the arguments passed to a function in correct positional order. \n",
    "# 2. The number of arguments in the function call should match exactly with the function definition.\n",
    "\n",
    "#printStr(name) # throws TypeError 'cause two argurments has to be passed\n",
    "\n",
    "######## Keyword Arguments\n",
    "\n",
    "# 1. When you use keyword arguments in function, the caller identifies the arguments by the parameter name.\n",
    "# 2. The order of the parameters passed doesn't matter while using keyword argument calling.\n",
    "\n",
    "printStr (age = 30, name = \"Hannu\" ) #here name and age  parameters are not passed in order, still works\n",
    "\n",
    "######### Default Argument\n",
    "# 1. default argument is an argument that assumes a default value if a \n",
    "#    value is not provided in the function call for that argument.\n",
    "\n",
    "# 2. default value for the argument has to be provided in the function defination.\n",
    "\n",
    "def printMe(name, age = 30):\n",
    "    print( \" Hi .. My name is %s and my age is %d years\" %(name, age))\n",
    "\n",
    "printMe(\"Hannu\") #here age parameters has not been passed any value, so it takes default value : 30\n",
    "\n",
    "######### Variable-length arguments\n",
    "\n",
    "# 1. You may need to process a function for more arguments than you specified while defining the function. \n",
    "#    These arguments are called variable-length arguments\n",
    "# 2. They are not named in the function definition, unlike required and default arguments.\n",
    "# 3. An asterisk (*) is placed before the variable name that holds the values of all nonkeyword variable arguments. \n",
    "#    This tuple remains empty if no additional arguments are specified during the function call.\n",
    "\n",
    "#  Syntax: def functionname([formal_args,] *var_args_tuple ):\n",
    "#             \"function_docstring\"\n",
    "#              function_suite\n",
    "#              return [expression]\n",
    "\n",
    "\n",
    "def sumOf( num1,  *numTuple):\n",
    "    sum = num1\n",
    "    for var in numTuple:\n",
    "        sum = sum + var\n",
    "    print(\"The sum of the numbers is: %s\" %(sum))\n",
    "\n",
    "sumOf(10,20,30) # here 10 is formal/required argument and rest are variable lenght argument\n",
    "sumOf(30,40,50,100,300,150,250)\n",
    "\n",
    "\n"
   ]
  },
  {
   "cell_type": "markdown",
   "metadata": {},
   "source": [
    "### Anonymous Functions\n",
    "1. Functions are called anonymous because they are not declared in the standard manner by using the def keyword. \n",
    "2. You can use the lambda keyword to create small anonymous functions.\n",
    "\n",
    "Syntax: functionName = lambda [arg1 [,arg2,.....argn]]:expression\n",
    "\n",
    "\n",
    "\n",
    "\n"
   ]
  },
  {
   "cell_type": "code",
   "execution_count": 56,
   "metadata": {},
   "outputs": [
    {
     "name": "stdout",
     "output_type": "stream",
     "text": [
      "30\n",
      "80\n",
      "100\n",
      "625\n",
      "8\n"
     ]
    }
   ],
   "source": [
    "sumValue = lambda arg1, arg2 : arg1 + arg2 # defining the anonymous function\n",
    "\n",
    "print(sumValue(10,20))\n",
    "print(sumValue(30,50))\n",
    "\n",
    "square = lambda x : print( x**2) \n",
    "\n",
    "square(10)\n",
    "square(25)\n",
    "\n",
    "power = lambda x, y : x**y\n",
    "print(power(2,3))"
   ]
  },
  {
   "cell_type": "markdown",
   "metadata": {},
   "source": [
    "### The return Statement\n",
    "#1. The statement return [expression] exits a function, optionally passing back an expression to the caller.\n",
    "#2. A return statement with no arguments is the same as return None."
   ]
  },
  {
   "cell_type": "code",
   "execution_count": 35,
   "metadata": {},
   "outputs": [
    {
     "name": "stdout",
     "output_type": "stream",
     "text": [
      "Inside the function : 30 \n",
      "Outside the function :  30\n"
     ]
    }
   ],
   "source": [
    "def total( arg1, arg2 ):\n",
    "   total = arg1 + arg2\n",
    "   print (\"Inside the function : %d \" %(total))\n",
    "   return total\n",
    "\n",
    "total = total( 10, 20 )\n",
    "print (\"Outside the function : \", total )"
   ]
  },
  {
   "cell_type": "markdown",
   "metadata": {},
   "source": [
    "### Scope of Variables\n",
    "1. Global Variables : Accessible anywhere in the program, we have to specify global keyword\n",
    "2. Local Variables : accessible within the function it is defined\n",
    "\n"
   ]
  },
  {
   "cell_type": "code",
   "execution_count": 49,
   "metadata": {},
   "outputs": [
    {
     "name": "stdout",
     "output_type": "stream",
     "text": [
      "The sum of the numbers is: 60\n",
      "The sum of the numbers is: 920\n"
     ]
    }
   ],
   "source": [
    "sum = 0\n",
    "\n",
    "def sumOf( num1,  *numTuple):\n",
    "    global sum # accessing global variable sum by global keyword\n",
    "    sum = num1\n",
    "    for var in numTuple:\n",
    "        sum = sum + var\n",
    "    print(\"The sum of the numbers is: %s\" %(sum))\n",
    "\n",
    "sumOf(10,20,30) # here 10 is formal/required argument and rest are variable lenght argument\n",
    "sumOf(30,40,50,100,300,150,250)"
   ]
  },
  {
   "cell_type": "code",
   "execution_count": 68,
   "metadata": {},
   "outputs": [
    {
     "name": "stdout",
     "output_type": "stream",
     "text": [
      "[6, 7, 8, 9, 10]\n",
      "[2, 4, 6, 8, 10, 12, 14, 16, 18, 20]\n"
     ]
    }
   ],
   "source": [
    "l = [1,2,3,4,5,6,7,8,9,10]\n",
    "\n",
    "#using lambda function with filter()\n",
    "# filter() function filters the list l based on the condition and creates filtered_list list with the output\n",
    "filtered_list = list(filter(lambda x: (x*2) > 10, l)) \n",
    "print(filtered_list)\n",
    "\n",
    "#map() applies the function to all items of the list\n",
    "mapped_list = list(map(lambda x: x*2,l))\n",
    "print(mapped_list)\n",
    "\n",
    "# reduce() function cumulatively to items of the list, from left to right and reduce the sequence to the single value, 55 in this case\n",
    "reduced_list = list(reduce())"
   ]
  },
  {
   "cell_type": "markdown",
   "metadata": {},
   "source": [
    "###  Main function\n",
    "1"
   ]
  },
  {
   "cell_type": "code",
   "execution_count": 74,
   "metadata": {},
   "outputs": [
    {
     "name": "stdout",
     "output_type": "stream",
     "text": [
      "Hello, Python\n",
      "This is main function\n"
     ]
    }
   ],
   "source": [
    "def hello():\n",
    "    print(\"Hello, Python\")\n",
    "\n",
    "def main():\n",
    "    hello()\n",
    "    print(\"This is main function\")\n",
    "    \n",
    "#main() # one way of calling the main() function\n",
    "\n",
    "if __name__ ==  '__main__':  # another way of calling the main() function\n",
    "    main()"
   ]
  },
  {
   "cell_type": "markdown",
   "metadata": {},
   "source": [
    "###  Class "
   ]
  },
  {
   "cell_type": "code",
   "execution_count": 82,
   "metadata": {},
   "outputs": [
    {
     "name": "stdout",
     "output_type": "stream",
     "text": [
      "bhou... bhou...bhou... bhou...\n"
     ]
    }
   ],
   "source": [
    "class Dog:\n",
    "    \n",
    "    def __init__(self, legs, color):  # initializing the object (as a constructor)\n",
    "        self.legs = legs\n",
    "        self.color = color\n",
    "    \n",
    "    def bark(self): # class method...\n",
    "        bark = \"bhou... bhou...\" * 2\n",
    "        return bark\n",
    "    \n",
    "if __name__ == \"__main__\":\n",
    "    tommy = Dog(4, \"Brown\")\n",
    "    bark = tommy.bark()\n",
    "    print(bark)\n",
    "    "
   ]
  },
  {
   "cell_type": "markdown",
   "metadata": {},
   "source": [
    "### Functions"
   ]
  },
  {
   "cell_type": "code",
   "execution_count": null,
   "metadata": {},
   "outputs": [],
   "source": [
    "def my_func():\n",
    "    print(\"Hello from my Function\")\n",
    "\n",
    "def my_func_args(userName, greeting):\n",
    "    print(\"Hello, %s, From my Function!, I wish you %s\" %(userName, greeting))\n",
    "\n",
    "my_func()\n",
    "my_func_args(\"Hannu\", \"Great years\")\n",
    "\n"
   ]
  },
  {
   "cell_type": "code",
   "execution_count": null,
   "metadata": {},
   "outputs": [],
   "source": []
  },
  {
   "cell_type": "code",
   "execution_count": null,
   "metadata": {},
   "outputs": [],
   "source": []
  },
  {
   "cell_type": "code",
   "execution_count": null,
   "metadata": {},
   "outputs": [],
   "source": []
  }
 ],
 "metadata": {
  "kernelspec": {
   "display_name": "Python 3",
   "language": "python",
   "name": "python3"
  },
  "language_info": {
   "codemirror_mode": {
    "name": "ipython",
    "version": 3
   },
   "file_extension": ".py",
   "mimetype": "text/x-python",
   "name": "python",
   "nbconvert_exporter": "python",
   "pygments_lexer": "ipython3",
   "version": "3.6.5"
  }
 },
 "nbformat": 4,
 "nbformat_minor": 2
}
