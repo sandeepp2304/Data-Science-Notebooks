{
 "cells": [
  {
   "cell_type": "code",
   "execution_count": 1,
   "metadata": {},
   "outputs": [
    {
     "name": "stdout",
     "output_type": "stream",
     "text": [
      "['EST', 'Temperature', 'DewPoint', 'Humidity', 'Sea Level PressureIn', 'VisibilityMiles', 'WindSpeedMPH', 'PrecipitationIn', 'CloudCover', 'Events', 'WindDirDegrees']\n",
      "EST\n",
      "EST Temperature DewPoint\n",
      "['1/1/2016', '38', '23', '52', '30.03', '10', '8', '0', '5', '', '281']\n",
      "1/1/2016\n",
      "1/1/2016 38 23\n",
      "['1/2/2016', '36', '18', '46', '30.02', '10', '7', '0', '3', '', '275']\n",
      "1/2/2016\n",
      "1/2/2016 36 18\n",
      "['1/3/2016', '40', '21', '47', '29.86', '10', '8', '0', '1', '', '277']\n",
      "1/3/2016\n",
      "1/3/2016 40 21\n",
      "['1/4/2016', '25', '9', '44', '30.05', '10', '9', '0', '3', '', '345']\n",
      "1/4/2016\n",
      "1/4/2016 25 9\n",
      "['1/5/2016', '20', '-3', '41', '30.57', '10', '5', '0', '0', '', '333']\n",
      "1/5/2016\n",
      "1/5/2016 20 -3\n",
      "['1/6/2016', '33', '4', '35', '30.5', '10', '4', '0', '0', '', '259']\n",
      "1/6/2016\n",
      "1/6/2016 33 4\n",
      "['1/7/2016', '39', '11', '33', '30.28', '10', '2', '0', '3', '', '293']\n",
      "1/7/2016\n",
      "1/7/2016 39 11\n",
      "['1/8/2016', '39', '29', '64', '30.2', '10', '4', '0', '8', '', '79']\n",
      "1/8/2016\n",
      "1/8/2016 39 29\n",
      "['1/9/2016', '44', '38', '77', '30.16', '9', '8', 'T', '8', 'Rain', '76']\n",
      "1/9/2016\n",
      "1/9/2016 44 38\n",
      "['1/10/2016', '50', '46', '71', '29.59', '4', '', '1.8', '7', 'Rain', '109']\n",
      "1/10/2016\n",
      "1/10/2016 50 46\n",
      "['1/11/2016', '33', '8', '37', '29.92', '10', '', '0', '1', '', '289']\n",
      "1/11/2016\n",
      "1/11/2016 33 8\n",
      "['1/12/2016', '35', '15', '53', '29.85', '10', '6', 'T', '4', '', '235']\n",
      "1/12/2016\n",
      "1/12/2016 35 15\n",
      "['1/13/2016', '26', '4', '42', '29.94', '10', '10', '0', '0', '', '284']\n",
      "1/13/2016\n",
      "1/13/2016 26 4\n",
      "['1/14/2016', '30', '12', '47', '29.95', '10', '5', 'T', '7', '', '266']\n",
      "1/14/2016\n",
      "1/14/2016 30 12\n",
      "['1/15/2016', '43', '31', '62', '29.82', '9', '5', 'T', '2', '', '101']\n",
      "1/15/2016\n",
      "1/15/2016 43 31\n",
      "['1/16/2016', '47', '37', '70', '29.52', '8', '7', '0.24', '7', 'Rain', '340']\n",
      "1/16/2016\n",
      "1/16/2016 47 37\n",
      "['1/17/2016', '36', '23', '66', '29.78', '8', '6', '0.05', '6', 'Fog-Snow', '345']\n",
      "1/17/2016\n",
      "1/17/2016 36 23\n",
      "['1/18/2016', '25', '6', '53', '29.83', '9', '12', 'T', '2', 'Snow', '293']\n",
      "1/18/2016\n",
      "1/18/2016 25 6\n",
      "['1/19/2016', '22', '3', '42', '30.03', '10', '11', '0', '1', '', '293']\n",
      "1/19/2016\n",
      "1/19/2016 22 3\n",
      "['1/20/2016', '32', '15', '49', '30.13', '10', '6', '0', '2', '', '302']\n",
      "1/20/2016\n",
      "1/20/2016 32 15\n",
      "['1/21/2016', '31', '11', '45', '30.15', '10', '6', '0', '1', '', '312']\n",
      "1/21/2016\n",
      "1/21/2016 31 11\n",
      "['1/22/2016', '26', '6', '41', '30.21', '9', '', '0.01', '3', 'Snow', '34']\n",
      "1/22/2016\n",
      "1/22/2016 26 6\n",
      "['1/23/2016', '26', '21', '78', '29.77', '1', '16', '2.31', '8', 'Fog-Snow', '42']\n",
      "1/23/2016\n",
      "1/23/2016 26 21\n",
      "['1/24/2016', '28', '11', '53', '29.92', '8', '6', 'T', '3', 'Snow', '327']\n",
      "1/24/2016\n",
      "1/24/2016 28 11\n",
      "['1/25/2016', '34', '18', '54', '30.25', '10', '3', '0', '2', '', '286']\n",
      "1/25/2016\n",
      "1/25/2016 34 18\n",
      "['1/26/2016', '43', '29', '56', '30.03', '10', '7', '0', '2', '', '244']\n",
      "1/26/2016\n",
      "1/26/2016 43 29\n",
      "['1/27/2016', '41', '22', '45', '30.03', '10', '7', 'T', '3', 'Rain', '311']\n",
      "1/27/2016\n",
      "1/27/2016 41 22\n",
      "['1/28/2016', '37', '20', '51', '29.9', '10', '5', '0', '1', '', '234']\n",
      "1/28/2016\n",
      "1/28/2016 37 20\n",
      "['1/29/2016', '36', '21', '50', '29.58', '10', '8', '0', '4', '', '298']\n",
      "1/29/2016\n",
      "1/29/2016 36 21\n",
      "['1/30/2016', '34', '16', '46', '30.01', '10', '7', '0', '0', '', '257']\n",
      "1/30/2016\n",
      "1/30/2016 34 16\n",
      "['1/31/2016', '46', '28', '52', '29.9', '10', '5', '0', '0', '', '241']\n",
      "1/31/2016\n",
      "1/31/2016 46 28\n"
     ]
    }
   ],
   "source": [
    "import csv\n",
    "with open('nyc_weather.csv') as csvfile:\n",
    "    readCSV = csv.reader(csvfile, delimiter=',')\n",
    "    for row in readCSV:\n",
    "        print(row)\n",
    "        print(row[0])\n",
    "        print(row[0],row[1],row[2],)"
   ]
  },
  {
   "cell_type": "code",
   "execution_count": 3,
   "metadata": {},
   "outputs": [
    {
     "name": "stdout",
     "output_type": "stream",
     "text": [
      "['01-02-2014', '5', '8', 'red']\n",
      "01-02-2014\n",
      "01-02-2014 5 8\n",
      "['01-03-2014', '5', '2', 'green']\n",
      "01-03-2014\n",
      "01-03-2014 5 2\n",
      "['01-04-2014', '9', '1', 'blue']\n",
      "01-04-2014\n",
      "01-04-2014 9 1\n"
     ]
    }
   ],
   "source": [
    "import csv\n",
    "with open('example.csv') as csvfile:\n",
    "    readCSV = csv.reader(csvfile, delimiter=',')\n",
    "    for row in readCSV:\n",
    "        print(row)\n",
    "        print(row[0])\n",
    "        print(row[0],row[1],row[2],)"
   ]
  },
  {
   "cell_type": "code",
   "execution_count": 1,
   "metadata": {},
   "outputs": [
    {
     "name": "stdout",
     "output_type": "stream",
     "text": [
      "['01-02-2014', '01-03-2014', '01-04-2014']\n",
      "['red', 'green', 'blue']\n"
     ]
    }
   ],
   "source": [
    "import csv\n",
    "\n",
    "with open('example.csv') as csvfile:\n",
    "    readCSV = csv.reader(csvfile, delimiter=',')\n",
    "    dates = []\n",
    "    colors = []\n",
    "    for row in readCSV:\n",
    "        color = row[3]\n",
    "        date = row[0]\n",
    "\n",
    "        dates.append(date)\n",
    "        colors.append(color)\n",
    "\n",
    "    print(dates)\n",
    "    print(colors)"
   ]
  },
  {
   "cell_type": "code",
   "execution_count": 5,
   "metadata": {},
   "outputs": [
    {
     "name": "stdout",
     "output_type": "stream",
     "text": [
      "['01-02-2014', '5', '8', 'red']\n",
      "['01-03-2014', '5', '2', 'green']\n",
      "['01-04-2014', '9', '1', 'blue']\n"
     ]
    }
   ],
   "source": [
    "#read & write operations\n",
    "#csv.read operations\n",
    "with open('example.csv') as File:  \n",
    "    reader = csv.reader(File)\n",
    "    for row in reader:\n",
    "        print(row)\n",
    "\n"
   ]
  },
  {
   "cell_type": "code",
   "execution_count": 6,
   "metadata": {},
   "outputs": [
    {
     "name": "stdout",
     "output_type": "stream",
     "text": [
      "Writing the data is completed\n"
     ]
    }
   ],
   "source": [
    "#csv.write operations\n",
    "ifile = open('example2.csv','r')\n",
    "reader = csv.reader(ifile)\n",
    "\n",
    "ofile = open('example1.csv','w')\n",
    "writer = csv.writer(ofile,delimiter = ',')\n",
    "\n",
    "for i in reader:\n",
    "    writer.writerow(i)\n",
    "\n",
    "ifile.close()\n",
    "ofile.close()    \n",
    "print(\"Writing the data is completed\")\n"
   ]
  },
  {
   "cell_type": "code",
   "execution_count": 7,
   "metadata": {},
   "outputs": [
    {
     "name": "stdout",
     "output_type": "stream",
     "text": [
      "P vr\n",
      "P ck\n",
      "P sk\n",
      "P pk\n",
      "P mk\n",
      "P sk\n"
     ]
    }
   ],
   "source": [
    "#DictReader and DictWriter Classes\n",
    "import csv\n",
    "with open('names.csv') as csvfile:\n",
    "    reader = csv.DictReader(csvfile)\n",
    "    for row in reader:\n",
    "         print(row['first_name'], row['last_name'])"
   ]
  },
  {
   "cell_type": "code",
   "execution_count": 8,
   "metadata": {},
   "outputs": [
    {
     "name": "stdout",
     "output_type": "stream",
     "text": [
      "Writing complete\n"
     ]
    }
   ],
   "source": [
    "import csv\n",
    " \n",
    "with open('example4.csv', 'w') as csvfile:\n",
    "    fieldnames = ['first_name', 'last_name', 'Grade']\n",
    "    writer = csv.DictWriter(csvfile, fieldnames=fieldnames)\n",
    " \n",
    "    writer.writeheader()\n",
    "    writer.writerow({'Grade': 'B', 'first_name': 'Alex', 'last_name': 'Brian'})\n",
    "    writer.writerow({'Grade': 'A', 'first_name': 'Rachael','last_name': 'Rodriguez'})\n",
    "    writer.writerow({'Grade': 'B', 'first_name': 'Jane', 'last_name': 'Oscar'})\n",
    "    writer.writerow({'Grade': 'B', 'first_name': 'Jane', 'last_name': 'Loive'})\n",
    " \n",
    "print(\"Writing complete\")"
   ]
  },
  {
   "cell_type": "code",
   "execution_count": 14,
   "metadata": {},
   "outputs": [
    {
     "ename": "AttributeError",
     "evalue": "module 'xlwt' has no attribute 'open_workbook'",
     "output_type": "error",
     "traceback": [
      "\u001b[1;31m---------------------------------------------------------------------------\u001b[0m",
      "\u001b[1;31mAttributeError\u001b[0m                            Traceback (most recent call last)",
      "\u001b[1;32m<ipython-input-14-aefc7e076b82>\u001b[0m in \u001b[0;36m<module>\u001b[1;34m()\u001b[0m\n\u001b[0;32m      3\u001b[0m \u001b[1;32mimport\u001b[0m \u001b[0mxlrd\u001b[0m\u001b[1;33m\u001b[0m\u001b[0m\n\u001b[0;32m      4\u001b[0m \u001b[1;32mimport\u001b[0m \u001b[0mxlwt\u001b[0m\u001b[1;33m\u001b[0m\u001b[0m\n\u001b[1;32m----> 5\u001b[1;33m \u001b[0mworkbook\u001b[0m \u001b[1;33m=\u001b[0m \u001b[0mxlwt\u001b[0m\u001b[1;33m.\u001b[0m\u001b[0mopen_workbook\u001b[0m\u001b[1;33m(\u001b[0m\u001b[1;34m\"C:/Users/HP/Desktop/sandeep.xls\"\u001b[0m\u001b[1;33m,\u001b[0m\u001b[1;34m\"wb\"\u001b[0m\u001b[1;33m)\u001b[0m\u001b[1;33m\u001b[0m\u001b[0m\n\u001b[0m\u001b[0;32m      6\u001b[0m \u001b[0mworkbook\u001b[0m\u001b[1;33m.\u001b[0m\u001b[0msave\u001b[0m\u001b[1;33m(\u001b[0m\u001b[1;33m)\u001b[0m\u001b[1;33m\u001b[0m\u001b[0m\n",
      "\u001b[1;31mAttributeError\u001b[0m: module 'xlwt' has no attribute 'open_workbook'"
     ]
    }
   ],
   "source": [
    "#Handling of Excel data using Python\n",
    "#creating a file\n",
    "import xlrd\n",
    "import xlwt\n",
    "workbook = xlrd.open_workbook(\"C:/Users/HP/Desktop/sandeep.xls\",\"wb\")\n",
    "workbook.save()"
   ]
  },
  {
   "cell_type": "code",
   "execution_count": 8,
   "metadata": {},
   "outputs": [
    {
     "ename": "TypeError",
     "evalue": "open_workbook() got an unexpected keyword argument 'encoding'",
     "output_type": "error",
     "traceback": [
      "\u001b[1;31m---------------------------------------------------------------------------\u001b[0m",
      "\u001b[1;31mTypeError\u001b[0m                                 Traceback (most recent call last)",
      "\u001b[1;32m<ipython-input-8-6974892ba6c3>\u001b[0m in \u001b[0;36m<module>\u001b[1;34m()\u001b[0m\n\u001b[0;32m      1\u001b[0m \u001b[1;31m#If your file has non-ASCII characters, you should open it in the unicode format as follows:\u001b[0m\u001b[1;33m\u001b[0m\u001b[1;33m\u001b[0m\u001b[0m\n\u001b[1;32m----> 2\u001b[1;33m \u001b[0mworkbook\u001b[0m \u001b[1;33m=\u001b[0m \u001b[0mxlrd\u001b[0m\u001b[1;33m.\u001b[0m\u001b[0mopen_workbook\u001b[0m\u001b[1;33m(\u001b[0m\u001b[1;34m'my_file_name.xls'\u001b[0m\u001b[1;33m,\u001b[0m \u001b[0mencoding\u001b[0m\u001b[1;33m=\u001b[0m\u001b[1;34m'cp1252'\u001b[0m\u001b[1;33m)\u001b[0m\u001b[1;33m\u001b[0m\u001b[0m\n\u001b[0m\u001b[0;32m      3\u001b[0m \u001b[1;33m\u001b[0m\u001b[0m\n\u001b[0;32m      4\u001b[0m \u001b[1;31m#If your spreadsheet is very large, you can add an argument on_demand to open_workbook, which loads only       current sheets to memory:\u001b[0m\u001b[1;33m\u001b[0m\u001b[1;33m\u001b[0m\u001b[0m\n\u001b[0;32m      5\u001b[0m \u001b[0mworkbook\u001b[0m \u001b[1;33m=\u001b[0m \u001b[0mxlrd\u001b[0m\u001b[1;33m.\u001b[0m\u001b[0mopen_workbook\u001b[0m\u001b[1;33m(\u001b[0m\u001b[1;34m'my_file_name.xls'\u001b[0m\u001b[1;33m,\u001b[0m \u001b[0mon_demand\u001b[0m \u001b[1;33m=\u001b[0m \u001b[1;32mTrue\u001b[0m\u001b[1;33m)\u001b[0m\u001b[1;33m\u001b[0m\u001b[0m\n",
      "\u001b[1;31mTypeError\u001b[0m: open_workbook() got an unexpected keyword argument 'encoding'"
     ]
    }
   ],
   "source": [
    " #If your file has non-ASCII characters, you should open it in the unicode format as follows:\n",
    "workbook = xlrd.open_workbook('my_file_name.xls', encoding='cp1252')\n",
    "\n",
    "#If your spreadsheet is very large, you can add an argument on_demand to open_workbook, which loads only       current sheets to memory:\n",
    "workbook = xlrd.open_workbook('my_file_name.xls', on_demand = True)\n"
   ]
  },
  {
   "cell_type": "code",
   "execution_count": 15,
   "metadata": {},
   "outputs": [
    {
     "ename": "NameError",
     "evalue": "name 'workbook' is not defined",
     "output_type": "error",
     "traceback": [
      "\u001b[1;31m---------------------------------------------------------------------------\u001b[0m",
      "\u001b[1;31mNameError\u001b[0m                                 Traceback (most recent call last)",
      "\u001b[1;32m<ipython-input-15-d1c2cc7c7e8f>\u001b[0m in \u001b[0;36m<module>\u001b[1;34m()\u001b[0m\n\u001b[0;32m      1\u001b[0m \u001b[1;31m#If you know the name of the sheet, you can open it by running the following:\u001b[0m\u001b[1;33m\u001b[0m\u001b[1;33m\u001b[0m\u001b[0m\n\u001b[1;32m----> 2\u001b[1;33m \u001b[0mworksheet\u001b[0m \u001b[1;33m=\u001b[0m \u001b[0mworkbook\u001b[0m\u001b[1;33m.\u001b[0m\u001b[0msheet_by_name\u001b[0m\u001b[1;33m(\u001b[0m\u001b[1;34m'names1'\u001b[0m\u001b[1;33m)\u001b[0m\u001b[1;33m\u001b[0m\u001b[0m\n\u001b[0m\u001b[0;32m      3\u001b[0m \u001b[0mworksheet\u001b[0m\u001b[1;33m\u001b[0m\u001b[0m\n",
      "\u001b[1;31mNameError\u001b[0m: name 'workbook' is not defined"
     ]
    }
   ],
   "source": [
    "#If you know the name of the sheet, you can open it by running the following:\n",
    "worksheet = workbook.sheet_by_name('names1')\n",
    "worksheet"
   ]
  },
  {
   "cell_type": "code",
   "execution_count": null,
   "metadata": {},
   "outputs": [],
   "source": [
    " #If you are not sure of the name of the sheet, you can open the first worksheet by its index:\n",
    "worksheet = workbook.sheet_by_index(0)\n",
    "sheet.cell(0, 0).value"
   ]
  },
  {
   "cell_type": "code",
   "execution_count": null,
   "metadata": {},
   "outputs": [],
   "source": [
    " #You can detect an empty cell by using empty_cell in xlrd.\n",
    "if sheet.cell(0, 0).value == xlrd.empty_cell.value:\n",
    "#Do something"
   ]
  },
  {
   "cell_type": "markdown",
   "metadata": {},
   "source": [
    "Creating spreadsheets\n",
    "---------------------\n",
    "The workflow for creating worksheets is similar to that of the previous section.\n",
    "\n",
    "1) Import the module xlwt\n",
    "2) Create a blank spreadsheet file (or workbook)\n",
    "3) Create a sheet within the file\n",
    "4) Put desired values in particular data cells\n",
    "5) Save the workbook"
   ]
  },
  {
   "cell_type": "code",
   "execution_count": 20,
   "metadata": {},
   "outputs": [
    {
     "ename": "IndexError",
     "evalue": "list index out of range",
     "output_type": "error",
     "traceback": [
      "\u001b[1;31m---------------------------------------------------------------------------\u001b[0m",
      "\u001b[1;31mIndexError\u001b[0m                                Traceback (most recent call last)",
      "\u001b[1;32m<ipython-input-20-dca57a37e9dc>\u001b[0m in \u001b[0;36m<module>\u001b[1;34m()\u001b[0m\n\u001b[0;32m      2\u001b[0m \u001b[1;32mimport\u001b[0m \u001b[0mxlwt\u001b[0m\u001b[1;33m\u001b[0m\u001b[0m\n\u001b[0;32m      3\u001b[0m \u001b[0mworkbook\u001b[0m \u001b[1;33m=\u001b[0m \u001b[0mxlwt\u001b[0m\u001b[1;33m.\u001b[0m\u001b[0mWorkbook\u001b[0m\u001b[1;33m(\u001b[0m\u001b[0mencoding\u001b[0m\u001b[1;33m=\u001b[0m\u001b[1;34m\"utf-8\"\u001b[0m\u001b[1;33m)\u001b[0m\u001b[1;33m\u001b[0m\u001b[0m\n\u001b[1;32m----> 4\u001b[1;33m \u001b[0mworkbook\u001b[0m\u001b[1;33m.\u001b[0m\u001b[0msave\u001b[0m\u001b[1;33m(\u001b[0m\u001b[1;34m'my_file.xls'\u001b[0m\u001b[1;33m)\u001b[0m\u001b[1;33m\u001b[0m\u001b[0m\n\u001b[0m",
      "\u001b[1;32m~\\Anaconda3\\lib\\site-packages\\xlwt\\Workbook.py\u001b[0m in \u001b[0;36msave\u001b[1;34m(self, filename_or_stream)\u001b[0m\n\u001b[0;32m    708\u001b[0m \u001b[1;33m\u001b[0m\u001b[0m\n\u001b[0;32m    709\u001b[0m         \u001b[0mdoc\u001b[0m \u001b[1;33m=\u001b[0m \u001b[0mCompoundDoc\u001b[0m\u001b[1;33m.\u001b[0m\u001b[0mXlsDoc\u001b[0m\u001b[1;33m(\u001b[0m\u001b[1;33m)\u001b[0m\u001b[1;33m\u001b[0m\u001b[0m\n\u001b[1;32m--> 710\u001b[1;33m         \u001b[0mdoc\u001b[0m\u001b[1;33m.\u001b[0m\u001b[0msave\u001b[0m\u001b[1;33m(\u001b[0m\u001b[0mfilename_or_stream\u001b[0m\u001b[1;33m,\u001b[0m \u001b[0mself\u001b[0m\u001b[1;33m.\u001b[0m\u001b[0mget_biff_data\u001b[0m\u001b[1;33m(\u001b[0m\u001b[1;33m)\u001b[0m\u001b[1;33m)\u001b[0m\u001b[1;33m\u001b[0m\u001b[0m\n\u001b[0m\u001b[0;32m    711\u001b[0m \u001b[1;33m\u001b[0m\u001b[0m\n\u001b[0;32m    712\u001b[0m \u001b[1;33m\u001b[0m\u001b[0m\n",
      "\u001b[1;32m~\\Anaconda3\\lib\\site-packages\\xlwt\\Workbook.py\u001b[0m in \u001b[0;36mget_biff_data\u001b[1;34m(self)\u001b[0m\n\u001b[0;32m    678\u001b[0m         \u001b[0meof\u001b[0m \u001b[1;33m=\u001b[0m \u001b[0mself\u001b[0m\u001b[1;33m.\u001b[0m\u001b[0m__eof_rec\u001b[0m\u001b[1;33m(\u001b[0m\u001b[1;33m)\u001b[0m\u001b[1;33m\u001b[0m\u001b[0m\n\u001b[0;32m    679\u001b[0m \u001b[1;33m\u001b[0m\u001b[0m\n\u001b[1;32m--> 680\u001b[1;33m         \u001b[0mself\u001b[0m\u001b[1;33m.\u001b[0m\u001b[0m__worksheets\u001b[0m\u001b[1;33m[\u001b[0m\u001b[0mself\u001b[0m\u001b[1;33m.\u001b[0m\u001b[0m__active_sheet\u001b[0m\u001b[1;33m]\u001b[0m\u001b[1;33m.\u001b[0m\u001b[0mselected\u001b[0m \u001b[1;33m=\u001b[0m \u001b[1;32mTrue\u001b[0m\u001b[1;33m\u001b[0m\u001b[0m\n\u001b[0m\u001b[0;32m    681\u001b[0m         \u001b[0msheets\u001b[0m \u001b[1;33m=\u001b[0m \u001b[1;34mb''\u001b[0m\u001b[1;33m\u001b[0m\u001b[0m\n\u001b[0;32m    682\u001b[0m         \u001b[0msheet_biff_lens\u001b[0m \u001b[1;33m=\u001b[0m \u001b[1;33m[\u001b[0m\u001b[1;33m]\u001b[0m\u001b[1;33m\u001b[0m\u001b[0m\n",
      "\u001b[1;31mIndexError\u001b[0m: list index out of range"
     ]
    }
   ],
   "source": [
    "#Create a new file\n",
    "import xlwt\n",
    "workbook = xlwt.Workbook()\n",
    "workbook.save('my_file.xls')"
   ]
  },
  {
   "cell_type": "code",
   "execution_count": null,
   "metadata": {},
   "outputs": [],
   "source": [
    "#Adding sheets\n",
    "sheet = workbook.add_sheet('Sheet_1')\n"
   ]
  },
  {
   "cell_type": "code",
   "execution_count": null,
   "metadata": {},
   "outputs": [],
   "source": [
    "#Working with cells in a sheet\n",
    "row = sheet.row(1) # Selecting the second row\n",
    "row.write(0,'2nd Row and 1st Column')\n",
    "row.write(1,'1st Row and 2nd Column')\n"
   ]
  },
  {
   "cell_type": "code",
   "execution_count": null,
   "metadata": {},
   "outputs": [],
   "source": [
    "#If you want to delete the data in a row, it can be done by a single comman\n",
    "\n",
    "row.flush_row_data()\n",
    "\n",
    "\n"
   ]
  },
  {
   "cell_type": "code",
   "execution_count": 9,
   "metadata": {},
   "outputs": [],
   "source": [
    "import xlwt\n",
    "x=1\n",
    "y=2\n",
    "z=3\n",
    "list1=[2.34,4.346,4.234]\n",
    "\n",
    "book = xlwt.Workbook(encoding=\"utf-8\")\n",
    "\n",
    "sheet1 = book.add_sheet(\"Sheet 1\")\n",
    "sheet2 = book.add_sheet(\"Sandeep\")\n",
    "\n",
    "\n",
    "sheet1.write(0, 0, \"Display\")\n",
    "sheet1.write(1, 0, \"Dominance\")\n",
    "sheet1.write(2, 0, \"Test\")\n",
    "\n",
    "sheet1.write(0, 1, x)\n",
    "sheet1.write(1, 1, y)\n",
    "sheet1.write(2, 1, z)\n",
    "\n",
    "sheet1.write(4, 0, \"Stimulus Time\")\n",
    "sheet1.write(4, 1, \"Reaction Time\")\n",
    "\n",
    "i=4\n",
    "\n",
    "for n in list1:\n",
    "    i = i+1\n",
    "    sheet1.write(i, 0, n)\n",
    "\n",
    "\n",
    "\n",
    "book.save(\"trial1.xls\")"
   ]
  },
  {
   "cell_type": "code",
   "execution_count": 30,
   "metadata": {},
   "outputs": [
    {
     "name": "stdout",
     "output_type": "stream",
     "text": [
      "ggod\n"
     ]
    }
   ],
   "source": [
    "import xlwt\n",
    "\n",
    "def output(filename, sheet, list1, list2, x, y, z):\n",
    "    book = xlwt.Workbook()\n",
    "    sh = book.add_sheet(sheet)\n",
    "\n",
    "    variables = [x, y, z]\n",
    "    x_desc = 'Display'\n",
    "    y_desc = 'Dominance'\n",
    "    z_desc = 'Test'\n",
    "    desc = [x_desc, y_desc, z_desc]\n",
    "\n",
    "    col1_name = 'Stimulus Time'\n",
    "    col2_name = 'Reaction Time'\n",
    "\n",
    "    #You may need to group the variables together\n",
    "    #for n, (v_desc, v) in enumerate(zip(desc, variables)):\n",
    "    for n, v_desc, v in enumerate(zip(desc, variables)):\n",
    "        sh.write(n, 0, v_desc)\n",
    "        sh.write(n, 1, v)\n",
    "\n",
    "    n+=1\n",
    "\n",
    "    sh.write(n, 0, col1_name)\n",
    "    sh.write(n, 1, col2_name)\n",
    "\n",
    "    for m, e1 in enumerate(list1, n+1):\n",
    "        sh.write(m, 0, e1)\n",
    "\n",
    "    for m, e2 in enumerate(list2, n+1):\n",
    "        sh.write(m, 1, e2)\n",
    "\n",
    "    book.save(filename)\n",
    "print(\"ggod\")"
   ]
  },
  {
   "cell_type": "code",
   "execution_count": 32,
   "metadata": {},
   "outputs": [
    {
     "data": {
      "text/plain": [
       "'C:\\\\Users\\\\HP\\\\PYTHON BASICS&DATA STRUCTURES'"
      ]
     },
     "execution_count": 32,
     "metadata": {},
     "output_type": "execute_result"
    }
   ],
   "source": [
    "import os\n",
    "os.getcwd()"
   ]
  },
  {
   "cell_type": "code",
   "execution_count": 21,
   "metadata": {},
   "outputs": [],
   "source": [
    "import os\n",
    "os.chdir(\"C:/Users/HP/Desktop\")"
   ]
  },
  {
   "cell_type": "code",
   "execution_count": 24,
   "metadata": {},
   "outputs": [
    {
     "data": {
      "text/plain": [
       "'C:\\\\Users\\\\HP\\\\Desktop'"
      ]
     },
     "execution_count": 24,
     "metadata": {},
     "output_type": "execute_result"
    }
   ],
   "source": [
    "import os\n",
    "os.getcwd()"
   ]
  },
  {
   "cell_type": "code",
   "execution_count": 32,
   "metadata": {},
   "outputs": [
    {
     "ename": "IndexError",
     "evalue": "list index out of range",
     "output_type": "error",
     "traceback": [
      "\u001b[1;31m---------------------------------------------------------------------------\u001b[0m",
      "\u001b[1;31mIndexError\u001b[0m                                Traceback (most recent call last)",
      "\u001b[1;32m<ipython-input-32-c281631ee1ad>\u001b[0m in \u001b[0;36m<module>\u001b[1;34m()\u001b[0m\n\u001b[0;32m      5\u001b[0m \u001b[1;33m\u001b[0m\u001b[0m\n\u001b[0;32m      6\u001b[0m \u001b[1;33m\u001b[0m\u001b[0m\n\u001b[1;32m----> 7\u001b[1;33m \u001b[0mbook\u001b[0m\u001b[1;33m.\u001b[0m\u001b[0msave\u001b[0m\u001b[1;33m(\u001b[0m\u001b[1;34m\"trial3.xls\"\u001b[0m\u001b[1;33m)\u001b[0m\u001b[1;33m\u001b[0m\u001b[0m\n\u001b[0m",
      "\u001b[1;32m~\\Anaconda3\\lib\\site-packages\\xlwt\\Workbook.py\u001b[0m in \u001b[0;36msave\u001b[1;34m(self, filename_or_stream)\u001b[0m\n\u001b[0;32m    708\u001b[0m \u001b[1;33m\u001b[0m\u001b[0m\n\u001b[0;32m    709\u001b[0m         \u001b[0mdoc\u001b[0m \u001b[1;33m=\u001b[0m \u001b[0mCompoundDoc\u001b[0m\u001b[1;33m.\u001b[0m\u001b[0mXlsDoc\u001b[0m\u001b[1;33m(\u001b[0m\u001b[1;33m)\u001b[0m\u001b[1;33m\u001b[0m\u001b[0m\n\u001b[1;32m--> 710\u001b[1;33m         \u001b[0mdoc\u001b[0m\u001b[1;33m.\u001b[0m\u001b[0msave\u001b[0m\u001b[1;33m(\u001b[0m\u001b[0mfilename_or_stream\u001b[0m\u001b[1;33m,\u001b[0m \u001b[0mself\u001b[0m\u001b[1;33m.\u001b[0m\u001b[0mget_biff_data\u001b[0m\u001b[1;33m(\u001b[0m\u001b[1;33m)\u001b[0m\u001b[1;33m)\u001b[0m\u001b[1;33m\u001b[0m\u001b[0m\n\u001b[0m\u001b[0;32m    711\u001b[0m \u001b[1;33m\u001b[0m\u001b[0m\n\u001b[0;32m    712\u001b[0m \u001b[1;33m\u001b[0m\u001b[0m\n",
      "\u001b[1;32m~\\Anaconda3\\lib\\site-packages\\xlwt\\Workbook.py\u001b[0m in \u001b[0;36mget_biff_data\u001b[1;34m(self)\u001b[0m\n\u001b[0;32m    678\u001b[0m         \u001b[0meof\u001b[0m \u001b[1;33m=\u001b[0m \u001b[0mself\u001b[0m\u001b[1;33m.\u001b[0m\u001b[0m__eof_rec\u001b[0m\u001b[1;33m(\u001b[0m\u001b[1;33m)\u001b[0m\u001b[1;33m\u001b[0m\u001b[0m\n\u001b[0;32m    679\u001b[0m \u001b[1;33m\u001b[0m\u001b[0m\n\u001b[1;32m--> 680\u001b[1;33m         \u001b[0mself\u001b[0m\u001b[1;33m.\u001b[0m\u001b[0m__worksheets\u001b[0m\u001b[1;33m[\u001b[0m\u001b[0mself\u001b[0m\u001b[1;33m.\u001b[0m\u001b[0m__active_sheet\u001b[0m\u001b[1;33m]\u001b[0m\u001b[1;33m.\u001b[0m\u001b[0mselected\u001b[0m \u001b[1;33m=\u001b[0m \u001b[1;32mTrue\u001b[0m\u001b[1;33m\u001b[0m\u001b[0m\n\u001b[0m\u001b[0;32m    681\u001b[0m         \u001b[0msheets\u001b[0m \u001b[1;33m=\u001b[0m \u001b[1;34mb''\u001b[0m\u001b[1;33m\u001b[0m\u001b[0m\n\u001b[0;32m    682\u001b[0m         \u001b[0msheet_biff_lens\u001b[0m \u001b[1;33m=\u001b[0m \u001b[1;33m[\u001b[0m\u001b[1;33m]\u001b[0m\u001b[1;33m\u001b[0m\u001b[0m\n",
      "\u001b[1;31mIndexError\u001b[0m: list index out of range"
     ]
    }
   ],
   "source": [
    "import xlwt\n",
    "\n",
    "book = xlwt.Workbook(encoding=\"utf-8\")\n",
    "\n",
    "\n",
    "\n",
    "book.save(\"trial3.xls\")"
   ]
  },
  {
   "cell_type": "code",
   "execution_count": 34,
   "metadata": {},
   "outputs": [
    {
     "ename": "AttributeError",
     "evalue": "module 'xlrd' has no attribute 'open_Workbook'",
     "output_type": "error",
     "traceback": [
      "\u001b[1;31m---------------------------------------------------------------------------\u001b[0m",
      "\u001b[1;31mAttributeError\u001b[0m                            Traceback (most recent call last)",
      "\u001b[1;32m<ipython-input-34-c22c50bfbcf1>\u001b[0m in \u001b[0;36m<module>\u001b[1;34m()\u001b[0m\n\u001b[0;32m      1\u001b[0m \u001b[1;32mimport\u001b[0m \u001b[0mxlrd\u001b[0m\u001b[1;33m\u001b[0m\u001b[0m\n\u001b[0;32m      2\u001b[0m \u001b[1;33m\u001b[0m\u001b[0m\n\u001b[1;32m----> 3\u001b[1;33m \u001b[0mbook\u001b[0m \u001b[1;33m=\u001b[0m \u001b[0mxlrd\u001b[0m\u001b[1;33m.\u001b[0m\u001b[0mopen_Workbook\u001b[0m\u001b[1;33m(\u001b[0m\u001b[1;34m\"trial4.xls\"\u001b[0m\u001b[1;33m)\u001b[0m\u001b[1;33m\u001b[0m\u001b[0m\n\u001b[0m\u001b[0;32m      4\u001b[0m \u001b[0mbook\u001b[0m\u001b[1;33m.\u001b[0m\u001b[0msave\u001b[0m\u001b[1;33m(\u001b[0m\u001b[1;34m\"trial4.xls\"\u001b[0m\u001b[1;33m)\u001b[0m\u001b[1;33m\u001b[0m\u001b[0m\n",
      "\u001b[1;31mAttributeError\u001b[0m: module 'xlrd' has no attribute 'open_Workbook'"
     ]
    }
   ],
   "source": [
    "import xlrd\n",
    "\n",
    "book = xlrd.open_Workbook(\"trial4.xls\")\n",
    "book.save(\"trial4.xls\")"
   ]
  },
  {
   "cell_type": "code",
   "execution_count": null,
   "metadata": {},
   "outputs": [],
   "source": []
  }
 ],
 "metadata": {
  "kernelspec": {
   "display_name": "Python 3",
   "language": "python",
   "name": "python3"
  },
  "language_info": {
   "codemirror_mode": {
    "name": "ipython",
    "version": 3
   },
   "file_extension": ".py",
   "mimetype": "text/x-python",
   "name": "python",
   "nbconvert_exporter": "python",
   "pygments_lexer": "ipython3",
   "version": "3.6.5"
  }
 },
 "nbformat": 4,
 "nbformat_minor": 2
}
