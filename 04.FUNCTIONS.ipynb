{
 "cells": [
  {
   "cell_type": "markdown",
   "metadata": {},
   "source": [
    "# File Operations(I/O)"
   ]
  },
  {
   "cell_type": "code",
   "execution_count": 16,
   "metadata": {},
   "outputs": [
    {
     "name": "stdout",
     "output_type": "stream",
     "text": [
      "C:\\Users\\HP\\PYTHON BASICS&DATA STRUCTURES\n"
     ]
    }
   ],
   "source": [
    "import os\n",
    "print(os.getcwd())"
   ]
  },
  {
   "cell_type": "code",
   "execution_count": 54,
   "metadata": {},
   "outputs": [
    {
     "name": "stdout",
     "output_type": "stream",
     "text": [
      "\"\",\"speed\",\"dist\"\n",
      "\"1\",4,2\n",
      "\"2\",4,10\n",
      "\"3\",7,4\n",
      "\"4\",7,22\n",
      "\"5\",8,16\n",
      "\"6\",9,10\n",
      "\"7\",10,18\n",
      "\"8\",10,26\n",
      "\"9\",10,34\n",
      "\"10\",11,17\n",
      "\"11\",11,28\n",
      "\"12\",12,14\n",
      "\"13\",12,20\n",
      "\"14\",12,24\n",
      "\"15\",12,28\n",
      "\"16\",13,26\n",
      "\"17\",13,34\n",
      "\"18\",13,34\n",
      "\"19\",13,46\n",
      "\"20\",14,26\n",
      "\"21\",14,36\n",
      "\"22\",14,60\n",
      "\"23\",14,80\n",
      "\"24\",15,20\n",
      "\"25\",15,26\n",
      "\"26\",15,54\n",
      "\"27\",16,32\n",
      "\"28\",16,40\n",
      "\"29\",17,32\n",
      "\"30\",17,40\n",
      "\"31\",17,50\n",
      "\"32\",18,42\n",
      "\"33\",18,56\n",
      "\"34\",18,76\n",
      "\"35\",18,84\n",
      "\"36\",19,36\n",
      "\"37\",19,46\n",
      "\"38\",19,68\n",
      "\"39\",20,32\n",
      "\"40\",20,48\n",
      "\"41\",20,52\n",
      "\"42\",20,56\n",
      "\"43\",20,64\n",
      "\"44\",22,66\n",
      "\"45\",23,54\n",
      "\"46\",24,70\n",
      "\"47\",24,92\n",
      "\"48\",24,93\n",
      "\"49\",24,120\n",
      "\"50\",25,85\n",
      "\n"
     ]
    }
   ],
   "source": [
    "f = open(\"test_cars.csv\",'r',encoding = 'utf-8')\n",
    "#f.read() prints zigzag data \n",
    "print(f.read())"
   ]
  },
  {
   "cell_type": "code",
   "execution_count": 56,
   "metadata": {},
   "outputs": [],
   "source": [
    "for lines in f:\n",
    "    print(lines,end=\"\")"
   ]
  },
  {
   "cell_type": "code",
   "execution_count": 72,
   "metadata": {},
   "outputs": [
    {
     "name": "stdout",
     "output_type": "stream",
     "text": [
      "This is my first file\n",
      "This file\n",
      "contains three lines\n"
     ]
    }
   ],
   "source": [
    "f= open(\"text.txt\",'r',encoding = 'utf-8')\n",
    "print(f.read())\n",
    "f.close()"
   ]
  },
  {
   "cell_type": "code",
   "execution_count": 60,
   "metadata": {},
   "outputs": [
    {
     "data": {
      "text/plain": [
       "''"
      ]
     },
     "execution_count": 60,
     "metadata": {},
     "output_type": "execute_result"
    }
   ],
   "source": [
    "f.readline()"
   ]
  },
  {
   "cell_type": "code",
   "execution_count": 53,
   "metadata": {},
   "outputs": [],
   "source": [
    "for lines in f:\n",
    "    print(lines,end=\"\")"
   ]
  },
  {
   "cell_type": "code",
   "execution_count": 24,
   "metadata": {},
   "outputs": [
    {
     "data": {
      "text/plain": [
       "'(30-1102018)\\nPIVOT TABLES & TABLEAU\\n(01-12-2018)\\nHLOOKUP & VLOOKUP\\nVLOOKUP =VLOOKUP(CURRENT PATH,ENTIRE COPY,COLUMN NUMBER OF SELECTED ONE,TRUE VALUE)\\nHLOOKUP =HLOOKUP(CURRENT CELL,ENTIRE COPY,ROW NUMBER OF SELECTED ONE,TRUE VALUE)\\nCONCATENATE\\t=CONCATENATE(COPY FIRST ,COPY SECOND)\\n(03-12-2018)\\ncreate a report using global superstone data where sales broken data by market categeory versus sub cayeogery \\ngenerate a report where sales profit and quanity broken down by market for the countries albaria, japan, austria, usa  in excel\\ngenerate a report for the sales trend on order date in tableau\\ngenerate average shipping cost broken down by categeory versus market and shipping mode\\nlist down the no of customers for every region for every market\\n(04-12-2018)\\nR IS DEVELOPED BY  ROSS IHAKA AND ROBERT GENTLEMAN AT DEPT. OF STATISTICS\\n(05-12-2018)\\nctrl+shift+c   comment\\nctrl+enter    exicute\\nf\\nhelp(text) gives notes of particular text\\n?text()  dictionary of r local\\n??test()  dictionary of google\\nstack overflow  any quiries\\nIDLE-interactive development language program\\njupyter\\npython idle\\npycharm\\nspyder\\n'"
      ]
     },
     "execution_count": 24,
     "metadata": {},
     "output_type": "execute_result"
    }
   ],
   "source": [
    "f = open(\"Notes.txt\",'r',encoding = 'utf-8')\n",
    "f.read()"
   ]
  },
  {
   "cell_type": "code",
   "execution_count": 50,
   "metadata": {},
   "outputs": [
    {
     "name": "stdout",
     "output_type": "stream",
     "text": [
      "603\n",
      "0\n"
     ]
    }
   ],
   "source": [
    "print(f.tell())    # get the current file position\n",
    "print(f.seek(0))   # bring file cursor to initial position"
   ]
  },
  {
   "cell_type": "code",
   "execution_count": 51,
   "metadata": {},
   "outputs": [
    {
     "name": "stdout",
     "output_type": "stream",
     "text": [
      "\"\",\"speed\",\"dist\"\n",
      "\"1\",4,2\n",
      "\"2\",4,10\n",
      "\"3\",7,4\n",
      "\"4\",7,22\n",
      "\"5\",8,16\n",
      "\"6\",9,10\n",
      "\"7\",10,18\n",
      "\"8\",10,26\n",
      "\"9\",10,34\n",
      "\"10\",11,17\n",
      "\"11\",11,28\n",
      "\"12\",12,14\n",
      "\"13\",12,20\n",
      "\"14\",12,24\n",
      "\"15\",12,28\n",
      "\"16\",13,26\n",
      "\"17\",13,34\n",
      "\"18\",13,34\n",
      "\"19\",13,46\n",
      "\"20\",14,26\n",
      "\"21\",14,36\n",
      "\"22\",14,60\n",
      "\"23\",14,80\n",
      "\"24\",15,20\n",
      "\"25\",15,26\n",
      "\"26\",15,54\n",
      "\"27\",16,32\n",
      "\"28\",16,40\n",
      "\"29\",17,32\n",
      "\"30\",17,40\n",
      "\"31\",17,50\n",
      "\"32\",18,42\n",
      "\"33\",18,56\n",
      "\"34\",18,76\n",
      "\"35\",18,84\n",
      "\"36\",19,36\n",
      "\"37\",19,46\n",
      "\"38\",19,68\n",
      "\"39\",20,32\n",
      "\"40\",20,48\n",
      "\"41\",20,52\n",
      "\"42\",20,56\n",
      "\"43\",20,64\n",
      "\"44\",22,66\n",
      "\"45\",23,54\n",
      "\"46\",24,70\n",
      "\"47\",24,92\n",
      "\"48\",24,93\n",
      "\"49\",24,120\n",
      "\"50\",25,85\n"
     ]
    }
   ],
   "source": [
    "for lines in f:\n",
    "    print(lines,end=\"\")"
   ]
  },
  {
   "cell_type": "code",
   "execution_count": 61,
   "metadata": {},
   "outputs": [
    {
     "name": "stdout",
     "output_type": "stream",
     "text": [
      "Name of the file:  foo.txt\n",
      "Closed or not :  False\n",
      "Opening mode :  wb\n"
     ]
    }
   ],
   "source": [
    "#wtitng\n",
    "# Open a file\n",
    "fo = open(\"foo.txt\", \"wb\")\n",
    "print (\"Name of the file: \", fo.name)\n",
    "print (\"Closed or not : \", fo.closed)\n",
    "print (\"Opening mode : \", fo.mode)\n",
    "fo.close()"
   ]
  },
  {
   "cell_type": "code",
   "execution_count": 63,
   "metadata": {},
   "outputs": [],
   "source": [
    "# Open a file\n",
    "fo = open(\"foo.txt\", \"w\")\n",
    "fo.write( \"Python is a great language.\\nYeah its great!!\\n\")\n",
    "# Close opend file\n",
    "fo.close()"
   ]
  },
  {
   "cell_type": "code",
   "execution_count": 1,
   "metadata": {},
   "outputs": [
    {
     "name": "stdout",
     "output_type": "stream",
     "text": [
      "Read String is :  Python is a great language.\n",
      "Yeah its great!!\n",
      "\n"
     ]
    }
   ],
   "source": [
    "#reading\n",
    "# Open a file\n",
    "fo = open(\"foo.txt\", \"r+\")\n",
    "str = fo.read()\n",
    "print (\"Read String is : \", str)\n",
    "# Close opened file\n",
    "fo.close()"
   ]
  },
  {
   "cell_type": "code",
   "execution_count": 68,
   "metadata": {},
   "outputs": [
    {
     "name": "stdout",
     "output_type": "stream",
     "text": [
      "Read String is :  Python is \n",
      "Current file position :  10\n",
      "Again read String is :  Python is \n"
     ]
    }
   ],
   "source": [
    "#!/usr/bin/python3\n",
    "# Open a file\n",
    "fo = open(\"foo.txt\", \"r+\")\n",
    "str = fo.read(10)\n",
    "print (\"Read String is : \", str)\n",
    "\n",
    "# Check current position\n",
    "position = fo.tell()\n",
    "print (\"Current file position : \", position)\n",
    "\n",
    "# Reposition pointer at the beginning once again\n",
    "position = fo.seek(0, 0)\n",
    "str = fo.read(10)\n",
    "print (\"Again read String is : \", str)\n",
    "\n",
    "# Close opened file\n",
    "fo.close()"
   ]
  },
  {
   "cell_type": "code",
   "execution_count": 76,
   "metadata": {},
   "outputs": [],
   "source": [
    "# Rename a file from test1.txt to test2.txt\n",
    "import os\n",
    "os.rename( \"san.txt\", \"test2.txt\" )"
   ]
  },
  {
   "cell_type": "code",
   "execution_count": 77,
   "metadata": {},
   "outputs": [],
   "source": [
    "import os\n",
    "\n",
    "# Delete file test2.txt\n",
    "os.remove(\"test2.txt\")"
   ]
  },
  {
   "cell_type": "markdown",
   "metadata": {},
   "source": [
    "# directories in python"
   ]
  },
  {
   "cell_type": "code",
   "execution_count": 2,
   "metadata": {},
   "outputs": [
    {
     "name": "stdout",
     "output_type": "stream",
     "text": [
      "C:\\Users\\HP\\PYTHON BASICS&DATA STRUCTURES\n"
     ]
    },
    {
     "ename": "FileNotFoundError",
     "evalue": "[WinError 2] The system cannot find the file specified: 'C:/PythonPractice'",
     "output_type": "error",
     "traceback": [
      "\u001b[1;31m---------------------------------------------------------------------------\u001b[0m",
      "\u001b[1;31mFileNotFoundError\u001b[0m                         Traceback (most recent call last)",
      "\u001b[1;32m<ipython-input-2-6f485bd06f14>\u001b[0m in \u001b[0;36m<module>\u001b[1;34m()\u001b[0m\n\u001b[0;32m      1\u001b[0m \u001b[1;32mimport\u001b[0m \u001b[0mos\u001b[0m\u001b[1;33m\u001b[0m\u001b[0m\n\u001b[0;32m      2\u001b[0m \u001b[0mprint\u001b[0m\u001b[1;33m(\u001b[0m\u001b[0mos\u001b[0m\u001b[1;33m.\u001b[0m\u001b[0mgetcwd\u001b[0m\u001b[1;33m(\u001b[0m\u001b[1;33m)\u001b[0m\u001b[1;33m)\u001b[0m\u001b[1;31m#prints current working directory\u001b[0m\u001b[1;33m\u001b[0m\u001b[0m\n\u001b[1;32m----> 3\u001b[1;33m \u001b[0mprint\u001b[0m\u001b[1;33m(\u001b[0m\u001b[0mos\u001b[0m\u001b[1;33m.\u001b[0m\u001b[0mchdir\u001b[0m\u001b[1;33m(\u001b[0m\u001b[1;34m'C:/PythonPractice'\u001b[0m\u001b[1;33m)\u001b[0m\u001b[1;33m)\u001b[0m\u001b[1;31m#changing the working directory\u001b[0m\u001b[1;33m\u001b[0m\u001b[0m\n\u001b[0m\u001b[0;32m      4\u001b[0m \u001b[0mprint\u001b[0m\u001b[1;33m(\u001b[0m\u001b[0mos\u001b[0m\u001b[1;33m.\u001b[0m\u001b[0mrmdir\u001b[0m\u001b[1;33m(\u001b[0m \u001b[1;34m\"/tmp/test\"\u001b[0m  \u001b[1;33m)\u001b[0m\u001b[1;33m)\u001b[0m\u001b[1;31m#removes working directory\u001b[0m\u001b[1;33m\u001b[0m\u001b[0m\n\u001b[0;32m      5\u001b[0m \u001b[1;31m#before removing the directory remove all the content from current working directory\u001b[0m\u001b[1;33m\u001b[0m\u001b[1;33m\u001b[0m\u001b[0m\n",
      "\u001b[1;31mFileNotFoundError\u001b[0m: [WinError 2] The system cannot find the file specified: 'C:/PythonPractice'"
     ]
    }
   ],
   "source": [
    "import os\n",
    "print(os.getcwd())#prints current working directory\n",
    "print(os.chdir('C:/PythonPractice'))#changing the working directory\n",
    "print(os.rmdir( \"/tmp/test\"  ))#removes working directory\n",
    "#before removing the directory remove all the content from current working directory\n"
   ]
  },
  {
   "cell_type": "code",
   "execution_count": null,
   "metadata": {},
   "outputs": [],
   "source": []
  },
  {
   "cell_type": "code",
   "execution_count": null,
   "metadata": {},
   "outputs": [],
   "source": []
  }
 ],
 "metadata": {
  "kernelspec": {
   "display_name": "Python 3",
   "language": "python",
   "name": "python3"
  },
  "language_info": {
   "codemirror_mode": {
    "name": "ipython",
    "version": 3
   },
   "file_extension": ".py",
   "mimetype": "text/x-python",
   "name": "python",
   "nbconvert_exporter": "python",
   "pygments_lexer": "ipython3",
   "version": "3.6.5"
  }
 },
 "nbformat": 4,
 "nbformat_minor": 2
}
